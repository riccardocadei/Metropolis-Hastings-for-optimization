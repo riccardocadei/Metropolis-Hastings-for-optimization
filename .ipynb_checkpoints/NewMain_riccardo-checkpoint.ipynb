{
 "cells": [
  {
   "cell_type": "code",
   "execution_count": 1,
   "metadata": {},
   "outputs": [],
   "source": [
    "from DatasetGenerator import *\n",
    "from helpers import *\n",
    "from markov_algos import *\n",
    "from plots import *\n",
    "\n",
    "from time import time"
   ]
  },
  {
   "cell_type": "markdown",
   "metadata": {},
   "source": [
    "## Testing the implementation"
   ]
  },
  {
   "cell_type": "code",
   "execution_count": 4,
   "metadata": {},
   "outputs": [],
   "source": [
    "def testing_metropolis(data, betas, lambda_, n_iter):\n",
    "    n, coords, pop = data.N, data.x, data.v\n",
    "    \n",
    "    print('most crowded city:', np.argwhere(pop == np.max(pop)))\n",
    "    print(f(np.argwhere(pop == np.max(pop))[0], lambda_, data))\n",
    "    \n",
    "    S_approx = simulated_annealing(betas, n_iter, lambda_, data, verbose=True)\n",
    "    \n",
    "    print('S~:', S_approx)\n",
    "    print('size of S~:', len(S_approx))\n",
    "    print(f(S_approx, lambda_, data))"
   ]
  },
  {
   "cell_type": "code",
   "execution_count": 5,
   "metadata": {},
   "outputs": [
    {
     "name": "stdout",
     "output_type": "stream",
     "text": [
      "most crowded city: [[10]]\n",
      "0.9670762836911957\n",
      "[step 1/7] Time spent on beta = 1.000 : 1.353 sec\n",
      "[step 2/7] Time spent on beta = 3.162 : 1.218 sec\n",
      "[step 3/7] Time spent on beta = 10.000 : 1.214 sec\n",
      "[step 4/7] Time spent on beta = 31.623 : 1.207 sec\n",
      "[step 5/7] Time spent on beta = 100.000 : 1.190 sec\n",
      "[step 6/7] Time spent on beta = 316.228 : 1.174 sec\n",
      "[step 7/7] Time spent on beta = 1000.000 : 1.177 sec\n",
      "S~: [13 63]\n",
      "size of S~: 2\n",
      "1.295606914715786\n"
     ]
    }
   ],
   "source": [
    "data = G1()  \n",
    "lambda_ = 100\n",
    "n_iter = 20000\n",
    "betas = np.logspace(0, 3, 7)\n",
    "testing_metropolis(data, betas, lambda_, n_iter)"
   ]
  },
  {
   "cell_type": "code",
   "execution_count": null,
   "metadata": {},
   "outputs": [],
   "source": [
    "lambda_ = 0\n",
    "n_iter = 1000\n",
    "testing_metropolis(data, np.logspace(0, 3, 7), lambda_, n_iter)"
   ]
  },
  {
   "cell_type": "code",
   "execution_count": null,
   "metadata": {},
   "outputs": [],
   "source": [
    "lambda_ = 100\n",
    "n_iter = 20000\n",
    "testing_metropolis(data, np.logspace(0, 3, 7), lambda_, n_iter)"
   ]
  },
  {
   "cell_type": "markdown",
   "metadata": {},
   "source": [
    "## Question 2.a "
   ]
  },
  {
   "cell_type": "code",
   "execution_count": null,
   "metadata": {},
   "outputs": [],
   "source": [
    "data = G1()\n",
    "n, coords, pop = data.N, data.x, data.v\n",
    "lambda_ = 0.5\n",
    "betas = np.logspace(0, 3, 7)"
   ]
  },
  {
   "cell_type": "code",
   "execution_count": null,
   "metadata": {},
   "outputs": [],
   "source": [
    "simulated_annealing(betas, n_iter, lambda_, data, verbose=True, plot_size=True)"
   ]
  },
  {
   "cell_type": "code",
   "execution_count": null,
   "metadata": {},
   "outputs": [],
   "source": [
    "simulated_annealing(betas, n_iter, lambda_, data, verbose=True, plot_obj=True)"
   ]
  },
  {
   "cell_type": "markdown",
   "metadata": {},
   "source": [
    "## Question 2.b\n",
    "\n",
    "1) Plotting E(|S*(lambda)|) for lambda in range [0.1, 10]"
   ]
  },
  {
   "cell_type": "code",
   "execution_count": null,
   "metadata": {},
   "outputs": [],
   "source": [
    "lambdas = np.logspace(-1, 0, 5)"
   ]
  },
  {
   "cell_type": "code",
   "execution_count": null,
   "metadata": {},
   "outputs": [],
   "source": [
    "plot_avg_size(G1, lambdas, betas, 2000, 5, verbose=True)"
   ]
  },
  {
   "cell_type": "code",
   "execution_count": null,
   "metadata": {},
   "outputs": [],
   "source": [
    "plot_avg_obj(G1, lambdas, betas, 2000, 5, verbose=True)"
   ]
  },
  {
   "cell_type": "markdown",
   "metadata": {},
   "source": [
    "## Same questions for model G2"
   ]
  },
  {
   "cell_type": "code",
   "execution_count": null,
   "metadata": {},
   "outputs": [],
   "source": [
    "data = G2()\n",
    "n, coords, pop = data.N, data.x, data.v\n",
    "lambda_ = 100\n",
    "betas = np.logspace(0, 3, 7)"
   ]
  },
  {
   "cell_type": "code",
   "execution_count": null,
   "metadata": {},
   "outputs": [],
   "source": [
    "simulated_annealing(betas, n_iter, lambda_, data, verbose=True, plot_size=True)"
   ]
  },
  {
   "cell_type": "code",
   "execution_count": null,
   "metadata": {},
   "outputs": [],
   "source": [
    "lambdas = np.linspace(0, 2, 5)\n",
    "\n",
    "plot_avg_obj(G2, lambdas, betas, 2000, 5, verbose=True)"
   ]
  },
  {
   "cell_type": "code",
   "execution_count": null,
   "metadata": {},
   "outputs": [],
   "source": [
    "lambdas = np.linspace(0, 2, 5)\n",
    "plot_avg_obj(G2, lambdas, betas, 2000, 5, verbose=True)"
   ]
  }
 ],
 "metadata": {
  "kernelspec": {
   "display_name": "Python 3",
   "language": "python",
   "name": "python3"
  },
  "language_info": {
   "codemirror_mode": {
    "name": "ipython",
    "version": 3
   },
   "file_extension": ".py",
   "mimetype": "text/x-python",
   "name": "python",
   "nbconvert_exporter": "python",
   "pygments_lexer": "ipython3",
   "version": "3.8.3"
  }
 },
 "nbformat": 4,
 "nbformat_minor": 4
}
