{
 "cells": [
  {
   "cell_type": "code",
   "execution_count": 2,
   "metadata": {},
   "outputs": [],
   "source": [
    "from DatasetGenerator import *\n",
    "from helpers import *\n",
    "from markov_algos import *\n",
    "from plots import *\n",
    "\n",
    "import numpy as np\n",
    "import pandas as pd\n",
    "from time import time\n",
    "\n",
    "%load_ext autoreload\n",
    "%autoreload"
   ]
  },
  {
   "cell_type": "markdown",
   "metadata": {},
   "source": [
    "In the report :\n",
    " - say why we choose starting point to be only most crowded city\n",
    " - why log for beta is good instead of linspace\n",
    " "
   ]
  },
  {
   "cell_type": "markdown",
   "metadata": {},
   "source": [
    "# Tuning of parameters\n",
    "\n",
    "We fix the total number of iterations to be `total_n_iter = 1000000`.\n",
    "We will tune the parameters only for G1."
   ]
  },
  {
   "cell_type": "code",
   "execution_count": null,
   "metadata": {},
   "outputs": [],
   "source": [
    "%%time\n",
    "datas = [G1() for i in range(3)]\n",
    "\n",
    "lambda_ = 0.5\n",
    "total_n_iter = 1000000\n",
    "\n",
    "max_beta = [3, 4, 5] # 10-th power\n",
    "nb_beta = [5, 7, 10, 13]\n",
    "n_iter_range = [total_n_iter // b_nb for b_nb in nb_beta]\n",
    "\n",
    "df = pd.DataFrame(columns=['max beta', 'nb beta', 'avg max obj', 'avg size of S'])\n",
    "\n",
    "for b_max in max_beta:\n",
    "    for i, b_nb in enumerate(nb_beta):\n",
    "        betas = np.logspace(0, b_max, b_nb)\n",
    "        n_iter = n_iter_range[i]\n",
    "\n",
    "        avg_obj, avg_size = avg(datas, betas, lambda_, n_iter)\n",
    "        res = {'max beta':b_max, 'nb beta':b_nb, 'avg max obj':avg_obj, 'avg size of S':avg_size}\n",
    "        df = df.append(res, ignore_index=True)\n",
    "\n",
    "df.to_csv('plots/betas.csv', index=False)\n",
    "df"
   ]
  },
  {
   "cell_type": "code",
   "execution_count": null,
   "metadata": {},
   "outputs": [],
   "source": [
    "best_max_beta = df[df['avg max obj'] == best_obj].iloc[:,0].tolist()[0]\n",
    "\n",
    "obj_range = df[df['max beta'] == best_max_beta].iloc[:,2].tolist()\n",
    "size_range = df[df['max beta'] == best_max_beta].iloc[:,3].tolist()\n",
    "\n",
    "fig, ax = plt.subplots()\n",
    "ax.plot(n_iter_range, obj_range, color='blue', marker='o', ls=':')\n",
    "ax2 = ax.twinx()\n",
    "ax2.plot(n_iter_range, size_range, color='red', marker='o', ls=':')\n",
    "\n",
    "ax.set_title(\"Evolution of the approximate maximum with respect to\"\n",
    "             + \"\\n the number of iteration per Metropolis-Hastings algorithm.\", fontsize=16)\n",
    "ax.set_xlabel(\"Number of steps per Metropolis-Hastings algorithm\", fontsize=14)\n",
    "ax.set_ylabel(\"Maximum objectif function\", color='blue', fontsize=14)\n",
    "ax2.set_ylabel(\"Optimal number of cities\", color='red', fontsize=14)\n",
    "fig.show()"
   ]
  },
  {
   "cell_type": "markdown",
   "metadata": {},
   "source": [
    "# Ploting the evolution of the Markov chain during the simulated annealing process (with G1, Q2.a)"
   ]
  },
  {
   "cell_type": "code",
   "execution_count": null,
   "metadata": {},
   "outputs": [],
   "source": [
    "data = G1()\n",
    "\n",
    "lambda_ = 0.5\n",
    "starting_state = np.zeros(data.N) # to change\n",
    "\n",
    "# to change after tuning  beta done\n",
    "n_iter = 50000 # to change\n",
    "betas = np.logspace(0, 4, 7) # to change\n",
    "\n",
    "S_approx = simulated_annealing(starting_state, betas, n_iter, lambda_, data, verbose=True, plot=True)"
   ]
  },
  {
   "cell_type": "markdown",
   "metadata": {},
   "source": [
    "# Ploting the evolution of the average approximation with respect to lambda  (with G1, Q2.b)"
   ]
  },
  {
   "cell_type": "code",
   "execution_count": null,
   "metadata": {},
   "outputs": [],
   "source": [
    "G = G1 \n",
    "nb_instances = 5\n",
    "lambdas = np.linspace(0, 1, 10)\n",
    "\n",
    "# to change after tuning  beta done\n",
    "betas = np.linspace(0, 4, 10)\n",
    "n_iter = 10000\n",
    "\n",
    "plot_avg_lambda(G, lambdas, betas, n_iter, nb_instances, verbose=False)"
   ]
  },
  {
   "cell_type": "markdown",
   "metadata": {},
   "source": [
    "# Ploting the evolution of the Markov chain during the simulated annealing process (with G2, Q3.a)"
   ]
  },
  {
   "cell_type": "code",
   "execution_count": null,
   "metadata": {},
   "outputs": [],
   "source": [
    "data = G2()\n",
    "\n",
    "lambda_ = 1\n",
    "starting_state = np.zeros(data.N) # to change\n",
    "\n",
    "# to change after tuning  beta done\n",
    "n_iter = 50000 # to change\n",
    "betas = np.logspace(0, 4, 7) # to change\n",
    "\n",
    "S_approx = simulated_annealing(starting_state, betas, n_iter, lambda_, data, verbose=True, plot=True)"
   ]
  },
  {
   "cell_type": "markdown",
   "metadata": {},
   "source": [
    "# Ploting the evolution of the average approximation with respect to lambda  (with G2, Q3.b)"
   ]
  },
  {
   "cell_type": "code",
   "execution_count": null,
   "metadata": {},
   "outputs": [],
   "source": [
    "G = G2\n",
    "nb_instances = 5\n",
    "lambdas = np.linspace(0, 2, 10)\n",
    "\n",
    "# to change after tuning  beta done\n",
    "betas = np.linspace(0, 4, 10)\n",
    "n_iter = 10000\n",
    "\n",
    "plot_avg_lambda(G, lambdas, betas, n_iter, nb_instances, verbose=False)"
   ]
  }
 ],
 "metadata": {
  "kernelspec": {
   "display_name": "Python 3",
   "language": "python",
   "name": "python3"
  },
  "language_info": {
   "codemirror_mode": {
    "name": "ipython",
    "version": 3
   },
   "file_extension": ".py",
   "mimetype": "text/x-python",
   "name": "python",
   "nbconvert_exporter": "python",
   "pygments_lexer": "ipython3",
   "version": "3.8.3"
  }
 },
 "nbformat": 4,
 "nbformat_minor": 4
}
