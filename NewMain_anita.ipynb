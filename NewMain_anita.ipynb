{
 "cells": [
  {
   "cell_type": "code",
   "execution_count": 1,
   "metadata": {},
   "outputs": [],
   "source": [
    "from DatasetGenerator import *\n",
    "from helpers import *\n",
    "from markov_algos import *\n",
    "from plots import *\n",
    "\n",
    "from time import time\n",
    "\n",
    "%load_ext autoreload\n",
    "%autoreload"
   ]
  },
  {
   "cell_type": "markdown",
   "metadata": {},
   "source": [
    "## Testing the implementation"
   ]
  },
  {
   "cell_type": "code",
   "execution_count": 2,
   "metadata": {},
   "outputs": [],
   "source": [
    "def testing_metropolis(data, betas, lambda_, n_iter):\n",
    "    n, coords, pop = data.N, data.x, data.v\n",
    "    starting_state = np.random.randint(0, 2, data.N)\n",
    "    \n",
    "    S_approx = simulated_annealing(starting_state, betas, n_iter, lambda_, data)\n",
    "    most_crowded_cities = np.argwhere(pop == np.max(pop))\n",
    "    \n",
    "    print('S~:', S_approx)\n",
    "    print('size of S~:', len(S_approx))\n",
    "    print('f(S~):', f(S_approx, lambda_, data))\n",
    "    print('most crowded city:', most_crowded_cities)\n",
    "    print('f({most crowed city}):', f(most_crowded_cities[0], lambda_, data))\n",
    "    return f(S_approx, lambda_, data)"
   ]
  },
  {
   "cell_type": "code",
   "execution_count": 3,
   "metadata": {},
   "outputs": [],
   "source": [
    "def evol_n_iter():\n",
    "    G = G1()  \n",
    "    lambda_ = 100\n",
    "    betas = np.logspace(0, 3, 7)\n",
    "    n_iter_range = np.linspace(200, 300, 2)\n",
    "    obj_range = []\n",
    "    for n_iter in n_iter_range: \n",
    "        res = avg_obj_S(G, betas, lambda_, n_iter, 2, verbose=False)\n",
    "        obj_range.append(res)\n",
    "    plt.plot(n_iter_range, obj_range)\n",
    "    plt.show()"
   ]
  },
  {
   "cell_type": "code",
   "execution_count": 4,
   "metadata": {},
   "outputs": [
    {
     "ename": "TypeError",
     "evalue": "'G1' object is not callable",
     "output_type": "error",
     "traceback": [
      "\u001b[0;31m---------------------------------------------------------------------------\u001b[0m",
      "\u001b[0;31mTypeError\u001b[0m                                 Traceback (most recent call last)",
      "\u001b[0;32m<ipython-input-4-0c605e5934ce>\u001b[0m in \u001b[0;36m<module>\u001b[0;34m\u001b[0m\n\u001b[0;32m----> 1\u001b[0;31m \u001b[0mevol_n_iter\u001b[0m\u001b[0;34m(\u001b[0m\u001b[0;34m)\u001b[0m\u001b[0;34m\u001b[0m\u001b[0;34m\u001b[0m\u001b[0m\n\u001b[0m",
      "\u001b[0;32m<ipython-input-3-3aae6eec9e96>\u001b[0m in \u001b[0;36mevol_n_iter\u001b[0;34m()\u001b[0m\n\u001b[1;32m      6\u001b[0m     \u001b[0mobj_range\u001b[0m \u001b[0;34m=\u001b[0m \u001b[0;34m[\u001b[0m\u001b[0;34m]\u001b[0m\u001b[0;34m\u001b[0m\u001b[0;34m\u001b[0m\u001b[0m\n\u001b[1;32m      7\u001b[0m     \u001b[0;32mfor\u001b[0m \u001b[0mn_iter\u001b[0m \u001b[0;32min\u001b[0m \u001b[0mn_iter_range\u001b[0m\u001b[0;34m:\u001b[0m\u001b[0;34m\u001b[0m\u001b[0;34m\u001b[0m\u001b[0m\n\u001b[0;32m----> 8\u001b[0;31m         \u001b[0mres\u001b[0m \u001b[0;34m=\u001b[0m \u001b[0mavg_obj_S\u001b[0m\u001b[0;34m(\u001b[0m\u001b[0mG\u001b[0m\u001b[0;34m,\u001b[0m \u001b[0mbetas\u001b[0m\u001b[0;34m,\u001b[0m \u001b[0mlambda_\u001b[0m\u001b[0;34m,\u001b[0m \u001b[0mn_iter\u001b[0m\u001b[0;34m,\u001b[0m \u001b[0;36m2\u001b[0m\u001b[0;34m,\u001b[0m \u001b[0mverbose\u001b[0m\u001b[0;34m=\u001b[0m\u001b[0;32mFalse\u001b[0m\u001b[0;34m)\u001b[0m\u001b[0;34m\u001b[0m\u001b[0;34m\u001b[0m\u001b[0m\n\u001b[0m\u001b[1;32m      9\u001b[0m         \u001b[0mobj_range\u001b[0m\u001b[0;34m.\u001b[0m\u001b[0mappend\u001b[0m\u001b[0;34m(\u001b[0m\u001b[0mres\u001b[0m\u001b[0;34m)\u001b[0m\u001b[0;34m\u001b[0m\u001b[0;34m\u001b[0m\u001b[0m\n\u001b[1;32m     10\u001b[0m     \u001b[0mplt\u001b[0m\u001b[0;34m.\u001b[0m\u001b[0mplot\u001b[0m\u001b[0;34m(\u001b[0m\u001b[0mn_iter_range\u001b[0m\u001b[0;34m,\u001b[0m \u001b[0mobj_range\u001b[0m\u001b[0;34m)\u001b[0m\u001b[0;34m\u001b[0m\u001b[0;34m\u001b[0m\u001b[0m\n",
      "\u001b[0;32m~/Documents/EPFL/markov_chains/aquarium/plots.py\u001b[0m in \u001b[0;36mavg_obj_S\u001b[0;34m(G, betas, lambda_, n_iter, nb_instances, verbose)\u001b[0m\n\u001b[1;32m     47\u001b[0m     \u001b[0mCompute\u001b[0m \u001b[0mthe\u001b[0m \u001b[0maverage\u001b[0m \u001b[0mvalue\u001b[0m \u001b[0mof\u001b[0m \u001b[0mthe\u001b[0m \u001b[0mobjective\u001b[0m \u001b[0mfunction\u001b[0m \u001b[0;32mfor\u001b[0m \u001b[0mthe\u001b[0m \u001b[0;34m(\u001b[0m\u001b[0mapproximated\u001b[0m\u001b[0;34m)\u001b[0m \u001b[0mbest\u001b[0m \u001b[0mset\u001b[0m \u001b[0mS\u001b[0m\u001b[0;34m.\u001b[0m\u001b[0;34m\u001b[0m\u001b[0;34m\u001b[0m\u001b[0m\n\u001b[1;32m     48\u001b[0m     \"\"\"\n\u001b[0;32m---> 49\u001b[0;31m     \u001b[0mlist_S_approx\u001b[0m\u001b[0;34m,\u001b[0m \u001b[0mlist_lambdas\u001b[0m\u001b[0;34m,\u001b[0m \u001b[0mlist_datas\u001b[0m \u001b[0;34m=\u001b[0m \u001b[0msample_S_approx\u001b[0m\u001b[0;34m(\u001b[0m\u001b[0mG\u001b[0m\u001b[0;34m,\u001b[0m \u001b[0mbetas\u001b[0m\u001b[0;34m,\u001b[0m \u001b[0mlambda_\u001b[0m\u001b[0;34m,\u001b[0m \u001b[0mn_iter\u001b[0m\u001b[0;34m,\u001b[0m \u001b[0mnb_instances\u001b[0m\u001b[0;34m,\u001b[0m \u001b[0mverbose\u001b[0m\u001b[0;34m)\u001b[0m\u001b[0;34m\u001b[0m\u001b[0;34m\u001b[0m\u001b[0m\n\u001b[0m\u001b[1;32m     50\u001b[0m     \u001b[0;32mreturn\u001b[0m \u001b[0mnp\u001b[0m\u001b[0;34m.\u001b[0m\u001b[0msum\u001b[0m\u001b[0;34m(\u001b[0m\u001b[0mlist\u001b[0m\u001b[0;34m(\u001b[0m\u001b[0mmap\u001b[0m\u001b[0;34m(\u001b[0m\u001b[0mf\u001b[0m\u001b[0;34m,\u001b[0m \u001b[0mlist_S_approx\u001b[0m\u001b[0;34m,\u001b[0m \u001b[0mlist_lambdas\u001b[0m\u001b[0;34m,\u001b[0m \u001b[0mlist_datas\u001b[0m\u001b[0;34m)\u001b[0m\u001b[0;34m)\u001b[0m\u001b[0;34m)\u001b[0m \u001b[0;34m/\u001b[0m \u001b[0mnb_instances\u001b[0m\u001b[0;34m\u001b[0m\u001b[0;34m\u001b[0m\u001b[0m\n\u001b[1;32m     51\u001b[0m \u001b[0;34m\u001b[0m\u001b[0m\n",
      "\u001b[0;32m~/Documents/EPFL/markov_chains/aquarium/plots.py\u001b[0m in \u001b[0;36msample_S_approx\u001b[0;34m(G, betas, lambda_, n_iter, nb_instances, verbose)\u001b[0m\n\u001b[1;32m     22\u001b[0m \u001b[0;34m\u001b[0m\u001b[0m\n\u001b[1;32m     23\u001b[0m     \u001b[0;32mfor\u001b[0m \u001b[0mk\u001b[0m \u001b[0;32min\u001b[0m \u001b[0mrange\u001b[0m\u001b[0;34m(\u001b[0m\u001b[0mnb_instances\u001b[0m\u001b[0;34m)\u001b[0m\u001b[0;34m:\u001b[0m\u001b[0;34m\u001b[0m\u001b[0;34m\u001b[0m\u001b[0m\n\u001b[0;32m---> 24\u001b[0;31m         \u001b[0mdata\u001b[0m \u001b[0;34m=\u001b[0m \u001b[0mG\u001b[0m\u001b[0;34m(\u001b[0m\u001b[0;34m)\u001b[0m\u001b[0;34m\u001b[0m\u001b[0;34m\u001b[0m\u001b[0m\n\u001b[0m\u001b[1;32m     25\u001b[0m         \u001b[0mstarting_state\u001b[0m \u001b[0;34m=\u001b[0m \u001b[0mnp\u001b[0m\u001b[0;34m.\u001b[0m\u001b[0mrandom\u001b[0m\u001b[0;34m.\u001b[0m\u001b[0mrandint\u001b[0m\u001b[0;34m(\u001b[0m\u001b[0;36m0\u001b[0m\u001b[0;34m,\u001b[0m \u001b[0;36m2\u001b[0m\u001b[0;34m,\u001b[0m \u001b[0mdata\u001b[0m\u001b[0;34m.\u001b[0m\u001b[0mN\u001b[0m\u001b[0;34m)\u001b[0m\u001b[0;34m\u001b[0m\u001b[0;34m\u001b[0m\u001b[0m\n\u001b[1;32m     26\u001b[0m \u001b[0;34m\u001b[0m\u001b[0m\n",
      "\u001b[0;31mTypeError\u001b[0m: 'G1' object is not callable"
     ]
    }
   ],
   "source": [
    "evol_n_iter()"
   ]
  },
  {
   "cell_type": "code",
   "execution_count": 22,
   "metadata": {},
   "outputs": [
    {
     "name": "stdout",
     "output_type": "stream",
     "text": [
      "S~: [ 0  1  2  3  4  5  8 11 12 13 15 16 17 18 19 20 21 22 25 26 27 28 29 30\n",
      " 31 34 35 36 39 40 41 43 44 46 48 49 50 51 53 54 55 57 59 60 61 63 64 65\n",
      " 66 67 68 71 72 73 74 75 76 80 81 82 83 84 86 87 88 89 90 95 96 97 98 99]\n",
      "size of S~: 72\n",
      "f(S~): -6129.797010110243\n",
      "most crowded city: [[79]]\n",
      "f({most crowed city}): 0.9984149796921794\n",
      "\n",
      "S~: [ 0  1  2  3  4  5  7  8  9 10 12 13 16 17 18 19 21 22 25 26 27 28 29 30\n",
      " 31 35 36 39 40 41 42 43 44 46 48 49 50 51 53 54 55 57 59 60 61 63 64 65\n",
      " 66 67 68 71 72 73 74 75 76 80 81 82 83 84 86 87 88 89 90 95 96 97 98 99]\n",
      "size of S~: 72\n",
      "f(S~): -6331.298167406605\n",
      "most crowded city: [[79]]\n",
      "f({most crowed city}): 0.9984149796921794\n",
      "\n",
      "S~: [ 0  1  2  3  4  5  8  9 12 13 14 16 17 18 19 20 21 22 24 25 26 27 28 29\n",
      " 30 31 35 36 37 38 39 40 41 43 44 46 49 51 53 54 55 57 58 59 60 61 64 65\n",
      " 66 67 68 70 71 73 74 75 76 78 80 81 82 83 84 87 88 89 90 91 92 95 96 97\n",
      " 98 99]\n",
      "size of S~: 74\n",
      "f(S~): -6435.871477608446\n",
      "most crowded city: [[79]]\n",
      "f({most crowed city}): 0.9984149796921794\n",
      "\n",
      "S~: [ 0  1  2  3  4  5  8  9 12 13 14 16 17 18 19 21 22 25 26 27 28 29 30 31\n",
      " 35 36 37 39 40 41 43 44 46 49 51 54 55 57 58 59 60 61 64 65 66 67 68 71\n",
      " 73 74 75 76 80 81 82 84 87 88 89 90 95 96 97 98 99]\n",
      "size of S~: 65\n",
      "f(S~): -5635.340769175889\n",
      "most crowded city: [[79]]\n",
      "f({most crowed city}): 0.9984149796921794\n",
      "\n",
      "S~: [ 0  1  2  3  4  5  8 12 13 16 17 18 19 20 21 22 24 26 27 28 29 30 31 35\n",
      " 36 39 40 41 43 44 46 49 51 54 55 57 59 60 61 63 65 66 67 68 71 73 74 75\n",
      " 76 81 82 83 84 87 88 89 90 91 95 96 97 98 99]\n",
      "size of S~: 63\n",
      "f(S~): -5448.37122556285\n",
      "most crowded city: [[79]]\n",
      "f({most crowed city}): 0.9984149796921794\n",
      "\n",
      "S~: [ 0  1  2  3  4  5  7  8  9 12 13 14 15 16 17 18 19 20 21 22 24 25 26 27\n",
      " 28 29 30 31 34 35 36 37 38 39 40 41 43 44 46 48 49 50 51 53 54 55 57 58\n",
      " 59 60 61 62 63 64 65 66 67 68 69 70 71 72 73 74 75 76 78 80 81 82 83 84\n",
      " 87 88 89 90 91 92 93 95 96 97 98 99]\n",
      "size of S~: 84\n",
      "f(S~): -8045.463187595135\n",
      "most crowded city: [[79]]\n",
      "f({most crowed city}): 0.9984149796921794\n",
      "\n",
      "S~: [ 0  1  2  3  4  5  8 12 13 16 18 19 20 21 24 26 28 29 30 31 35 36 39 40\n",
      " 41 43 44 46 49 54 55 57 59 60 61 65 66 67 68 71 74 75 76 81 82 83 84 87\n",
      " 88 89 90 95 96 97 98 99]\n",
      "size of S~: 56\n",
      "f(S~): -4349.5706034253\n",
      "most crowded city: [[79]]\n",
      "f({most crowed city}): 0.9984149796921794\n",
      "\n",
      "S~: [ 0  1  2  3  4  5  8 12 13 16 18 19 20 21 22 24 26 27 28 29 30 31 35 39\n",
      " 40 41 43 44 46 48 49 51 53 54 55 57 59 60 61 63 65 66 67 68 71 73 74 75\n",
      " 76 81 82 83 84 87 88 89 90 95 96 97 98 99]\n",
      "size of S~: 62\n",
      "f(S~): -5226.156568041347\n",
      "most crowded city: [[79]]\n",
      "f({most crowed city}): 0.9984149796921794\n",
      "\n",
      "S~: [ 0  1  2  3  4  5  8  9 10 12 13 14 16 17 18 19 21 22 25 26 27 28 29 30\n",
      " 31 36 37 40 41 43 44 46 49 50 51 53 54 55 57 58 59 60 61 64 65 66 67 68\n",
      " 71 73 74 75 76 80 81 82 83 84 86 87 88 89 90 95 96 97 98 99]\n",
      "size of S~: 68\n",
      "f(S~): -5751.633296815583\n",
      "most crowded city: [[79]]\n",
      "f({most crowed city}): 0.9984149796921794\n",
      "\n",
      "S~: [ 0  1  2  3  4  5  7  8 12 13 15 16 17 18 19 20 21 22 24 25 26 27 28 29\n",
      " 30 31 34 35 36 39 40 41 42 43 44 46 48 49 50 51 53 54 55 57 58 59 60 61\n",
      " 63 64 65 66 67 68 71 72 73 74 75 76 80 81 82 83 84 86 87 88 89 90 95 96\n",
      " 97 98 99]\n",
      "size of S~: 75\n",
      "f(S~): -6409.3532564585075\n",
      "most crowded city: [[79]]\n",
      "f({most crowed city}): 0.9984149796921794\n",
      "\n"
     ]
    }
   ],
   "source": [
    "data = G1()  \n",
    "lambda_ = 100\n",
    "n_iter = 200\n",
    "betas = np.logspace(0, 3, 7)\n",
    "for _ in range(10):\n",
    "    testing_metropolis(data, betas, lambda_, n_iter)\n",
    "    print()\n",
    "\n",
    "    \n",
    "# for n iter = 200, almost everytime we got negative values"
   ]
  },
  {
   "cell_type": "code",
   "execution_count": null,
   "metadata": {},
   "outputs": [],
   "source": [
    "lambda_ = 0\n",
    "n_iter = 1000\n",
    "testing_metropolis(data, np.logspace(0, 3, 7), lambda_, n_iter)"
   ]
  },
  {
   "cell_type": "code",
   "execution_count": null,
   "metadata": {},
   "outputs": [],
   "source": [
    "lambda_ = 100\n",
    "n_iter = 20000\n",
    "testing_metropolis(data, np.logspace(0, 3, 7), lambda_, n_iter)"
   ]
  },
  {
   "cell_type": "markdown",
   "metadata": {},
   "source": [
    "## Question 2.a "
   ]
  },
  {
   "cell_type": "code",
   "execution_count": 8,
   "metadata": {},
   "outputs": [],
   "source": [
    "data = G1()  \n",
    "lambda_ = 100\n",
    "n_iter = 2000\n",
    "betas = np.logspace(0, 3, 7)"
   ]
  },
  {
   "cell_type": "code",
   "execution_count": 9,
   "metadata": {
    "scrolled": true
   },
   "outputs": [
    {
     "ename": "KeyboardInterrupt",
     "evalue": "",
     "output_type": "error",
     "traceback": [
      "\u001b[0;31m---------------------------------------------------------------------------\u001b[0m",
      "\u001b[0;31mKeyboardInterrupt\u001b[0m                         Traceback (most recent call last)",
      "\u001b[0;32m<ipython-input-9-6a31ffb3e2de>\u001b[0m in \u001b[0;36m<module>\u001b[0;34m\u001b[0m\n\u001b[0;32m----> 1\u001b[0;31m \u001b[0msimulated_annealing\u001b[0m\u001b[0;34m(\u001b[0m\u001b[0mbetas\u001b[0m\u001b[0;34m,\u001b[0m \u001b[0mn_iter\u001b[0m\u001b[0;34m,\u001b[0m \u001b[0mlambda_\u001b[0m\u001b[0;34m,\u001b[0m \u001b[0mdata\u001b[0m\u001b[0;34m,\u001b[0m \u001b[0mverbose\u001b[0m\u001b[0;34m=\u001b[0m\u001b[0;32mTrue\u001b[0m\u001b[0;34m,\u001b[0m \u001b[0mplot_size\u001b[0m\u001b[0;34m=\u001b[0m\u001b[0;32mTrue\u001b[0m\u001b[0;34m)\u001b[0m\u001b[0;34m\u001b[0m\u001b[0;34m\u001b[0m\u001b[0m\n\u001b[0m",
      "\u001b[0;32m~/Documents/EPFL/markov_chains/aquarium/markov_algos.py\u001b[0m in \u001b[0;36msimulated_annealing\u001b[0;34m(betas, n_iter, lambda_, data, verbose, plot_size, plot_obj)\u001b[0m\n\u001b[1;32m    209\u001b[0m         \u001b[0;32mif\u001b[0m \u001b[0mverbose\u001b[0m\u001b[0;34m:\u001b[0m\u001b[0;34m\u001b[0m\u001b[0;34m\u001b[0m\u001b[0m\n\u001b[1;32m    210\u001b[0m             print(\"[step {}/{}] Time spent on beta = {:.3f} : {:.3f} sec\"\n\u001b[0;32m--> 211\u001b[0;31m                   .format(k + 1, len(betas), beta, end - start))\n\u001b[0m\u001b[1;32m    212\u001b[0m \u001b[0;34m\u001b[0m\u001b[0m\n\u001b[1;32m    213\u001b[0m     \u001b[0;31m# keep only the best state\u001b[0m\u001b[0;34m\u001b[0m\u001b[0;34m\u001b[0m\u001b[0;34m\u001b[0m\u001b[0m\n",
      "\u001b[0;32m~/Documents/EPFL/markov_chains/aquarium/markov_algos.py\u001b[0m in \u001b[0;36mmetropolis_hastings\u001b[0;34m(beta, x, n_iter, best_x_visited, lambda_, data, ax_size, ax_obj)\u001b[0m\n\u001b[1;32m    139\u001b[0m     \u001b[0;31m# run the Markov chain for n_iter steps\u001b[0m\u001b[0;34m\u001b[0m\u001b[0;34m\u001b[0m\u001b[0;34m\u001b[0m\u001b[0m\n\u001b[1;32m    140\u001b[0m     \u001b[0;32mfor\u001b[0m \u001b[0m_\u001b[0m \u001b[0;32min\u001b[0m \u001b[0mrange\u001b[0m\u001b[0;34m(\u001b[0m\u001b[0mn_iter\u001b[0m\u001b[0;34m)\u001b[0m\u001b[0;34m:\u001b[0m\u001b[0;34m\u001b[0m\u001b[0;34m\u001b[0m\u001b[0m\n\u001b[0;32m--> 141\u001b[0;31m         \u001b[0mx\u001b[0m\u001b[0;34m,\u001b[0m \u001b[0mDelta\u001b[0m \u001b[0;34m=\u001b[0m \u001b[0mforward\u001b[0m\u001b[0;34m(\u001b[0m\u001b[0mbeta\u001b[0m\u001b[0;34m,\u001b[0m \u001b[0mx\u001b[0m\u001b[0;34m,\u001b[0m \u001b[0mlambda_\u001b[0m\u001b[0;34m,\u001b[0m \u001b[0mdata\u001b[0m\u001b[0;34m)\u001b[0m\u001b[0;34m\u001b[0m\u001b[0;34m\u001b[0m\u001b[0m\n\u001b[0m\u001b[1;32m    142\u001b[0m         \u001b[0;31m# Delta = f(x)-f(y)\u001b[0m\u001b[0;34m\u001b[0m\u001b[0;34m\u001b[0m\u001b[0;34m\u001b[0m\u001b[0m\n\u001b[1;32m    143\u001b[0m         \u001b[0mf_x\u001b[0m \u001b[0;34m=\u001b[0m \u001b[0mf_x\u001b[0m\u001b[0;34m-\u001b[0m\u001b[0mDelta\u001b[0m\u001b[0;34m\u001b[0m\u001b[0;34m\u001b[0m\u001b[0m\n",
      "\u001b[0;32m~/Documents/EPFL/markov_chains/aquarium/markov_algos.py\u001b[0m in \u001b[0;36mforward\u001b[0;34m(beta, x, lambda_, data)\u001b[0m\n\u001b[1;32m     89\u001b[0m \u001b[0;34m\u001b[0m\u001b[0m\n\u001b[1;32m     90\u001b[0m     \u001b[0;31m# propose a move on the Symmetric Random Walk on hypercube of dimension n: switch one digit at random\u001b[0m\u001b[0;34m\u001b[0m\u001b[0;34m\u001b[0m\u001b[0;34m\u001b[0m\u001b[0m\n\u001b[0;32m---> 91\u001b[0;31m     \u001b[0mk\u001b[0m \u001b[0;34m=\u001b[0m \u001b[0mnp\u001b[0m\u001b[0;34m.\u001b[0m\u001b[0mrandom\u001b[0m\u001b[0;34m.\u001b[0m\u001b[0mrandint\u001b[0m\u001b[0;34m(\u001b[0m\u001b[0;36m0\u001b[0m\u001b[0;34m,\u001b[0m \u001b[0mdata\u001b[0m\u001b[0;34m.\u001b[0m\u001b[0mN\u001b[0m\u001b[0;34m)\u001b[0m\u001b[0;34m\u001b[0m\u001b[0;34m\u001b[0m\u001b[0m\n\u001b[0m\u001b[1;32m     92\u001b[0m     \u001b[0my\u001b[0m \u001b[0;34m=\u001b[0m \u001b[0mx\u001b[0m\u001b[0;34m.\u001b[0m\u001b[0mcopy\u001b[0m\u001b[0;34m(\u001b[0m\u001b[0;34m)\u001b[0m\u001b[0;34m\u001b[0m\u001b[0;34m\u001b[0m\u001b[0m\n\u001b[1;32m     93\u001b[0m     \u001b[0my\u001b[0m\u001b[0;34m[\u001b[0m\u001b[0mk\u001b[0m\u001b[0;34m]\u001b[0m \u001b[0;34m=\u001b[0m \u001b[0;34m(\u001b[0m\u001b[0my\u001b[0m\u001b[0;34m[\u001b[0m\u001b[0mk\u001b[0m\u001b[0;34m]\u001b[0m \u001b[0;34m+\u001b[0m \u001b[0;36m1\u001b[0m\u001b[0;34m)\u001b[0m\u001b[0;34m%\u001b[0m\u001b[0;36m2\u001b[0m\u001b[0;34m\u001b[0m\u001b[0;34m\u001b[0m\u001b[0m\n",
      "\u001b[0;32mmtrand.pyx\u001b[0m in \u001b[0;36mnumpy.random.mtrand.RandomState.randint\u001b[0;34m()\u001b[0m\n",
      "\u001b[0;32m~/opt/anaconda3/lib/python3.7/site-packages/numpy/core/_dtype.py\u001b[0m in \u001b[0;36m_name_get\u001b[0;34m(dtype)\u001b[0m\n\u001b[1;32m    345\u001b[0m \u001b[0;34m\u001b[0m\u001b[0m\n\u001b[1;32m    346\u001b[0m     \u001b[0;31m# append bit counts\u001b[0m\u001b[0;34m\u001b[0m\u001b[0;34m\u001b[0m\u001b[0;34m\u001b[0m\u001b[0m\n\u001b[0;32m--> 347\u001b[0;31m     \u001b[0;32mif\u001b[0m \u001b[0m_name_includes_bit_suffix\u001b[0m\u001b[0;34m(\u001b[0m\u001b[0mdtype\u001b[0m\u001b[0;34m)\u001b[0m\u001b[0;34m:\u001b[0m\u001b[0;34m\u001b[0m\u001b[0;34m\u001b[0m\u001b[0m\n\u001b[0m\u001b[1;32m    348\u001b[0m         \u001b[0mname\u001b[0m \u001b[0;34m+=\u001b[0m \u001b[0;34m\"{}\"\u001b[0m\u001b[0;34m.\u001b[0m\u001b[0mformat\u001b[0m\u001b[0;34m(\u001b[0m\u001b[0mdtype\u001b[0m\u001b[0;34m.\u001b[0m\u001b[0mitemsize\u001b[0m \u001b[0;34m*\u001b[0m \u001b[0;36m8\u001b[0m\u001b[0;34m)\u001b[0m\u001b[0;34m\u001b[0m\u001b[0;34m\u001b[0m\u001b[0m\n\u001b[1;32m    349\u001b[0m \u001b[0;34m\u001b[0m\u001b[0m\n",
      "\u001b[0;32m~/opt/anaconda3/lib/python3.7/site-packages/numpy/core/_dtype.py\u001b[0m in \u001b[0;36m_name_includes_bit_suffix\u001b[0;34m(dtype)\u001b[0m\n\u001b[1;32m    321\u001b[0m         \u001b[0;31m# pointer size varies by system, best to omit it\u001b[0m\u001b[0;34m\u001b[0m\u001b[0;34m\u001b[0m\u001b[0;34m\u001b[0m\u001b[0m\n\u001b[1;32m    322\u001b[0m         \u001b[0;32mreturn\u001b[0m \u001b[0;32mFalse\u001b[0m\u001b[0;34m\u001b[0m\u001b[0;34m\u001b[0m\u001b[0m\n\u001b[0;32m--> 323\u001b[0;31m     \u001b[0;32melif\u001b[0m \u001b[0mdtype\u001b[0m\u001b[0;34m.\u001b[0m\u001b[0mtype\u001b[0m \u001b[0;34m==\u001b[0m \u001b[0mnp\u001b[0m\u001b[0;34m.\u001b[0m\u001b[0mbool_\u001b[0m\u001b[0;34m:\u001b[0m\u001b[0;34m\u001b[0m\u001b[0;34m\u001b[0m\u001b[0m\n\u001b[0m\u001b[1;32m    324\u001b[0m         \u001b[0;31m# implied\u001b[0m\u001b[0;34m\u001b[0m\u001b[0;34m\u001b[0m\u001b[0;34m\u001b[0m\u001b[0m\n\u001b[1;32m    325\u001b[0m         \u001b[0;32mreturn\u001b[0m \u001b[0;32mFalse\u001b[0m\u001b[0;34m\u001b[0m\u001b[0;34m\u001b[0m\u001b[0m\n",
      "\u001b[0;31mKeyboardInterrupt\u001b[0m: "
     ]
    },
    {
     "data": {
      "image/png": "[encoded data removed]",
      "text/plain": [
       "<Figure size 720x2160 with 7 Axes>"
      ]
     },
     "metadata": {
      "needs_background": "light"
     },
     "output_type": "display_data"
    }
   ],
   "source": [
    "simulated_annealing(betas, n_iter, lambda_, data, verbose=True, plot_size=True, plot_obj=True)"
   ]
  },
  {
   "cell_type": "code",
   "execution_count": null,
   "metadata": {},
   "outputs": [],
   "source": [
    "simulated_annealing(betas, n_iter, lambda_, data, verbose=True, plot_obj=True)"
   ]
  },
  {
   "cell_type": "markdown",
   "metadata": {},
   "source": [
    "## Question 2.b\n",
    "\n",
    "1) Plotting E(|S*(lambda)|) for lambda in range [0.1, 10]"
   ]
  },
  {
   "cell_type": "code",
   "execution_count": null,
   "metadata": {},
   "outputs": [],
   "source": [
    "lambdas = np.logspace(-1, 0, 5)"
   ]
  },
  {
   "cell_type": "code",
   "execution_count": null,
   "metadata": {},
   "outputs": [],
   "source": [
    "plot_avg_size(G1, lambdas, betas, 2000, 5, verbose=True)"
   ]
  },
  {
   "cell_type": "code",
   "execution_count": null,
   "metadata": {},
   "outputs": [],
   "source": [
    "plot_avg_obj(G1, lambdas, betas, 2000, 5, verbose=True)"
   ]
  },
  {
   "cell_type": "markdown",
   "metadata": {},
   "source": [
    "## Same questions for model G2"
   ]
  },
  {
   "cell_type": "code",
   "execution_count": 2,
   "metadata": {},
   "outputs": [],
   "source": [
    "data = G2()\n",
    "n, coords, pop = data.N, data.x, data.v\n",
    "lambda_ = 100\n",
    "betas = np.logspace(0, 3, 7)"
   ]
  },
  {
   "cell_type": "code",
   "execution_count": null,
   "metadata": {},
   "outputs": [],
   "source": [
    "simulated_annealing(betas, n_iter, lambda_, data, verbose=True, plot_size=True)"
   ]
  },
  {
   "cell_type": "code",
   "execution_count": 3,
   "metadata": {},
   "outputs": [
    {
     "name": "stdout",
     "output_type": "stream",
     "text": [
      "[step 1/7] Time spent on beta = 1.000 : 0.182 sec\n",
      "[step 2/7] Time spent on beta = 3.162 : 0.129 sec\n",
      "[step 3/7] Time spent on beta = 10.000 : 0.185 sec\n",
      "[step 4/7] Time spent on beta = 31.623 : 0.179 sec\n",
      "[step 5/7] Time spent on beta = 100.000 : 0.203 sec\n",
      "[step 6/7] Time spent on beta = 316.228 : 0.176 sec\n",
      "[step 7/7] Time spent on beta = 1000.000 : 0.217 sec\n",
      "[lambda=0.0 : 1/2]\n",
      "[step 1/7] Time spent on beta = 1.000 : 0.161 sec\n",
      "[step 2/7] Time spent on beta = 3.162 : 0.206 sec\n",
      "[step 3/7] Time spent on beta = 10.000 : 0.218 sec\n",
      "[step 4/7] Time spent on beta = 31.623 : 0.266 sec\n",
      "[step 5/7] Time spent on beta = 100.000 : 0.202 sec\n",
      "[step 6/7] Time spent on beta = 316.228 : 0.262 sec\n",
      "[step 7/7] Time spent on beta = 1000.000 : 0.313 sec\n",
      "[lambda=0.0 : 2/2]\n",
      "[step 1/7] Time spent on beta = 1.000 : 0.175 sec\n",
      "[step 2/7] Time spent on beta = 3.162 : 0.201 sec\n",
      "[step 3/7] Time spent on beta = 10.000 : 0.153 sec\n",
      "[step 4/7] Time spent on beta = 31.623 : 0.204 sec\n",
      "[step 5/7] Time spent on beta = 100.000 : 0.291 sec\n",
      "[step 6/7] Time spent on beta = 316.228 : 0.262 sec\n",
      "[step 7/7] Time spent on beta = 1000.000 : 0.177 sec\n",
      "[lambda=2.0 : 1/2]\n",
      "[step 1/7] Time spent on beta = 1.000 : 0.182 sec\n",
      "[step 2/7] Time spent on beta = 3.162 : 0.169 sec\n",
      "[step 3/7] Time spent on beta = 10.000 : 0.203 sec\n",
      "[step 4/7] Time spent on beta = 31.623 : 0.184 sec\n",
      "[step 5/7] Time spent on beta = 100.000 : 0.278 sec\n",
      "[step 6/7] Time spent on beta = 316.228 : 0.416 sec\n",
      "[step 7/7] Time spent on beta = 1000.000 : 0.407 sec\n",
      "[lambda=2.0 : 2/2]\n"
     ]
    },
    {
     "data": {
      "image/png": "[encoded data removed]",
      "text/plain": [
       "<Figure size 432x288 with 1 Axes>"
      ]
     },
     "metadata": {
      "needs_background": "light"
     },
     "output_type": "display_data"
    }
   ],
   "source": [
    "lambdas = np.linspace(0, 2, 2)\n",
    "\n",
    "plot_avg_obj(G2, lambdas, betas, 200, 2, verbose=True)"
   ]
  },
  {
   "cell_type": "code",
   "execution_count": null,
   "metadata": {},
   "outputs": [],
   "source": [
    "lambdas = np.linspace(0, 2, 5)\n",
    "plot_avg_obj(G2, lambdas, betas, 2000, 5, verbose=True)"
   ]
  }
 ],
 "metadata": {
  "kernelspec": {
   "display_name": "Python 3",
   "language": "python",
   "name": "python3"
  },
  "language_info": {
   "codemirror_mode": {
    "name": "ipython",
    "version": 3
   },
   "file_extension": ".py",
   "mimetype": "text/x-python",
   "name": "python",
   "nbconvert_exporter": "python",
   "pygments_lexer": "ipython3",
   "version": "3.7.6"
  }
 },
 "nbformat": 4,
 "nbformat_minor": 4
}
