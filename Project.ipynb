{
 "cells": [
  {
   "cell_type": "code",
   "execution_count": 4,
   "metadata": {},
   "outputs": [
    {
     "name": "stdout",
     "output_type": "stream",
     "text": [
      "The autoreload extension is already loaded. To reload it, use:\n",
      "  %reload_ext autoreload\n"
     ]
    }
   ],
   "source": [
    "from DatasetGenerator import *\n",
    "from helpers import *\n",
    "from markov_algos import *\n",
    "from plots import *\n",
    "\n",
    "import pandas as pd\n",
    "from time import time\n",
    "\n",
    "%load_ext autoreload\n",
    "%autoreload"
   ]
  },
  {
   "cell_type": "markdown",
   "metadata": {},
   "source": [
    "In the report :\n",
    " - say why we choose starting point to be only most crowded city\n",
    " - why log for beta is good instead of linspace\n",
    " "
   ]
  },
  {
   "cell_type": "markdown",
   "metadata": {},
   "source": [
    "# Tuning of parameters\n",
    "\n",
    "We fix the total number of iterations to be `total_n_iter = 1000000`.\n",
    "We will tune the parameters only for G1."
   ]
  },
  {
   "cell_type": "code",
   "execution_count": 15,
   "metadata": {},
   "outputs": [
    {
     "data": {
      "text/html": [
       "<div>\n",
       "<style scoped>\n",
       "    .dataframe tbody tr th:only-of-type {\n",
       "        vertical-align: middle;\n",
       "    }\n",
       "\n",
       "    .dataframe tbody tr th {\n",
       "        vertical-align: top;\n",
       "    }\n",
       "\n",
       "    .dataframe thead th {\n",
       "        text-align: right;\n",
       "    }\n",
       "</style>\n",
       "<table border=\"1\" class=\"dataframe\">\n",
       "  <thead>\n",
       "    <tr style=\"text-align: right;\">\n",
       "      <th></th>\n",
       "      <th>max beta</th>\n",
       "      <th>nb beta</th>\n",
       "      <th>avg max obj</th>\n",
       "      <th>size of S</th>\n",
       "    </tr>\n",
       "  </thead>\n",
       "  <tbody>\n",
       "    <tr>\n",
       "      <th>0</th>\n",
       "      <td>3.0</td>\n",
       "      <td>5.0</td>\n",
       "      <td>1.699277</td>\n",
       "      <td>5.000000</td>\n",
       "    </tr>\n",
       "    <tr>\n",
       "      <th>1</th>\n",
       "      <td>3.0</td>\n",
       "      <td>7.0</td>\n",
       "      <td>2.184271</td>\n",
       "      <td>8.333333</td>\n",
       "    </tr>\n",
       "    <tr>\n",
       "      <th>2</th>\n",
       "      <td>3.0</td>\n",
       "      <td>10.0</td>\n",
       "      <td>1.497363</td>\n",
       "      <td>3.333333</td>\n",
       "    </tr>\n",
       "    <tr>\n",
       "      <th>3</th>\n",
       "      <td>3.0</td>\n",
       "      <td>13.0</td>\n",
       "      <td>1.570353</td>\n",
       "      <td>3.666667</td>\n",
       "    </tr>\n",
       "    <tr>\n",
       "      <th>4</th>\n",
       "      <td>4.0</td>\n",
       "      <td>5.0</td>\n",
       "      <td>1.928189</td>\n",
       "      <td>4.000000</td>\n",
       "    </tr>\n",
       "    <tr>\n",
       "      <th>5</th>\n",
       "      <td>4.0</td>\n",
       "      <td>7.0</td>\n",
       "      <td>1.242826</td>\n",
       "      <td>6.333333</td>\n",
       "    </tr>\n",
       "    <tr>\n",
       "      <th>6</th>\n",
       "      <td>4.0</td>\n",
       "      <td>10.0</td>\n",
       "      <td>1.544826</td>\n",
       "      <td>6.666667</td>\n",
       "    </tr>\n",
       "    <tr>\n",
       "      <th>7</th>\n",
       "      <td>4.0</td>\n",
       "      <td>13.0</td>\n",
       "      <td>1.132558</td>\n",
       "      <td>3.666667</td>\n",
       "    </tr>\n",
       "    <tr>\n",
       "      <th>8</th>\n",
       "      <td>5.0</td>\n",
       "      <td>5.0</td>\n",
       "      <td>0.839694</td>\n",
       "      <td>1.333333</td>\n",
       "    </tr>\n",
       "    <tr>\n",
       "      <th>9</th>\n",
       "      <td>5.0</td>\n",
       "      <td>7.0</td>\n",
       "      <td>1.902332</td>\n",
       "      <td>4.000000</td>\n",
       "    </tr>\n",
       "    <tr>\n",
       "      <th>10</th>\n",
       "      <td>5.0</td>\n",
       "      <td>10.0</td>\n",
       "      <td>1.403526</td>\n",
       "      <td>3.666667</td>\n",
       "    </tr>\n",
       "    <tr>\n",
       "      <th>11</th>\n",
       "      <td>5.0</td>\n",
       "      <td>13.0</td>\n",
       "      <td>2.455193</td>\n",
       "      <td>6.333333</td>\n",
       "    </tr>\n",
       "  </tbody>\n",
       "</table>\n",
       "</div>"
      ],
      "text/plain": [
       "    max beta  nb beta  avg max obj  size of S\n",
       "0        3.0      5.0     1.699277   5.000000\n",
       "1        3.0      7.0     2.184271   8.333333\n",
       "2        3.0     10.0     1.497363   3.333333\n",
       "3        3.0     13.0     1.570353   3.666667\n",
       "4        4.0      5.0     1.928189   4.000000\n",
       "5        4.0      7.0     1.242826   6.333333\n",
       "6        4.0     10.0     1.544826   6.666667\n",
       "7        4.0     13.0     1.132558   3.666667\n",
       "8        5.0      5.0     0.839694   1.333333\n",
       "9        5.0      7.0     1.902332   4.000000\n",
       "10       5.0     10.0     1.403526   3.666667\n",
       "11       5.0     13.0     2.455193   6.333333"
      ]
     },
     "execution_count": 15,
     "metadata": {},
     "output_type": "execute_result"
    }
   ],
   "source": [
    "datas = [G1() for i in range(3)]\n",
    "\n",
    "lambda_ = 0.5\n",
    "total_n_iter = 100\n",
    "starting_state = np.zeros(datas[0].N) # to change\n",
    "\n",
    "max_beta = [3, 4, 5] # 10-th power\n",
    "nb_beta = [5, 7, 10, 13]\n",
    "n_iter_range = [total_n_iter // b_nb for b_nb in nb_beta]\n",
    "\n",
    "df = pd.DataFrame(columns=['max beta', 'nb beta', 'avg max obj', 'avg size of S'])\n",
    "\n",
    "for b_max in max_beta:\n",
    "    for i, b_nb in enumerate(nb_beta):\n",
    "        betas = np.logspace(0, b_max, b_nb)\n",
    "        n_iter = n_iter_range[i]\n",
    "\n",
    "        avg_obj, avg_size = avg(datas, betas, lambda_, n_iter)\n",
    "        res = {'max beta':b_max, 'nb beta':b_nb, 'avg max obj':avg_obj, 'avg size of S':avg_size}\n",
    "        df = df.append(res, ignore_index=True)\n",
    "\n",
    "df.to_csv('plots/betas.csv', index=False)\n",
    "df"
   ]
  },
  {
   "cell_type": "code",
   "execution_count": null,
   "metadata": {},
   "outputs": [],
   "source": [
    "best_max_beta = df[df['avg max obj'] == best_obj].iloc[:,0].tolist()[0]\n",
    "\n",
    "obj_range = df[df['max beta'] == best_max_beta].iloc[:,2].tolist()\n",
    "size_range = df[df['max beta'] == best_max_beta].iloc[:,3].tolist()\n",
    "\n",
    "fig, ax = plt.subplots()\n",
    "ax.plot(n_iter_range, obj_range, color='blue', marker='o', ls=':')\n",
    "ax2 = ax.twinx()\n",
    "ax2.plot(n_iter_range, size_range, color='red', marker='o', ls=':')\n",
    "\n",
    "ax.set_title(\"Evolution of the approximate maximum with respect to\"\n",
    "             + \"\\n the number of iteration per Metropolis-Hastings algorithm.\", fontsize=16)\n",
    "ax.set_xlabel(\"Number of steps per Metropolis-Hastings algorithm\", fontsize=14)\n",
    "ax.set_ylabel(\"Maximum objectif function\", color='blue', fontsize=14)\n",
    "ax2.set_ylabel(\"Optimal number of cities\", color='red', fontsize=14)\n",
    "fig.show()"
   ]
  },
  {
   "cell_type": "markdown",
   "metadata": {},
   "source": [
    "# Ploting the evolution of the Markov chain during the simulated annealing process (with G1, Q2.a)"
   ]
  },
  {
   "cell_type": "code",
   "execution_count": null,
   "metadata": {},
   "outputs": [],
   "source": [
    "data = G1()\n",
    "\n",
    "lambda_ = 0.5\n",
    "starting_state = np.zeros(data.N) # to change\n",
    "\n",
    "# to change after tuning  beta done\n",
    "n_iter = 50000 # to change\n",
    "betas = np.logspace(0, 4, 7) # to change\n",
    "\n",
    "S_approx = simulated_annealing(starting_state, betas, n_iter, lambda_, data, verbose=True, plot=True)"
   ]
  },
  {
   "cell_type": "markdown",
   "metadata": {},
   "source": [
    "# Ploting the evolution of the average approximation with respect to lambda  (with G1, Q2.b)"
   ]
  },
  {
   "cell_type": "code",
   "execution_count": null,
   "metadata": {},
   "outputs": [],
   "source": [
    "G = G1 \n",
    "nb_instances = 5\n",
    "lambdas = np.linspace(0, 1, 10)\n",
    "\n",
    "# to change after tuning  beta done\n",
    "betas = np.linspace(0, 4, 10)\n",
    "n_iter = 10000\n",
    "\n",
    "plot_avg_lambda(G, lambdas, betas, n_iter, nb_instances, verbose=False)"
   ]
  },
  {
   "cell_type": "markdown",
   "metadata": {},
   "source": [
    "# Ploting the evolution of the Markov chain during the simulated annealing process (with G2, Q3.a)"
   ]
  },
  {
   "cell_type": "code",
   "execution_count": null,
   "metadata": {},
   "outputs": [],
   "source": [
    "data = G2()\n",
    "\n",
    "lambda_ = 1\n",
    "starting_state = np.zeros(data.N) # to change\n",
    "\n",
    "# to change after tuning  beta done\n",
    "n_iter = 50000 # to change\n",
    "betas = np.logspace(0, 4, 7) # to change\n",
    "\n",
    "S_approx = simulated_annealing(starting_state, betas, n_iter, lambda_, data, verbose=True, plot=True)"
   ]
  },
  {
   "cell_type": "markdown",
   "metadata": {},
   "source": [
    "# Ploting the evolution of the average approximation with respect to lambda  (with G2, Q3.b)"
   ]
  },
  {
   "cell_type": "code",
   "execution_count": null,
   "metadata": {},
   "outputs": [],
   "source": [
    "G = G2\n",
    "nb_instances = 5\n",
    "lambdas = np.linspace(0, 2, 10)\n",
    "\n",
    "# to change after tuning  beta done\n",
    "betas = np.linspace(0, 4, 10)\n",
    "n_iter = 10000\n",
    "\n",
    "plot_avg_lambda(G, lambdas, betas, n_iter, nb_instances, verbose=False)"
   ]
  }
 ],
 "metadata": {
  "kernelspec": {
   "display_name": "Python 3",
   "language": "python",
   "name": "python3"
  },
  "language_info": {
   "codemirror_mode": {
    "name": "ipython",
    "version": 3
   },
   "file_extension": ".py",
   "mimetype": "text/x-python",
   "name": "python",
   "nbconvert_exporter": "python",
   "pygments_lexer": "ipython3",
   "version": "3.7.6"
  }
 },
 "nbformat": 4,
 "nbformat_minor": 4
}
