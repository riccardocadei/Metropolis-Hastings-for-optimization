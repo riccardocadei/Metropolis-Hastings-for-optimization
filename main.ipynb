{
 "cells": [
  {
   "cell_type": "markdown",
   "metadata": {
    "colab_type": "text",
    "id": "view-in-github"
   },
   "source": [
    "<a href=\"https://colab.research.google.com/github/antoinexp/markov-chains-COM-516/blob/main/model.ipynb\" target=\"_parent\"><img src=\"https://colab.research.google.com/assets/colab-badge.svg\" alt=\"Open In Colab\"/></a>"
   ]
  },
  {
   "cell_type": "markdown",
   "metadata": {
    "id": "mCc-m9oEkOGy"
   },
   "source": [
    "This notebook is provided as a starting point to help you generate random instances G1 and G2 as mentioned in the handout.\n",
    "\n",
    "You are free to use and modify it at your own convenience.\n",
    "\n",
    "---\n",
    "\n"
   ]
  },
  {
   "cell_type": "code",
   "execution_count": 1,
   "metadata": {
    "id": "BMV_GyHTe-A5"
   },
   "outputs": [],
   "source": [
    "import scipy.stats as st\n",
    "import numpy as np\n",
    "import scipy as sp\n",
    "import matplotlib.pyplot as plt"
   ]
  },
  {
   "cell_type": "code",
   "execution_count": 2,
   "metadata": {
    "id": "9_4LNOEAfb6H"
   },
   "outputs": [],
   "source": [
    "class DatasetGenerator(object):\n",
    "  def __init__(self, N=100):\n",
    "    self.N = N\n",
    "    self.x = None\n",
    "    self.v = None\n",
    "    self.refresh()\n",
    "  \n",
    "  def refresh(self):\n",
    "    raise Exception(\"undefined\")"
   ]
  },
  {
   "cell_type": "code",
   "execution_count": 3,
   "metadata": {
    "id": "69EQnzkcgxtb"
   },
   "outputs": [],
   "source": [
    "class G1(DatasetGenerator):\n",
    "  def refresh(self):\n",
    "    self.x = st.uniform().rvs((self.N,2))\n",
    "    self.v = st.uniform().rvs((self.N,))"
   ]
  },
  {
   "cell_type": "code",
   "execution_count": 4,
   "metadata": {
    "id": "NEPDqCflgzWe"
   },
   "outputs": [],
   "source": [
    "class G2(DatasetGenerator):\n",
    "  def refresh(self):\n",
    "    self.x = st.uniform().rvs((self.N,2))\n",
    "    self.v = np.exp(st.norm(-0.85, 1.3).rvs((self.N,)))"
   ]
  },
  {
   "cell_type": "markdown",
   "metadata": {
    "id": "q_Kco86_fDPA"
   },
   "source": [
    "### Uniform distribution ($\\mathcal U([0,1])$)"
   ]
  },
  {
   "cell_type": "code",
   "execution_count": 5,
   "metadata": {
    "id": "gZmvCOWse-93"
   },
   "outputs": [],
   "source": [
    "g1 = G1()"
   ]
  },
  {
   "cell_type": "markdown",
   "metadata": {
    "id": "mQbhQdsEif96"
   },
   "source": [
    "Examples:"
   ]
  },
  {
   "cell_type": "code",
   "execution_count": 6,
   "metadata": {
    "colab": {
     "base_uri": "https://localhost:8080/",
     "height": 265
    },
    "id": "zXOZp0KUiO5P",
    "outputId": "6447f237-cd07-4c8f-84c8-a5af51e03698"
   },
   "outputs": [
    {
     "data": {
      "image/png": "[encoded data removed]",
      "text/plain": [
       "<Figure size 432x288 with 1 Axes>"
      ]
     },
     "metadata": {
      "needs_background": "light"
     },
     "output_type": "display_data"
    }
   ],
   "source": [
    "# Plot a histogram of the v array\n",
    "plt.hist(g1.v, bins=30)\n",
    "plt.show()"
   ]
  },
  {
   "cell_type": "code",
   "execution_count": 7,
   "metadata": {
    "colab": {
     "base_uri": "https://localhost:8080/",
     "height": 320
    },
    "id": "GMHuTtiIii5H",
    "outputId": "f5ff204f-7e45-4f3b-ed0c-5e18cb4a5e52"
   },
   "outputs": [
    {
     "data": {
      "image/png": "[encoded data removed]",
      "text/plain": [
       "<Figure size 360x360 with 1 Axes>"
      ]
     },
     "metadata": {
      "needs_background": "light"
     },
     "output_type": "display_data"
    }
   ],
   "source": [
    "# plot the position of the points\n",
    "plt.figure(figsize=(5,5))\n",
    "plt.scatter(g1.x[:,0], g1.x[:,1])\n",
    "plt.show()"
   ]
  },
  {
   "cell_type": "markdown",
   "metadata": {
    "id": "CCmeQMcZiuGX"
   },
   "source": [
    "You can refresh the dataset"
   ]
  },
  {
   "cell_type": "code",
   "execution_count": 8,
   "metadata": {
    "id": "X5zibI5Rix7r"
   },
   "outputs": [],
   "source": [
    "g1.refresh() # generate a new dataset"
   ]
  },
  {
   "cell_type": "code",
   "execution_count": 9,
   "metadata": {
    "colab": {
     "base_uri": "https://localhost:8080/",
     "height": 265
    },
    "id": "jwCwLEgEixrE",
    "outputId": "8b0be7af-9771-417c-d22f-9ae719404ee6"
   },
   "outputs": [
    {
     "data": {
      "image/png": "[encoded data removed]",
      "text/plain": [
       "<Figure size 432x288 with 1 Axes>"
      ]
     },
     "metadata": {
      "needs_background": "light"
     },
     "output_type": "display_data"
    }
   ],
   "source": [
    "plt.hist(g1.v, bins=30)\n",
    "plt.show()"
   ]
  },
  {
   "cell_type": "markdown",
   "metadata": {
    "id": "Ka6haqFplqaU"
   },
   "source": [
    "Or for instance, you can generate 10 instances and compute the average position of all the points:"
   ]
  },
  {
   "cell_type": "code",
   "execution_count": 10,
   "metadata": {
    "colab": {
     "base_uri": "https://localhost:8080/"
    },
    "id": "ZB9knwmOlvVP",
    "outputId": "28aecbc3-d2d8-4126-b104-6b12238d8974"
   },
   "outputs": [
    {
     "name": "stdout",
     "output_type": "stream",
     "text": [
      "[0.49480091 0.49480091]\n"
     ]
    }
   ],
   "source": [
    "m = np.array([0., 0.])\n",
    "\n",
    "for _ in range(10):\n",
    "  g1.refresh() # refresh the dataset\n",
    "  m  += 0.1*g1.x.mean()\n",
    "\n",
    "print(m)"
   ]
  },
  {
   "cell_type": "markdown",
   "metadata": {
    "id": "JgzoeYOafZSM"
   },
   "source": [
    "### Test on log-normal distribution"
   ]
  },
  {
   "cell_type": "code",
   "execution_count": 11,
   "metadata": {
    "id": "nszpfgZkfROG"
   },
   "outputs": [],
   "source": [
    "g2 = G2()"
   ]
  },
  {
   "cell_type": "markdown",
   "metadata": {
    "id": "k-CfVPQpjRu9"
   },
   "source": [
    "Example:\n",
    "\n",
    "you can use g2 to generate an instance of the lognormal distribution"
   ]
  },
  {
   "cell_type": "code",
   "execution_count": 12,
   "metadata": {
    "colab": {
     "base_uri": "https://localhost:8080/",
     "height": 265
    },
    "id": "brEhSUl2i6LC",
    "outputId": "43a129cd-78db-4bef-9980-21758dd8b9b8"
   },
   "outputs": [
    {
     "data": {
      "image/png": "[encoded data removed]",
      "text/plain": [
       "<Figure size 432x288 with 1 Axes>"
      ]
     },
     "metadata": {
      "needs_background": "light"
     },
     "output_type": "display_data"
    }
   ],
   "source": [
    "plt.hist(g2.v, bins=30)\n",
    "plt.show()"
   ]
  },
  {
   "cell_type": "code",
   "execution_count": 13,
   "metadata": {
    "id": "QQ5rVZDxjXKA"
   },
   "outputs": [],
   "source": [
    "g2.refresh() # to generate a new x and v"
   ]
  },
  {
   "cell_type": "code",
   "execution_count": 14,
   "metadata": {
    "colab": {
     "base_uri": "https://localhost:8080/",
     "height": 265
    },
    "id": "F44feKJokJS2",
    "outputId": "499c5cd5-d2cf-4871-f608-54212dbcb122"
   },
   "outputs": [
    {
     "data": {
      "image/png": "[encoded data removed]",
      "text/plain": [
       "<Figure size 432x288 with 1 Axes>"
      ]
     },
     "metadata": {
      "needs_background": "light"
     },
     "output_type": "display_data"
    }
   ],
   "source": [
    "plt.hist(g2.v, bins=30)\n",
    "plt.show()"
   ]
  },
  {
   "cell_type": "markdown",
   "metadata": {
    "id": "UrAwB81ykRCM"
   },
   "source": [
    "---"
   ]
  },
  {
   "cell_type": "markdown",
   "metadata": {
    "id": "GeH_E-MGjHvd"
   },
   "source": [
    "### Metropolis Hastings"
   ]
  },
  {
   "cell_type": "markdown",
   "metadata": {},
   "source": [
    "### **1. Implementation**\n",
    "\n",
    "Implementation of Metropolis-Hastings algorithm to find an approximate solution of $S^*(\\lambda)$"
   ]
  },
  {
   "cell_type": "markdown",
   "metadata": {},
   "source": [
    "**Libraries**"
   ]
  },
  {
   "cell_type": "code",
   "execution_count": 15,
   "metadata": {},
   "outputs": [],
   "source": [
    "import numpy as np\n",
    "import copy\n",
    "from scipy.spatial import distance"
   ]
  },
  {
   "cell_type": "markdown",
   "metadata": {},
   "source": [
    "**Definition of the objective function**"
   ]
  },
  {
   "cell_type": "code",
   "execution_count": 16,
   "metadata": {},
   "outputs": [],
   "source": [
    "def f(S, params):\n",
    "    \"\"\"\n",
    "    Compute the objective function (that we want to maximize).\n",
    "    \n",
    "    Parameters\n",
    "    ----------\n",
    "    S: Subset of P({1,...,n}) as an array of shape (k,) with k an int in [1,n]\n",
    "    params: tuple containing the fixed value of the deployment cost lambda_, as well as the fixed value of cities n. \n",
    "    It also contains an (n,2) array coords containing for each cities its coordinates and another (n,) array  pop with respective population.\n",
    "    \n",
    "    Returns\n",
    "    -------\n",
    "    f: The evaluated objective function.\n",
    "    \"\"\"\n",
    "    \n",
    "    lambda_, n, coords, pop = params\n",
    "    \n",
    "    #only consider coordinates of cities in S (the -1 is here because indexes start at 0 and the cities at 1, so the i-th cities is on the i-1th row)\n",
    "    coords_S = coords[S-1]\n",
    "    pop_S = pop[S-1]\n",
    "\n",
    "    return np.sum(pop_S) - lambda_ * n * np.pi * (np.max(distance.cdist(coords_S, coords_S, 'euclidean')))**2 / 4"
   ]
  },
  {
   "cell_type": "markdown",
   "metadata": {},
   "source": [
    "**Metropolis-Hastings algorithm**\n",
    "\n",
    "The function we want to maximize is defined on $f : P[1,n] \\rightarrow \\mathbb{R}$.\n",
    "To achieve this, we will minimize g defined as -f."
   ]
  },
  {
   "cell_type": "code",
   "execution_count": 17,
   "metadata": {},
   "outputs": [],
   "source": [
    "def g(S, params):\n",
    "    return -f(S, params)"
   ]
  },
  {
   "cell_type": "markdown",
   "metadata": {},
   "source": [
    "**a) Definition of the base chain**"
   ]
  },
  {
   "cell_type": "markdown",
   "metadata": {},
   "source": [
    "We choose a Random Walk on the hypercube $C = \\{0,1\\}^n$. States are therefore notated as vectors x of dimension n filled with 0's and 1's.\n",
    "\n",
    "Vocabulary: we will say that x and y are neighbours if the two vectors differ by only one digit. Example: (1,0,1,0,0) and (1,0,1,1,0) are neighbours but (1,0,1,0,0) and (1,0,1,1,1) are not.\n",
    "\n",
    "The transition matrix is the following:\n",
    "$$\n",
    "\\psi_{xy} = \\left\\{\n",
    "    \\begin{array}{ll}\n",
    "        \\frac{1}{n+1} & \\mbox{if x and y are neighbours or } x = y  \\\\\n",
    "        0 & \\mbox{otherwise.}\n",
    "    \\end{array}\n",
    "\\right.\n",
    "$$\n",
    "\n",
    "Defined like this, it has all the necessary hypothesis to be a base chain: \n",
    "- irreducible\n",
    "- aperiodic\n",
    "- $\\psi_{xy} > 0$ iff $\\psi_{yx} > 0$\n",
    "\n",
    "The idea behind taking this base chain is that a vector x of dimension n describe perfectly (meaning: without ambiguity) one set of cities S taken in $P[1,n]$.\n",
    "\n",
    "For instance, for $n = 5$, $x = np.array([1,0,0,1,1])$ correspond to $S = \\{1,4,5\\}$. If the i-th digit in x is 1, it means that the i-th city is in S, if the i-th digit in x is 0, it means that the i-th city is not in S.\n",
    "\n",
    "As a result, in the computation of the acceptance probabilities, computing g(x) will be interpreted as computing g(S) with S being the corresponding set of cities (as explained just before)."
   ]
  },
  {
   "cell_type": "markdown",
   "metadata": {},
   "source": [
    "Our aim is to sample from the distribution $\\pi_{\\infty}(x) = \\frac{\\mathbb{1}_{x\\ is\\ a\\ global\\ minimum\\ of\\ g}}{Z_{\\infty}}$.\n",
    "\n",
    "But this is a difficult task, this is why me sample from the distribution $\\pi_{\\beta}$ instead $\\pi_{\\beta}(x) = \\frac{e^{-\\beta g(x)}}{Z_{\\beta}}$.\n",
    "\n",
    "But this is still difficult because of $Z_{\\beta}$. This is why we will construct a Markov chain having $\\pi_{\\beta}$ as its stationary distribution using the Metropolis-Hastings algorithm."
   ]
  },
  {
   "cell_type": "markdown",
   "metadata": {},
   "source": [
    "**b) Definition of the acceptance probabilities**"
   ]
  },
  {
   "cell_type": "markdown",
   "metadata": {},
   "source": [
    "Because if  $\\psi_{xy} = \\psi_{yx} = 0$ then $\\frac{0}{0} = 0$ and that in any other case, $\\frac{\\psi_{xy}}{\\psi_{yx}} = 1$, we can express the acceptance probabilities  as follows:\n",
    "\n",
    "$$\n",
    "a_{xy} = min(1, \\frac{\\pi_{\\beta}(y)}{\\pi_{\\beta}(x)}) =\\left\\{\n",
    "    \\begin{array}{ll}\n",
    "        min(1, e^{-\\beta (g(y) - g(x))}) & \\mbox{if x and y are neighbours}  \\\\\n",
    "        0 & \\mbox{otherwise.}\n",
    "    \\end{array}\n",
    "\\right.\n",
    "$$\n",
    "\n",
    "\n",
    "Note that here, the ${Z_{\\beta}}$ cancels out in the acceptance probabilities computation (this is why we used the Metropolis-Hastings algorithm to begin with).\n"
   ]
  },
  {
   "cell_type": "code",
   "execution_count": 18,
   "metadata": {},
   "outputs": [],
   "source": [
    "def vect_to_S(x):\n",
    "    \"\"\"\n",
    "    Compute the subset S of cities corresponding to the vector encoding\n",
    "    \n",
    "    Parameters\n",
    "    ----------\n",
    "    x: ndarray of shape (n,)\n",
    "    \n",
    "    Returns\n",
    "    -------\n",
    "    S: the subset of corresponding cities\n",
    "    \"\"\"\n",
    "    \n",
    "    return np.argwhere(x).flatten() + 1\n",
    "\n",
    "#vect_to_S(np.array([1,0,1,0,1,0,1,1,1]))"
   ]
  },
  {
   "cell_type": "code",
   "execution_count": 19,
   "metadata": {},
   "outputs": [],
   "source": [
    "def is_neighbour(x,y):\n",
    "    \"\"\"\n",
    "    Find out if x and y are neighbours\n",
    "    \n",
    "    Parameters\n",
    "    ----------\n",
    "    x: ndarray of shape (n,)\n",
    "    y: ndarray of shape (n,)\n",
    "    \n",
    "    Returns\n",
    "    -------\n",
    "    Bool: True if they are neighbours, False otherwise\n",
    "    \"\"\"\n",
    "\n",
    "    if np.sum(x != y) == 1:\n",
    "        return True\n",
    "    \n",
    "    return False\n",
    "    \n",
    "#is_neighbour(np.array([1,0,1,0,1,0,1,1,1]), np.array([0,0,1,0,1,0,1,1,1]))"
   ]
  },
  {
   "cell_type": "code",
   "execution_count": 20,
   "metadata": {},
   "outputs": [],
   "source": [
    "def psi_xy(x, y, bool_is_neighbour):\n",
    "    \"\"\"\n",
    "    Compute the base chain transition probabilities\n",
    "    \n",
    "    Parameters\n",
    "    ----------\n",
    "    x: ndarray of shape (n,)\n",
    "    y: ndarray of shape (n,)\n",
    "    bool_is_neighbour: Boolean (True is x is a neighbour of y, False otherwise)\n",
    "    \n",
    "    Returns\n",
    "    -------\n",
    "    psi_xy: 1/n+1 if x=y or x in a neighbour of y, 0 otherwise\n",
    "    \"\"\"\n",
    "    \n",
    "    n = len(x)\n",
    "    \n",
    "    if (x == y).all() or bool_is_neighbour:\n",
    "        return 1/(n+1)\n",
    "    \n",
    "    return 0"
   ]
  },
  {
   "cell_type": "code",
   "execution_count": 21,
   "metadata": {},
   "outputs": [],
   "source": [
    "def a_xy(beta, x, y, bool_is_neighbour, params):\n",
    "    \"\"\"\n",
    "    Compute the acceptance probabilities defined as min(1, pi_[j]*psi[j,i]/(pi_[i]*psi[i,j]))\n",
    "    \n",
    "    Parameters\n",
    "    ----------\n",
    "    beta: float\n",
    "    x: ndarray of shape (n,)\n",
    "    y: ndarray of shape (n,)\n",
    "    bool_is_neighbour: Boolean (True is x is a neighbour of y, False otherwise)\n",
    "    params: tuple containing the fixed value of the deployment cost lambda_, as well as the fixed value of cities n. \n",
    "    It also contains an (n,2) array coords containing for each cities its coordinates and another (n,) array  pop with respective population.\n",
    "    \n",
    "    Returns\n",
    "    --------\n",
    "    a_xy: The acceptance probability corresponding to going from state x to y\n",
    "    \"\"\"\n",
    "    \n",
    "    if bool_is_neighbour:\n",
    "        S_x = vect_to_S(x)\n",
    "        S_y = vect_to_S(y)\n",
    "        \n",
    "        g_x = g(S_x, params)\n",
    "        g_y = g(S_y, params)\n",
    "        \n",
    "        return min(1, np.exp(-beta*(g_y - g_x)))\n",
    "    \n",
    "    else:\n",
    "        return 0\n",
    "\n",
    "#a_xy(3, np.array([1,0,1,0,1,0,1,1,1]), np.array([0,0,1,0,1,0,1,1,1]), params)\n",
    "#a_xy(3, np.array([1,0,1,1,1,0,1,1,1]), np.array([0,0,1,0,1,0,1,1,1]), params)"
   ]
  },
  {
   "cell_type": "markdown",
   "metadata": {},
   "source": [
    "**c) Constructing the new chain**\n",
    "\n",
    "The transition probabilities of the new chain is defined as follows:\n",
    "\n",
    "$$\n",
    "p_{xy} = \\left\\{\n",
    "    \\begin{array}{ll}\n",
    "        \\psi_{xy}a_{xy} & \\mbox{if } x \\ne y  \\\\\n",
    "        1 - \\sum_{v\\ne x}\\psi_{xv}a_{xv} & x = y\n",
    "    \\end{array}\n",
    "\\right.\n",
    "$$\n",
    "\n",
    "Because $a_{xv} = 0$ when v is not a neighbour of y, the sum can be simplified. Let us note $A_x = \\{y \\in C | is\\_neighbour(x,y) == True\\}$, then:\n",
    "\n",
    "$$\n",
    "p_{xy} = \\left\\{\n",
    "    \\begin{array}{ll}\n",
    "        \\psi_{xy}a_{xy} & \\mbox{if } x \\ne y  \\\\\n",
    "        1 - \\sum_{v \\in A_x}\\psi_{xv}a_{xv} & x = y\n",
    "    \\end{array}\n",
    "\\right.\n",
    "$$\n",
    "\n",
    "Which is way easier to compute because the sum has now only n terms in it!\n",
    "\n",
    "It can be even more simplified if we write like this:\n",
    "\n",
    "$$\n",
    "p_{xy} = \\left\\{\n",
    "    \\begin{array}{ll}\n",
    "        \\psi_{xy}a_{xy} & \\mbox{if x and y are neighbours} \\\\\n",
    "        1 - \\sum_{v \\in A_x}\\psi_{xv}a_{xv} & \\mbox{if } x = y \\\\\n",
    "        0 & \\mbox{otherwise.}\n",
    "    \\end{array}\n",
    "\\right.\n",
    "$$\n",
    "\n",
    "Such a constructed chain will have the following property: $p_{xy}(n) \\xrightarrow[n \\to \\infty]{} \\pi_{\\beta}(y)$ $\\forall y$ in $C$"
   ]
  },
  {
   "cell_type": "code",
   "execution_count": 22,
   "metadata": {},
   "outputs": [],
   "source": [
    "def A_set(x):\n",
    "    \"\"\"\n",
    "    Compute, for a vector x, all its neighbours\n",
    "    \n",
    "    Parameters\n",
    "    ----------\n",
    "    x: ndarray of shape (n,)\n",
    "    \n",
    "    Returns\n",
    "    A: list of all neighbours of x\n",
    "    \"\"\"\n",
    "    \n",
    "    A_x = []\n",
    "    \n",
    "    for i in range(len(x)):\n",
    "        x_neighbour = x.copy()\n",
    "        x_neighbour[i] = (x[i] + 1) % 2\n",
    "        A_x.append(x_neighbour)\n",
    "    return A_x\n",
    "\n",
    "#print(A_set(np.array([1,0,1,1])))"
   ]
  },
  {
   "cell_type": "code",
   "execution_count": 23,
   "metadata": {},
   "outputs": [],
   "source": [
    "def p_xy(beta,x,y,params):\n",
    "    \"\"\"\n",
    "    Computes the transition probabilities of the new chain.\n",
    "    \n",
    "    Parameters\n",
    "    ----------\n",
    "    beta: float\n",
    "    x: ndarray of shape (n,)\n",
    "    y: ndarray of shape (n,)\n",
    "    params: tuple containing the fixed value of the deployment cost lambda_, as well as the fixed value of cities n. \n",
    "    It also contains an (n,2) array coords containing for each cities its coordinates and another (n,) array  pop with respective population.\n",
    "    \n",
    "    Returns\n",
    "    -------\n",
    "    p_xy: Transition probabilities of the new chain\n",
    "    \"\"\"\n",
    "    \n",
    "    bool_ = is_neighbour(x,y)\n",
    "    \n",
    "    if bool_:\n",
    "        return psi_xy(x,y,bool_) * a_xy(beta, x, y, bool_, params)\n",
    "    \n",
    "    elif (x == y).all():\n",
    "        A_x = A_set(x)\n",
    "        return 1 - np.sum([psi_xy(x,v,True)*a_xy(beta,x,v,True, params) for v in A_x])\n",
    "    \n",
    "    else:\n",
    "        return 0"
   ]
  },
  {
   "cell_type": "code",
   "execution_count": 54,
   "metadata": {},
   "outputs": [],
   "source": [
    "def forward(beta,x,params):\n",
    "    \"\"\"\n",
    "    Apply one step of the Metropolis_Hastings algorithm\n",
    "    \n",
    "    Parameters\n",
    "    ----------\n",
    "    beta: float\n",
    "    x: ndarray of shape (n,)\n",
    "    params: tuple containing the fixed value of the deployment cost lambda_, as well as the fixed value of cities n. \n",
    "    It also contains an (n,2) array coords containing for each cities its coordinates and another (n,) array  pop with respective population.\n",
    "    \n",
    "    Returns\n",
    "    -------\n",
    "    y: A state picked in the list of neighbours A_x or itself (loop) according to propabilities p_xy.\n",
    "    \"\"\"\n",
    "    \n",
    "    n = len(x)\n",
    "    A_x = A_set(x) + [x]\n",
    "    p_xA = []\n",
    "    \n",
    "    for elem in A_x:\n",
    "        p_xA.append(p_xy(beta,x,elem,params))\n",
    "        \n",
    "    return A_x[np.random.choice(n+1, p = p_xA)]\n",
    "\n",
    "#y = forward(1, x1, params)\n",
    "#print(is_neighbour(x1,y))\n",
    "#print((x1==y).all())"
   ]
  },
  {
   "cell_type": "markdown",
   "metadata": {},
   "source": [
    "**Tuning of $\\beta$**\n",
    "\n",
    "- Start with $\\beta$ small (i.e. high temperature regime):  the algorithm will then visit all the states of C quite uniformly at the beginning. After a sufficiently high number of iterations, the Metropolized chain is roughly distributed as $\\pi_{\\beta}$.\n",
    "- Increase then $\\beta$(i.e. lower the temperature) and rerun the algorithm from the state found in the previous step.\n",
    "- Repeat step 2 until $\\beta$ is sufficiently large, so that one can be quite sure (i.e. with prob.  1−$\\epsilon$) to have reached a global minimum."
   ]
  },
  {
   "cell_type": "code",
   "execution_count": 67,
   "metadata": {},
   "outputs": [],
   "source": [
    "def metropolis_hastings(betas, n_iter, params):\n",
    "    \"\"\"\n",
    "    Follow the Tuning beta procedure:\n",
    "    - Start with $\\beta$ small (i.e. high temperature regime):  the algorithm will then visit all the states of C quite uniformly at the beginning. After a sufficiently high number of iterations, the Metropolized chain is roughly distributed as $\\pi_{\\beta}$.\n",
    "    - Increase then $\\beta$(i.e. lower the temperature) and rerun the algorithm from the state found in the previous step.\n",
    "    - Repeat step 2 until $\\beta$ is sufficiently large, so that one can be quite sure (i.e. with prob.  1−$\\epsilon$) to have reached a global minimum.\n",
    "    \n",
    "    Parameters\n",
    "    ----------\n",
    "    betas: list of increasing beta (floats)\n",
    "    n_iter: int, number of iteration for each temperature\n",
    "    params: tuple containing the fixed value of the deployment cost lambda_, as well as the fixed value of cities n. \n",
    "    It also contains an (n,2) array coords containing for each cities its coordinates and another (n,) array  pop with respective population.\n",
    "    \n",
    "    Returns\n",
    "    -------\n",
    "    S^*(lambda)_approx: the approximation of the optimizing set.\n",
    "    \"\"\"\n",
    "    x = np.random.randint(0,2,100)\n",
    "\n",
    "    #We decrease the temperature little bit by little bit\n",
    "    for beta in betas:\n",
    "        #At each temperature we do n_iter number of iterations so that the Metropolized chain is rougly distributed as pi_beta\n",
    "        for n in range(n_iter):\n",
    "            x = forward(beta,x,params)\n",
    "            \n",
    "    return vect_to_S(x)"
   ]
  },
  {
   "cell_type": "markdown",
   "metadata": {},
   "source": [
    "For question 2.a."
   ]
  },
  {
   "cell_type": "code",
   "execution_count": 26,
   "metadata": {},
   "outputs": [],
   "source": [
    "def plot_a():\n",
    "    \"\"\"\n",
    "    Plots the evolution of the objective function \n",
    "    \"\"\"\n",
    "    return\n",
    "    "
   ]
  },
  {
   "cell_type": "markdown",
   "metadata": {},
   "source": [
    "For question 2.b."
   ]
  },
  {
   "cell_type": "code",
   "execution_count": 27,
   "metadata": {},
   "outputs": [],
   "source": [
    "def plot_b():\n",
    "    return"
   ]
  },
  {
   "cell_type": "markdown",
   "metadata": {},
   "source": [
    "### **2. Testing the implementation** \n",
    "\n",
    "Generate G_1 according to the generative model G1"
   ]
  },
  {
   "cell_type": "code",
   "execution_count": 28,
   "metadata": {},
   "outputs": [],
   "source": [
    "G_1 = G1()"
   ]
  },
  {
   "cell_type": "code",
   "execution_count": 29,
   "metadata": {},
   "outputs": [
    {
     "name": "stdout",
     "output_type": "stream",
     "text": [
      "0\n",
      "0.007126386111393424\n",
      "0.34021772922016835\n"
     ]
    }
   ],
   "source": [
    "\"Testing the transition probabilities\"\n",
    "\n",
    "lambda_ = 0.5\n",
    "n = 100\n",
    "coords = G_1.x\n",
    "pop = G_1.v\n",
    "\n",
    "params = (lambda_, n, coords, pop)\n",
    "\n",
    "np.random.seed(0)\n",
    "x1 = np.random.randint(0,high = 2, size = 100)\n",
    "x2 = x1.copy()\n",
    "x2[56] = (x1[56] + 1)%2\n",
    "\n",
    "x3 = np.random.randint(0,high = 2, size = 100)\n",
    "\n",
    "print(p_xy(2, x1, x3, params)) #example where x and y are not neighbours ---> expected 0\n",
    "print(p_xy(2, x1, x2, params)) #example where x and y are neighbours\n",
    "print(p_xy(2, x1, x1, params)) #example where x = y"
   ]
  },
  {
   "cell_type": "code",
   "execution_count": 30,
   "metadata": {},
   "outputs": [
    {
     "name": "stdout",
     "output_type": "stream",
     "text": [
      "-2.045279816921493\n",
      "0.9496327190481826\n",
      "3.944545255017858\n",
      "6.939457790987534\n",
      "9.93437032695721\n",
      "12.929282862926886\n",
      "15.924195398896561\n",
      "18.919107934866236\n",
      "21.91402047083591\n",
      "24.90893300680559\n",
      "27.903845542775265\n"
     ]
    }
   ],
   "source": [
    "\"\"\"Testing g\"\"\"\n",
    "\n",
    "S_test = np.array([0,8,55,96])\n",
    "lambdas_ = np.linspace(0,1,11)\n",
    "\n",
    "for lambda_ in lambdas_:\n",
    "    params = (lambda_, n, coords, pop)\n",
    "    g_eval = g(S_test, params)\n",
    "    print(g_eval)"
   ]
  },
  {
   "cell_type": "code",
   "execution_count": 72,
   "metadata": {},
   "outputs": [],
   "source": [
    "\"\"\"Testing the metropolis-hasting function\"\"\"\n",
    "\n",
    "betas = np.logspace(0,3,7)\n",
    "\n",
    "G_1 = G1()\n",
    "lambda_ = 0\n",
    "n = 100\n",
    "coords = G_1.x\n",
    "pop = G_1.v\n",
    "n_iter = 100\n",
    "\n",
    "params = (lambda_, n, coords, pop)\n",
    "\n",
    "S_approx = metropolis_hastings(betas,n_iter,params)"
   ]
  },
  {
   "cell_type": "code",
   "execution_count": 74,
   "metadata": {},
   "outputs": [
    {
     "name": "stdout",
     "output_type": "stream",
     "text": [
      "[  1   2   3   4   5   6   7   8   9  10  11  12  13  14  15  16  17  18\n",
      "  19  20  21  22  23  24  25  26  27  28  29  30  31  32  33  34  35  36\n",
      "  37  38  39  40  41  42  43  44  45  46  47  48  49  50  51  52  53  54\n",
      "  55  56  57  58  59  60  61  62  63  64  65  66  67  68  69  70  71  72\n",
      "  73  74  75  76  77  78  79  80  81  82  83  84  85  86  87  88  89  90\n",
      "  91  92  93  94  95  96  97  98  99 100]\n",
      "100\n"
     ]
    }
   ],
   "source": [
    "print(S_approx)\n",
    "print(len(S_approx))\n",
    "#For lambda = 0, the function returns all cities --> this is good!"
   ]
  },
  {
   "cell_type": "code",
   "execution_count": null,
   "metadata": {},
   "outputs": [],
   "source": []
  }
 ],
 "metadata": {
  "colab": {
   "authorship_tag": "ABX9TyMHjD1LWevMEBRvKxj7qq4T",
   "collapsed_sections": [],
   "include_colab_link": true,
   "name": "model.ipynb",
   "provenance": []
  },
  "kernelspec": {
   "display_name": "Python 3",
   "language": "python",
   "name": "python3"
  },
  "language_info": {
   "codemirror_mode": {
    "name": "ipython",
    "version": 3
   },
   "file_extension": ".py",
   "mimetype": "text/x-python",
   "name": "python",
   "nbconvert_exporter": "python",
   "pygments_lexer": "ipython3",
   "version": "3.8.3"
  }
 },
 "nbformat": 4,
 "nbformat_minor": 4
}
