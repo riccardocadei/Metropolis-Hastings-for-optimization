{
 "cells": [
  {
   "cell_type": "code",
   "execution_count": 2,
   "metadata": {},
   "outputs": [],
   "source": [
    "from DatasetGenerator import *\n",
    "from helpers import *\n",
    "from markov_algos import *\n",
    "from plots import *\n",
    "\n",
    "from time import time\n",
    "%load_ext autoreload\n",
    "%autoreload 2"
   ]
  },
  {
   "cell_type": "markdown",
   "metadata": {},
   "source": [
    "## Testing the implementation"
   ]
  },
  {
   "cell_type": "code",
   "execution_count": 3,
   "metadata": {},
   "outputs": [],
   "source": [
    "def testing_metropolis(data, betas, lambda_, n_iter):\n",
    "    n, coords, pop = data.N, data.x, data.v\n",
    "    \n",
    "    print('most crowded city:', np.argwhere(pop == np.max(pop)))\n",
    "    print(f(np.argwhere(pop == np.max(pop))[0], lambda_, data))\n",
    "    \n",
    "    starting_state = np.ones(n)\n",
    "    S_approx = simulated_annealing(starting_state, betas, n_iter, lambda_, data, verbose=True)\n",
    "    \n",
    "    print('S~:', S_approx)\n",
    "    print('size of S~:', len(S_approx))\n",
    "    print(f(S_approx, lambda_, data))"
   ]
  },
  {
   "cell_type": "code",
   "execution_count": 4,
   "metadata": {},
   "outputs": [
    {
     "name": "stdout",
     "output_type": "stream",
     "text": [
      "most crowded city: [[18]]\n",
      "0.9942961697422417\n",
      "[step 1/7] Time spent on beta = 1.000 : 1.542 sec\n",
      "[step 2/7] Time spent on beta = 3.162 : 1.192 sec\n",
      "[step 3/7] Time spent on beta = 10.000 : 1.201 sec\n",
      "[step 4/7] Time spent on beta = 31.623 : 1.347 sec\n",
      "[step 5/7] Time spent on beta = 100.000 : 1.504 sec\n",
      "[step 6/7] Time spent on beta = 316.228 : 1.358 sec\n",
      "[step 7/7] Time spent on beta = 1000.000 : 1.207 sec\n",
      "S~: [7]\n",
      "size of S~: 1\n",
      "0.9936531048529624\n"
     ]
    }
   ],
   "source": [
    "data = G1()  \n",
    "lambda_ = 100\n",
    "n_iter = 20000\n",
    "betas = np.logspace(0, 3, 7)\n",
    "testing_metropolis(data, betas, lambda_, n_iter)"
   ]
  },
  {
   "cell_type": "code",
   "execution_count": 5,
   "metadata": {},
   "outputs": [
    {
     "name": "stdout",
     "output_type": "stream",
     "text": [
      "most crowded city: [[27]]\n",
      "0.9833938015556597\n",
      "[step 1/7] Time spent on beta = 1.000 : 0.119 sec\n",
      "[step 2/7] Time spent on beta = 3.162 : 0.202 sec\n",
      "[step 3/7] Time spent on beta = 10.000 : 0.146 sec\n",
      "[step 4/7] Time spent on beta = 31.623 : 0.155 sec\n",
      "[step 5/7] Time spent on beta = 100.000 : 0.141 sec\n",
      "[step 6/7] Time spent on beta = 316.228 : 0.172 sec\n",
      "[step 7/7] Time spent on beta = 1000.000 : 0.148 sec\n",
      "S~: [ 0  1  2  3  4  5  6  7  8  9 10 11 12 13 14 15 16 17 18 19 20 21 22 23\n",
      " 24 25 26 27 28 29 30 31 32 33 34 35 36 37 38 39 40 41 42 43 44 45 46 47\n",
      " 48 49 50 51 52 53 54 55 56 57 58 59 60 61 62 63 64 65 66 67 68 69 70 71\n",
      " 72 73 74 75 76 77 78 79 80 81 82 83 84 85 86 87 88 89 90 91 92 93 94 95\n",
      " 96 97 98 99]\n",
      "size of S~: 100\n",
      "47.31299584594098\n"
     ]
    }
   ],
   "source": [
    "data = G1()  \n",
    "lambda_ = 0\n",
    "n_iter = 1000\n",
    "betas = np.logspace(0, 3, 7)\n",
    "testing_metropolis(data, betas, lambda_, n_iter)"
   ]
  },
  {
   "cell_type": "markdown",
   "metadata": {},
   "source": [
    "## Evaluating the starting point"
   ]
  },
  {
   "cell_type": "code",
   "execution_count": null,
   "metadata": {},
   "outputs": [
    {
     "name": "stdout",
     "output_type": "stream",
     "text": [
      "[[0. 0. 1.]\n",
      " [0. 0. 0.]]\n",
      "[[0. 1. 0. 0.]\n",
      " [0. 0. 0. 0.]]\n",
      "[[1. 1. 1.]\n",
      " [0. 0. 0.]]\n",
      "[[0. 1. 1. 0.]\n",
      " [0. 0. 0. 0.]]\n",
      "[[1. 2. 1.]\n",
      " [0. 0. 0.]]\n",
      "[[0. 2. 1. 0.]\n",
      " [0. 0. 0. 0.]]\n",
      "[[2. 2. 1.]\n",
      " [0. 0. 0.]]\n",
      "[[0. 3. 1. 0.]\n",
      " [0. 0. 0. 0.]]\n",
      "[[3. 3. 2.]\n",
      " [0. 0. 0.]]\n",
      "[[0. 3. 1. 1.]\n",
      " [0. 0. 0. 0.]]\n",
      "[[3. 4. 2.]\n",
      " [0. 0. 0.]]\n",
      "[[0. 4. 1. 1.]\n",
      " [0. 0. 0. 0.]]\n",
      "[[4. 4. 2.]\n",
      " [0. 0. 0.]]\n",
      "[[0. 5. 1. 1.]\n",
      " [0. 0. 0. 0.]]\n",
      "[[5. 5. 2.]\n",
      " [0. 0. 0.]]\n",
      "[[0. 5. 2. 1.]\n",
      " [0. 0. 0. 0.]]\n",
      "[[6. 6. 3.]\n",
      " [0. 0. 0.]]\n",
      "[[0. 5. 2. 2.]\n",
      " [0. 0. 0. 0.]]\n",
      "[[6. 6. 4.]\n",
      " [0. 0. 0.]]\n",
      "[[0. 6. 2. 2.]\n",
      " [0. 0. 0. 0.]]\n",
      "[[7. 6. 4.]\n",
      " [0. 0. 0.]]\n",
      "[[0. 7. 2. 2.]\n",
      " [0. 0. 0. 0.]]\n"
     ]
    }
   ],
   "source": [
    "lambdas = [0.5,1]\n",
    "\n",
    "n_best_approx = np.zeros([len(lambdas),3])\n",
    "count_equivalence = np.zeros([len(lambdas),4])\n",
    "\n",
    "n_istances = 30\n",
    "for l,lambda_ in enumerate(lambdas):\n",
    "    for _ in range(n_istances):\n",
    "        data = G1()  \n",
    "        n_iter = 20000\n",
    "        betas = np.logspace(0, 1, 7)\n",
    "        starting_states = [np.random.randint(low=0, high=2, size=data.N), np.zeros(data.N), np.ones(data.N)]\n",
    "        maxs_f_approx = np.zeros(3)\n",
    "    \n",
    "        for i, starting_state in enumerate(starting_states):\n",
    "            S_approx = simulated_annealing(starting_state, betas, n_iter, lambda_, data, verbose=False)\n",
    "            maxs_f_approx[i] = f(S_approx, lambda_, data)\n",
    "        max_f_approx = max(maxs_f_approx)\n",
    "        count = 0\n",
    "        for i, max_f_approx_i in enumerate(maxs_f_approx):\n",
    "            if max_f_approx_i==max_f_approx:\n",
    "                n_best_approx[l,i] += 1\n",
    "                count +=1\n",
    "        count_equivalence[l,count] +=1\n",
    "        print(n_best_approx)\n",
    "        print(count_equivalence)"
   ]
  },
  {
   "cell_type": "code",
   "execution_count": null,
   "metadata": {},
   "outputs": [],
   "source": [
    "starting_states = ['random', 'zeros', 'ones']\n",
    "for l, lambda_ in enumerate(lambdas):\n",
    "    print('\\n\\nFor Lambda = {}'.format(lamnda_))\n",
    "    for i in range(3):\n",
    "        print('Using starting_state={} we get the best approx max of f {:.1%} of times'.format(lambda_,starting_states[i],n_best_approx[l,i]/n_istances)\n",
    "    print('The best approximated solution is the same for all the 3 starting_states {:.1%} of times'.format(count_equivalence[l,i]/n_istances) )\n",
    "        "
   ]
  },
  {
   "cell_type": "markdown",
   "metadata": {},
   "source": [
    "## Question 2.a "
   ]
  },
  {
   "cell_type": "code",
   "execution_count": null,
   "metadata": {},
   "outputs": [],
   "source": [
    "data = G1()\n",
    "n, coords, pop = data.N, data.x, data.v\n",
    "lambda_ = 0.5\n",
    "betas = np.logspace(0, 3, 7)"
   ]
  },
  {
   "cell_type": "code",
   "execution_count": null,
   "metadata": {},
   "outputs": [],
   "source": [
    "simulated_annealing(betas, n_iter, lambda_, data, verbose=True, plot_size=True)"
   ]
  },
  {
   "cell_type": "code",
   "execution_count": null,
   "metadata": {},
   "outputs": [],
   "source": [
    "simulated_annealing(betas, n_iter, lambda_, data, verbose=True, plot_obj=True)"
   ]
  },
  {
   "cell_type": "markdown",
   "metadata": {},
   "source": [
    "## Question 2.b\n",
    "\n",
    "1) Plotting E(|S*(lambda)|) for lambda in range [0.1, 10]"
   ]
  },
  {
   "cell_type": "code",
   "execution_count": null,
   "metadata": {},
   "outputs": [],
   "source": [
    "lambdas = np.logspace(-1, 0, 5)"
   ]
  },
  {
   "cell_type": "code",
   "execution_count": null,
   "metadata": {},
   "outputs": [],
   "source": [
    "plot_avg_size(G1, lambdas, betas, 2000, 5, verbose=True)"
   ]
  },
  {
   "cell_type": "code",
   "execution_count": null,
   "metadata": {},
   "outputs": [],
   "source": [
    "plot_avg_obj(G1, lambdas, betas, 2000, 5, verbose=True)"
   ]
  },
  {
   "cell_type": "markdown",
   "metadata": {},
   "source": [
    "## Same questions for model G2"
   ]
  },
  {
   "cell_type": "code",
   "execution_count": null,
   "metadata": {},
   "outputs": [],
   "source": [
    "data = G2()\n",
    "n, coords, pop = data.N, data.x, data.v\n",
    "lambda_ = 100\n",
    "betas = np.logspace(0, 3, 7)"
   ]
  },
  {
   "cell_type": "code",
   "execution_count": null,
   "metadata": {},
   "outputs": [],
   "source": [
    "simulated_annealing(betas, n_iter, lambda_, data, verbose=True, plot_size=True)"
   ]
  },
  {
   "cell_type": "code",
   "execution_count": null,
   "metadata": {},
   "outputs": [],
   "source": [
    "lambdas = np.linspace(0, 2, 5)\n",
    "\n",
    "plot_avg_obj(G2, lambdas, betas, 2000, 5, verbose=True)"
   ]
  },
  {
   "cell_type": "code",
   "execution_count": null,
   "metadata": {},
   "outputs": [],
   "source": [
    "lambdas = np.linspace(0, 2, 5)\n",
    "plot_avg_obj(G2, lambdas, betas, 2000, 5, verbose=True)"
   ]
  }
 ],
 "metadata": {
  "kernelspec": {
   "display_name": "Python 3",
   "language": "python",
   "name": "python3"
  },
  "language_info": {
   "codemirror_mode": {
    "name": "ipython",
    "version": 3
   },
   "file_extension": ".py",
   "mimetype": "text/x-python",
   "name": "python",
   "nbconvert_exporter": "python",
   "pygments_lexer": "ipython3",
   "version": "3.8.3"
  }
 },
 "nbformat": 4,
 "nbformat_minor": 4
}
