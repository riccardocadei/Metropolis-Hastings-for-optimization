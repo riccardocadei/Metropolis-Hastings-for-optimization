{
  "nbformat": 4,
  "nbformat_minor": 0,
  "metadata": {
    "colab": {
      "name": "model.ipynb",
      "provenance": [],
      "collapsed_sections": [],
      "authorship_tag": "ABX9TyMHjD1LWevMEBRvKxj7qq4T",
      "include_colab_link": true
    },
    "kernelspec": {
      "name": "python3",
      "display_name": "Python 3"
    }
  },
  "cells": [
    {
      "cell_type": "markdown",
      "metadata": {
        "id": "view-in-github",
        "colab_type": "text"
      },
      "source": [
        "<a href=\"https://colab.research.google.com/github/antoinexp/markov-chains-COM-516/blob/main/model.ipynb\" target=\"_parent\"><img src=\"https://colab.research.google.com/assets/colab-badge.svg\" alt=\"Open In Colab\"/></a>"
      ]
    },
    {
      "cell_type": "markdown",
      "metadata": {
        "id": "mCc-m9oEkOGy"
      },
      "source": [
        "This notebook is provided as a starting point to help you generate random instances G1 and G2 as mentioned in the handout.\n",
        "\n",
        "You are free to use and modify it at your own convenience.\n",
        "\n",
        "---\n",
        "\n"
      ]
    },
    {
      "cell_type": "code",
      "metadata": {
        "id": "BMV_GyHTe-A5"
      },
      "source": [
        "import scipy.stats as st\n",
        "import numpy as np\n",
        "import scipy as sp\n",
        "import matplotlib.pyplot as plt"
      ],
      "execution_count": 1,
      "outputs": []
    },
    {
      "cell_type": "code",
      "metadata": {
        "id": "9_4LNOEAfb6H"
      },
      "source": [
        "class DatasetGenerator(object):\n",
        "  def __init__(self, N=100):\n",
        "    self.N = N\n",
        "    self.x = None\n",
        "    self.v = None\n",
        "    self.refresh()\n",
        "  \n",
        "  def refresh(self):\n",
        "    raise Exception(\"undefined\")"
      ],
      "execution_count": 2,
      "outputs": []
    },
    {
      "cell_type": "code",
      "metadata": {
        "id": "69EQnzkcgxtb"
      },
      "source": [
        "class G1(DatasetGenerator):\n",
        "  def refresh(self):\n",
        "    self.x = st.uniform().rvs((self.N,2))\n",
        "    self.v = st.uniform().rvs((self.N,))"
      ],
      "execution_count": 3,
      "outputs": []
    },
    {
      "cell_type": "code",
      "metadata": {
        "id": "NEPDqCflgzWe"
      },
      "source": [
        "class G2(DatasetGenerator):\n",
        "  def refresh(self):\n",
        "    self.x = st.uniform().rvs((self.N,2))\n",
        "    self.v = np.exp(st.norm(-0.85, 1.3).rvs((self.N,)))"
      ],
      "execution_count": 4,
      "outputs": []
    },
    {
      "cell_type": "markdown",
      "metadata": {
        "id": "q_Kco86_fDPA"
      },
      "source": [
        "### Uniform distribution ($\\mathcal U([0,1])$)"
      ]
    },
    {
      "cell_type": "code",
      "metadata": {
        "id": "gZmvCOWse-93"
      },
      "source": [
        "g1 = G1()"
      ],
      "execution_count": 5,
      "outputs": []
    },
    {
      "cell_type": "markdown",
      "metadata": {
        "id": "mQbhQdsEif96"
      },
      "source": [
        "Examples:"
      ]
    },
    {
      "cell_type": "code",
      "metadata": {
        "id": "zXOZp0KUiO5P",
        "outputId": "6447f237-cd07-4c8f-84c8-a5af51e03698",
        "colab": {
          "base_uri": "https://localhost:8080/",
          "height": 265
        }
      },
      "source": [
        "# Plot a histogram of the v array\n",
        "plt.hist(g1.v, bins=30)\n",
        "plt.show()"
      ],
      "execution_count": 6,
      "outputs": [
        {
          "output_type": "display_data",
          "data": {
            "image/png": "[encoded data removed]",
            "text/plain": [
              "<Figure size 432x288 with 1 Axes>"
            ]
          },
          "metadata": {
            "tags": [],
            "needs_background": "light"
          }
        }
      ]
    },
    {
      "cell_type": "code",
      "metadata": {
        "id": "GMHuTtiIii5H",
        "outputId": "f5ff204f-7e45-4f3b-ed0c-5e18cb4a5e52",
        "colab": {
          "base_uri": "https://localhost:8080/",
          "height": 320
        }
      },
      "source": [
        "# plot the position of the points\n",
        "plt.figure(figsize=(5,5))\n",
        "plt.scatter(g1.x[:,0], g1.x[:,1])\n",
        "plt.show()"
      ],
      "execution_count": 7,
      "outputs": [
        {
          "output_type": "display_data",
          "data": {
            "image/png": "[encoded data removed]",
            "text/plain": [
              "<Figure size 360x360 with 1 Axes>"
            ]
          },
          "metadata": {
            "tags": [],
            "needs_background": "light"
          }
        }
      ]
    },
    {
      "cell_type": "markdown",
      "metadata": {
        "id": "CCmeQMcZiuGX"
      },
      "source": [
        "You can refresh the dataset"
      ]
    },
    {
      "cell_type": "code",
      "metadata": {
        "id": "X5zibI5Rix7r"
      },
      "source": [
        "g1.refresh() # generate a new dataset"
      ],
      "execution_count": 8,
      "outputs": []
    },
    {
      "cell_type": "code",
      "metadata": {
        "id": "jwCwLEgEixrE",
        "outputId": "8b0be7af-9771-417c-d22f-9ae719404ee6",
        "colab": {
          "base_uri": "https://localhost:8080/",
          "height": 265
        }
      },
      "source": [
        "plt.hist(g1.v, bins=30)\n",
        "plt.show()"
      ],
      "execution_count": 9,
      "outputs": [
        {
          "output_type": "display_data",
          "data": {
            "image/png": "[encoded data removed]",
            "text/plain": [
              "<Figure size 432x288 with 1 Axes>"
            ]
          },
          "metadata": {
            "tags": [],
            "needs_background": "light"
          }
        }
      ]
    },
    {
      "cell_type": "markdown",
      "metadata": {
        "id": "Ka6haqFplqaU"
      },
      "source": [
        "Or for instance, you can generate 10 instances and compute the average position of all the points:"
      ]
    },
    {
      "cell_type": "code",
      "metadata": {
        "id": "ZB9knwmOlvVP",
        "outputId": "28aecbc3-d2d8-4126-b104-6b12238d8974",
        "colab": {
          "base_uri": "https://localhost:8080/"
        }
      },
      "source": [
        "m = np.array([0., 0.])\n",
        "\n",
        "for _ in range(10):\n",
        "  g1.refresh() # refresh the dataset\n",
        "  m  += 0.1*g1.x.mean()\n",
        "\n",
        "print(m)"
      ],
      "execution_count": 10,
      "outputs": [
        {
          "output_type": "stream",
          "text": [
            "[0.50824386 0.50824386]\n"
          ],
          "name": "stdout"
        }
      ]
    },
    {
      "cell_type": "markdown",
      "metadata": {
        "id": "JgzoeYOafZSM"
      },
      "source": [
        "### Test on log-normal distribution"
      ]
    },
    {
      "cell_type": "code",
      "metadata": {
        "id": "nszpfgZkfROG"
      },
      "source": [
        "g2 = G2()"
      ],
      "execution_count": 11,
      "outputs": []
    },
    {
      "cell_type": "markdown",
      "metadata": {
        "id": "k-CfVPQpjRu9"
      },
      "source": [
        "Example:\n",
        "\n",
        "you can use g2 to generate an instance of the lognormal distribution"
      ]
    },
    {
      "cell_type": "code",
      "metadata": {
        "id": "brEhSUl2i6LC",
        "outputId": "43a129cd-78db-4bef-9980-21758dd8b9b8",
        "colab": {
          "base_uri": "https://localhost:8080/",
          "height": 265
        }
      },
      "source": [
        "plt.hist(g2.v, bins=30)\n",
        "plt.show()"
      ],
      "execution_count": 12,
      "outputs": [
        {
          "output_type": "display_data",
          "data": {
            "image/png": "[encoded data removed]",
            "text/plain": [
              "<Figure size 432x288 with 1 Axes>"
            ]
          },
          "metadata": {
            "tags": [],
            "needs_background": "light"
          }
        }
      ]
    },
    {
      "cell_type": "code",
      "metadata": {
        "id": "QQ5rVZDxjXKA"
      },
      "source": [
        "g2.refresh() # to generate a new x and v"
      ],
      "execution_count": 13,
      "outputs": []
    },
    {
      "cell_type": "code",
      "metadata": {
        "id": "F44feKJokJS2",
        "outputId": "499c5cd5-d2cf-4871-f608-54212dbcb122",
        "colab": {
          "base_uri": "https://localhost:8080/",
          "height": 265
        }
      },
      "source": [
        "plt.hist(g2.v, bins=30)\n",
        "plt.show()"
      ],
      "execution_count": 14,
      "outputs": [
        {
          "output_type": "display_data",
          "data": {
            "image/png": "[encoded data removed]",
            "text/plain": [
              "<Figure size 432x288 with 1 Axes>"
            ]
          },
          "metadata": {
            "tags": [],
            "needs_background": "light"
          }
        }
      ]
    },
    {
      "cell_type": "markdown",
      "metadata": {
        "id": "UrAwB81ykRCM"
      },
      "source": [
        "---"
      ]
    },
    {
      "cell_type": "markdown",
      "metadata": {
        "id": "GeH_E-MGjHvd"
      },
      "source": [
        "### Metropolis Hastings"
      ]
    },
    {
      "cell_type": "code",
      "metadata": {
        "id": "sbZXvBgti6_C"
      },
      "source": [
        "# fill-in this section with your code"
      ],
      "execution_count": 15,
      "outputs": []
    }
  ]
}