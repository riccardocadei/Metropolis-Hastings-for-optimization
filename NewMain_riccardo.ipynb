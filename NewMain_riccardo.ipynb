{
 "cells": [
  {
   "cell_type": "code",
   "execution_count": 28,
   "metadata": {},
   "outputs": [
    {
     "name": "stdout",
     "output_type": "stream",
     "text": [
      "The autoreload extension is already loaded. To reload it, use:\n",
      "  %reload_ext autoreload\n"
     ]
    }
   ],
   "source": [
    "from DatasetGenerator import *\n",
    "from helpers import *\n",
    "from markov_algos import *\n",
    "from plots import *\n",
    "\n",
    "from time import time\n",
    "%load_ext autoreload\n",
    "%autoreload 2"
   ]
  },
  {
   "cell_type": "markdown",
   "metadata": {},
   "source": [
    "## Testing the implementation"
   ]
  },
  {
   "cell_type": "code",
   "execution_count": 3,
   "metadata": {},
   "outputs": [],
   "source": [
    "def testing_metropolis(data, betas, lambda_, n_iter):\n",
    "    n, coords, pop = data.N, data.x, data.v\n",
    "    \n",
    "    print('most crowded city:', np.argwhere(pop == np.max(pop)))\n",
    "    print(f(np.argwhere(pop == np.max(pop))[0], lambda_, data))\n",
    "    \n",
    "    starting_state = np.ones(n)\n",
    "    S_approx = simulated_annealing(starting_state, betas, n_iter, lambda_, data, verbose=True)\n",
    "    \n",
    "    print('S~:', S_approx)\n",
    "    print('size of S~:', len(S_approx))\n",
    "    print(f(S_approx, lambda_, data))"
   ]
  },
  {
   "cell_type": "code",
   "execution_count": 17,
   "metadata": {},
   "outputs": [
    {
     "name": "stdout",
     "output_type": "stream",
     "text": [
      "most crowded city: [[68]]\n",
      "0.9851525993316583\n",
      "[step 1/7] Time spent on beta = 1.000 : 2.400 sec\n",
      "[step 2/7] Time spent on beta = 3.162 : 2.587 sec\n",
      "[step 3/7] Time spent on beta = 10.000 : 2.962 sec\n",
      "[step 4/7] Time spent on beta = 31.623 : 2.848 sec\n",
      "[step 5/7] Time spent on beta = 100.000 : 2.961 sec\n",
      "[step 6/7] Time spent on beta = 316.228 : 3.027 sec\n",
      "[step 7/7] Time spent on beta = 1000.000 : 2.797 sec\n",
      "S~: [ 0  1  2  3  4  7  8  9 11 12 13 14 15 16 18 19 20 21 22 23 24 25 27 28\n",
      " 30 31 34 35 36 37 38 39 40 41 43 44 45 46 47 48 49 50 51 53 54 55 56 58\n",
      " 59 60 61 62 63 64 65 66 68 69 70 71 73 76 77 78 81 82 83 84 86 87 89 90\n",
      " 91 92 93 94 96 97 98 99]\n",
      "size of S~: 80\n",
      "5.941690483380015\n"
     ]
    }
   ],
   "source": [
    "data = G1()  \n",
    "lambda_ = 0.5\n",
    "n_iter = 20000\n",
    "betas = np.linspace(0, 4, 10)\n",
    "testing_metropolis(data, betas, lambda_, n_iter)"
   ]
  },
  {
   "cell_type": "code",
   "execution_count": 5,
   "metadata": {},
   "outputs": [
    {
     "name": "stdout",
     "output_type": "stream",
     "text": [
      "most crowded city: [[27]]\n",
      "0.9833938015556597\n",
      "[step 1/7] Time spent on beta = 1.000 : 0.119 sec\n",
      "[step 2/7] Time spent on beta = 3.162 : 0.202 sec\n",
      "[step 3/7] Time spent on beta = 10.000 : 0.146 sec\n",
      "[step 4/7] Time spent on beta = 31.623 : 0.155 sec\n",
      "[step 5/7] Time spent on beta = 100.000 : 0.141 sec\n",
      "[step 6/7] Time spent on beta = 316.228 : 0.172 sec\n",
      "[step 7/7] Time spent on beta = 1000.000 : 0.148 sec\n",
      "S~: [ 0  1  2  3  4  5  6  7  8  9 10 11 12 13 14 15 16 17 18 19 20 21 22 23\n",
      " 24 25 26 27 28 29 30 31 32 33 34 35 36 37 38 39 40 41 42 43 44 45 46 47\n",
      " 48 49 50 51 52 53 54 55 56 57 58 59 60 61 62 63 64 65 66 67 68 69 70 71\n",
      " 72 73 74 75 76 77 78 79 80 81 82 83 84 85 86 87 88 89 90 91 92 93 94 95\n",
      " 96 97 98 99]\n",
      "size of S~: 100\n",
      "47.31299584594098\n"
     ]
    }
   ],
   "source": [
    "data = G1()  \n",
    "lambda_ = 0\n",
    "n_iter = 1000\n",
    "betas = np.linspace(0, 4, 10)\n",
    "testing_metropolis(data, betas, lambda_, n_iter)"
   ]
  },
  {
   "cell_type": "markdown",
   "metadata": {},
   "source": [
    "## Evaluating the starting point"
   ]
  },
  {
   "cell_type": "code",
   "execution_count": 6,
   "metadata": {},
   "outputs": [
    {
     "name": "stdout",
     "output_type": "stream",
     "text": [
      "[[0. 0. 1.]\n",
      " [0. 0. 0.]]\n",
      "[[0. 1. 0. 0.]\n",
      " [0. 0. 0. 0.]]\n",
      "[[1. 1. 1.]\n",
      " [0. 0. 0.]]\n",
      "[[0. 1. 1. 0.]\n",
      " [0. 0. 0. 0.]]\n",
      "[[1. 2. 1.]\n",
      " [0. 0. 0.]]\n",
      "[[0. 2. 1. 0.]\n",
      " [0. 0. 0. 0.]]\n",
      "[[2. 2. 1.]\n",
      " [0. 0. 0.]]\n",
      "[[0. 3. 1. 0.]\n",
      " [0. 0. 0. 0.]]\n",
      "[[3. 3. 2.]\n",
      " [0. 0. 0.]]\n",
      "[[0. 3. 1. 1.]\n",
      " [0. 0. 0. 0.]]\n",
      "[[3. 4. 2.]\n",
      " [0. 0. 0.]]\n",
      "[[0. 4. 1. 1.]\n",
      " [0. 0. 0. 0.]]\n",
      "[[4. 4. 2.]\n",
      " [0. 0. 0.]]\n",
      "[[0. 5. 1. 1.]\n",
      " [0. 0. 0. 0.]]\n",
      "[[5. 5. 2.]\n",
      " [0. 0. 0.]]\n",
      "[[0. 5. 2. 1.]\n",
      " [0. 0. 0. 0.]]\n",
      "[[6. 6. 3.]\n",
      " [0. 0. 0.]]\n",
      "[[0. 5. 2. 2.]\n",
      " [0. 0. 0. 0.]]\n",
      "[[6. 6. 4.]\n",
      " [0. 0. 0.]]\n",
      "[[0. 6. 2. 2.]\n",
      " [0. 0. 0. 0.]]\n",
      "[[7. 6. 4.]\n",
      " [0. 0. 0.]]\n",
      "[[0. 7. 2. 2.]\n",
      " [0. 0. 0. 0.]]\n",
      "[[7. 7. 4.]\n",
      " [0. 0. 0.]]\n",
      "[[0. 8. 2. 2.]\n",
      " [0. 0. 0. 0.]]\n",
      "[[8. 7. 4.]\n",
      " [0. 0. 0.]]\n",
      "[[0. 9. 2. 2.]\n",
      " [0. 0. 0. 0.]]\n",
      "[[8. 7. 5.]\n",
      " [0. 0. 0.]]\n",
      "[[ 0. 10.  2.  2.]\n",
      " [ 0.  0.  0.  0.]]\n",
      "[[9. 8. 6.]\n",
      " [0. 0. 0.]]\n",
      "[[ 0. 10.  2.  3.]\n",
      " [ 0.  0.  0.  0.]]\n",
      "[[10.  9.  7.]\n",
      " [ 0.  0.  0.]]\n",
      "[[ 0. 10.  2.  4.]\n",
      " [ 0.  0.  0.  0.]]\n",
      "[[10.  9.  8.]\n",
      " [ 0.  0.  0.]]\n",
      "[[ 0. 11.  2.  4.]\n",
      " [ 0.  0.  0.  0.]]\n",
      "[[11.  9.  8.]\n",
      " [ 0.  0.  0.]]\n",
      "[[ 0. 12.  2.  4.]\n",
      " [ 0.  0.  0.  0.]]\n",
      "[[12. 10.  9.]\n",
      " [ 0.  0.  0.]]\n",
      "[[ 0. 12.  2.  5.]\n",
      " [ 0.  0.  0.  0.]]\n",
      "[[12. 10. 10.]\n",
      " [ 0.  0.  0.]]\n",
      "[[ 0. 13.  2.  5.]\n",
      " [ 0.  0.  0.  0.]]\n",
      "[[13. 11. 10.]\n",
      " [ 0.  0.  0.]]\n",
      "[[ 0. 13.  3.  5.]\n",
      " [ 0.  0.  0.  0.]]\n",
      "[[13. 11. 11.]\n",
      " [ 0.  0.  0.]]\n",
      "[[ 0. 14.  3.  5.]\n",
      " [ 0.  0.  0.  0.]]\n",
      "[[13. 12. 12.]\n",
      " [ 0.  0.  0.]]\n",
      "[[ 0. 14.  4.  5.]\n",
      " [ 0.  0.  0.  0.]]\n",
      "[[13. 12. 13.]\n",
      " [ 0.  0.  0.]]\n",
      "[[ 0. 15.  4.  5.]\n",
      " [ 0.  0.  0.  0.]]\n",
      "[[14. 13. 14.]\n",
      " [ 0.  0.  0.]]\n",
      "[[ 0. 15.  4.  6.]\n",
      " [ 0.  0.  0.  0.]]\n",
      "[[15. 14. 15.]\n",
      " [ 0.  0.  0.]]\n",
      "[[ 0. 15.  4.  7.]\n",
      " [ 0.  0.  0.  0.]]\n",
      "[[15. 15. 15.]\n",
      " [ 0.  0.  0.]]\n",
      "[[ 0. 16.  4.  7.]\n",
      " [ 0.  0.  0.  0.]]\n",
      "[[16. 16. 16.]\n",
      " [ 0.  0.  0.]]\n",
      "[[ 0. 16.  4.  8.]\n",
      " [ 0.  0.  0.  0.]]\n",
      "[[16. 17. 16.]\n",
      " [ 0.  0.  0.]]\n",
      "[[ 0. 17.  4.  8.]\n",
      " [ 0.  0.  0.  0.]]\n",
      "[[16. 18. 16.]\n",
      " [ 0.  0.  0.]]\n",
      "[[ 0. 18.  4.  8.]\n",
      " [ 0.  0.  0.  0.]]\n",
      "[[16. 18. 16.]\n",
      " [ 0.  1.  0.]]\n",
      "[[ 0. 18.  4.  8.]\n",
      " [ 0.  1.  0.  0.]]\n",
      "[[16. 18. 16.]\n",
      " [ 0.  1.  1.]]\n",
      "[[ 0. 18.  4.  8.]\n",
      " [ 0.  2.  0.  0.]]\n",
      "[[16. 18. 16.]\n",
      " [ 0.  2.  1.]]\n",
      "[[ 0. 18.  4.  8.]\n",
      " [ 0.  3.  0.  0.]]\n",
      "[[16. 18. 16.]\n",
      " [ 1.  3.  2.]]\n",
      "[[ 0. 18.  4.  8.]\n",
      " [ 0.  3.  0.  1.]]\n",
      "[[16. 18. 16.]\n",
      " [ 2.  4.  3.]]\n",
      "[[ 0. 18.  4.  8.]\n",
      " [ 0.  3.  0.  2.]]\n",
      "[[16. 18. 16.]\n",
      " [ 3.  5.  4.]]\n",
      "[[ 0. 18.  4.  8.]\n",
      " [ 0.  3.  0.  3.]]\n",
      "[[16. 18. 16.]\n",
      " [ 4.  6.  5.]]\n",
      "[[ 0. 18.  4.  8.]\n",
      " [ 0.  3.  0.  4.]]\n",
      "[[16. 18. 16.]\n",
      " [ 5.  7.  6.]]\n",
      "[[ 0. 18.  4.  8.]\n",
      " [ 0.  3.  0.  5.]]\n",
      "[[16. 18. 16.]\n",
      " [ 6.  8.  7.]]\n",
      "[[ 0. 18.  4.  8.]\n",
      " [ 0.  3.  0.  6.]]\n",
      "[[16. 18. 16.]\n",
      " [ 7.  9.  8.]]\n",
      "[[ 0. 18.  4.  8.]\n",
      " [ 0.  3.  0.  7.]]\n",
      "[[16. 18. 16.]\n",
      " [ 7.  9.  9.]]\n",
      "[[ 0. 18.  4.  8.]\n",
      " [ 0.  4.  0.  7.]]\n",
      "[[16. 18. 16.]\n",
      " [ 7. 10.  9.]]\n",
      "[[ 0. 18.  4.  8.]\n",
      " [ 0.  5.  0.  7.]]\n",
      "[[16. 18. 16.]\n",
      " [ 7. 11.  9.]]\n",
      "[[ 0. 18.  4.  8.]\n",
      " [ 0.  6.  0.  7.]]\n",
      "[[16. 18. 16.]\n",
      " [ 8. 11.  9.]]\n",
      "[[ 0. 18.  4.  8.]\n",
      " [ 0.  7.  0.  7.]]\n",
      "[[16. 18. 16.]\n",
      " [ 9. 11.  9.]]\n",
      "[[ 0. 18.  4.  8.]\n",
      " [ 0.  8.  0.  7.]]\n",
      "[[16. 18. 16.]\n",
      " [10. 12. 10.]]\n",
      "[[ 0. 18.  4.  8.]\n",
      " [ 0.  8.  0.  8.]]\n",
      "[[16. 18. 16.]\n",
      " [11. 13. 11.]]\n",
      "[[ 0. 18.  4.  8.]\n",
      " [ 0.  8.  0.  9.]]\n",
      "[[16. 18. 16.]\n",
      " [11. 14. 12.]]\n",
      "[[ 0. 18.  4.  8.]\n",
      " [ 0.  8.  1.  9.]]\n",
      "[[16. 18. 16.]\n",
      " [11. 15. 13.]]\n",
      "[[ 0. 18.  4.  8.]\n",
      " [ 0.  8.  2.  9.]]\n",
      "[[16. 18. 16.]\n",
      " [12. 16. 14.]]\n",
      "[[ 0. 18.  4.  8.]\n",
      " [ 0.  8.  2. 10.]]\n",
      "[[16. 18. 16.]\n",
      " [13. 16. 15.]]\n",
      "[[ 0. 18.  4.  8.]\n",
      " [ 0.  8.  3. 10.]]\n",
      "[[16. 18. 16.]\n",
      " [13. 17. 15.]]\n",
      "[[ 0. 18.  4.  8.]\n",
      " [ 0.  9.  3. 10.]]\n",
      "[[16. 18. 16.]\n",
      " [14. 18. 16.]]\n",
      "[[ 0. 18.  4.  8.]\n",
      " [ 0.  9.  3. 11.]]\n",
      "[[16. 18. 16.]\n",
      " [15. 18. 16.]]\n",
      "[[ 0. 18.  4.  8.]\n",
      " [ 0. 10.  3. 11.]]\n",
      "[[16. 18. 16.]\n",
      " [16. 19. 17.]]\n",
      "[[ 0. 18.  4.  8.]\n",
      " [ 0. 10.  3. 12.]]\n",
      "[[16. 18. 16.]\n",
      " [17. 20. 18.]]\n",
      "[[ 0. 18.  4.  8.]\n",
      " [ 0. 10.  3. 13.]]\n",
      "[[16. 18. 16.]\n",
      " [17. 21. 18.]]\n",
      "[[ 0. 18.  4.  8.]\n",
      " [ 0. 11.  3. 13.]]\n",
      "[[16. 18. 16.]\n",
      " [18. 21. 19.]]\n",
      "[[ 0. 18.  4.  8.]\n",
      " [ 0. 11.  4. 13.]]\n",
      "[[16. 18. 16.]\n",
      " [18. 22. 20.]]\n",
      "[[ 0. 18.  4.  8.]\n",
      " [ 0. 11.  5. 13.]]\n",
      "[[16. 18. 16.]\n",
      " [19. 23. 21.]]\n",
      "[[ 0. 18.  4.  8.]\n",
      " [ 0. 11.  5. 14.]]\n"
     ]
    }
   ],
   "source": [
    "lambdas = [0.5,1]\n",
    "\n",
    "n_best_approx = np.zeros([len(lambdas),3])\n",
    "count_equivalence = np.zeros([len(lambdas),4])\n",
    "\n",
    "n_istances = 30\n",
    "for l,lambda_ in enumerate(lambdas):\n",
    "    for _ in range(n_istances):\n",
    "        data = G1()  \n",
    "        n_iter = 20000\n",
    "        betas = np.linspace(0, 4, 10)\n",
    "        starting_states = [np.random.randint(low=0, high=2, size=data.N), np.zeros(data.N), np.ones(data.N)]\n",
    "        maxs_f_approx = np.zeros(3)\n",
    "    \n",
    "        for i, starting_state in enumerate(starting_states):\n",
    "            S_approx = simulated_annealing(starting_state, betas, n_iter, lambda_, data, verbose=False)\n",
    "            maxs_f_approx[i] = f(S_approx, lambda_, data)\n",
    "        max_f_approx = max(maxs_f_approx)\n",
    "        count = 0\n",
    "        for i, max_f_approx_i in enumerate(maxs_f_approx):\n",
    "            if max_f_approx_i==max_f_approx:\n",
    "                n_best_approx[l,i] += 1\n",
    "                count +=1\n",
    "        count_equivalence[l,count] +=1\n",
    "print(n_best_approx)\n",
    "print(count_equivalence)"
   ]
  },
  {
   "cell_type": "code",
   "execution_count": 15,
   "metadata": {},
   "outputs": [
    {
     "name": "stdout",
     "output_type": "stream",
     "text": [
      "\n",
      "\n",
      "For Lambda = 0.5\n",
      "Using starting_state=random we get the best approx max of f 53.3% of times\n",
      "Using starting_state=zeros we get the best approx max of f 60.0% of times\n",
      "Using starting_state=ones we get the best approx max of f 53.3% of times\n",
      "The best approximated solution is the same for all the 3 starting_states 26.7% of times\n",
      "The best approximated solution is the same only for 2 starting_states 13.3% of times\n",
      "The best approximated solution is the unique among the three starting_states 60.0% of times\n",
      "\n",
      "\n",
      "For Lambda = 1\n",
      "Using starting_state=random we get the best approx max of f 63.3% of times\n",
      "Using starting_state=zeros we get the best approx max of f 76.7% of times\n",
      "Using starting_state=ones we get the best approx max of f 70.0% of times\n",
      "The best approximated solution is the same for all the 3 starting_states 46.7% of times\n",
      "The best approximated solution is the same only for 2 starting_states 16.7% of times\n",
      "The best approximated solution is the unique among the three starting_states 36.7% of times\n"
     ]
    }
   ],
   "source": [
    "starting_states = ['random', 'zeros', 'ones']\n",
    "for l, lambda_ in enumerate(lambdas):\n",
    "    print('\\n\\nFor Lambda = {}'.format(lambda_))\n",
    "    for i in range(3):\n",
    "        print('Using starting_state={} we get the best approx max of f {:.1%} of times'.format(starting_states[i],n_best_approx[l,i]/n_istances))\n",
    "    \n",
    "    print('The best approximated solution is the same for all the 3 starting_states {:.1%} of times'.format(count_equivalence[l,3]/n_istances) )\n",
    "    print('The best approximated solution is the same only for 2 starting_states {:.1%} of times'.format(count_equivalence[l,2]/n_istances) )\n",
    "    print('The best approximated solution is the unique among the three starting_states {:.1%} of times'.format(count_equivalence[l,1]/n_istances) ) "
   ]
  },
  {
   "cell_type": "markdown",
   "metadata": {},
   "source": [
    "## Question 2.a "
   ]
  },
  {
   "cell_type": "code",
   "execution_count": null,
   "metadata": {},
   "outputs": [],
   "source": [
    "data = G1()\n",
    "n, coords, pop = data.N, data.x, data.v\n",
    "lambda_ = 0.5\n",
    "betas = np.linspace(0, 3, 7)"
   ]
  },
  {
   "cell_type": "code",
   "execution_count": null,
   "metadata": {},
   "outputs": [],
   "source": [
    "simulated_annealing(betas, n_iter, lambda_, data, verbose=True, plot_size=True)"
   ]
  },
  {
   "cell_type": "code",
   "execution_count": null,
   "metadata": {},
   "outputs": [],
   "source": [
    "simulated_annealing(betas, n_iter, lambda_, data, verbose=True, plot_obj=True)"
   ]
  },
  {
   "cell_type": "markdown",
   "metadata": {},
   "source": [
    "## Question 2.b\n",
    "\n",
    "1) Plotting E(|S*(lambda)|) for lambda in range [0.1, 10]"
   ]
  },
  {
   "cell_type": "code",
   "execution_count": null,
   "metadata": {},
   "outputs": [],
   "source": [
    "lambdas = np.linspace(-1, 0, 5)"
   ]
  },
  {
   "cell_type": "code",
   "execution_count": null,
   "metadata": {},
   "outputs": [],
   "source": [
    "plot_avg_size(G1, lambdas, betas, 2000, 5, verbose=True)"
   ]
  },
  {
   "cell_type": "code",
   "execution_count": null,
   "metadata": {},
   "outputs": [],
   "source": [
    "plot_avg_obj(G1, lambdas, betas, 2000, 5, verbose=True)"
   ]
  },
  {
   "cell_type": "code",
   "execution_count": 36,
   "metadata": {},
   "outputs": [
    {
     "name": "stderr",
     "output_type": "stream",
     "text": [
      "C:\\Users\\Riccardo\\Desktop\\1° Semester\\Markov Chain and algorithmic applications\\markov-chains-COM-516\\plots.py:65: UserWarning: Matplotlib is currently using module://ipykernel.pylab.backend_inline, which is a non-GUI backend, so cannot show the figure.\n",
      "C:\\Users\\Riccardo\\Desktop\\1° Semester\\Markov Chain and algorithmic applications\\markov-chains-COM-516\\plots.py:66: UserWarning: Matplotlib is currently using module://ipykernel.pylab.backend_inline, which is a non-GUI backend, so cannot show the figure.\n"
     ]
    },
    {
     "data": {
      "image/png": "[encoded data removed]",
      "text/plain": [
       "<Figure size 432x288 with 1 Axes>"
      ]
     },
     "metadata": {
      "needs_background": "light"
     },
     "output_type": "display_data"
    },
    {
     "data": {
      "image/png": "[encoded data removed]",
      "text/plain": [
       "<Figure size 432x288 with 1 Axes>"
      ]
     },
     "metadata": {
      "needs_background": "light"
     },
     "output_type": "display_data"
    }
   ],
   "source": [
    "G = G1 \n",
    "lambdas = np.linspace(0, 1, 5)\n",
    "betas = np.linspace(1, 10000, 7)\n",
    "n_iter = 100\n",
    "nb_instances = 1\n",
    "plot_avg_lambda(G, lambdas, betas, n_iter, nb_instances, verbose=False)"
   ]
  },
  {
   "cell_type": "code",
   "execution_count": 20,
   "metadata": {},
   "outputs": [
    {
     "name": "stdout",
     "output_type": "stream",
     "text": [
      "most crowded city: [[1]]\n",
      "0.990558054963553\n",
      "[step 1/7] Time spent on beta = 1.000 : 5.651 sec\n",
      "[step 2/7] Time spent on beta = 4.642 : 5.548 sec\n",
      "[step 3/7] Time spent on beta = 21.544 : 5.686 sec\n",
      "[step 4/7] Time spent on beta = 100.000 : 5.573 sec\n",
      "[step 5/7] Time spent on beta = 464.159 : 5.626 sec\n",
      "[step 6/7] Time spent on beta = 2154.435 : 5.631 sec\n",
      "[step 7/7] Time spent on beta = 10000.000 : 5.629 sec\n",
      "S~: [ 1 18 24 25 29 30 38 42 46 48 50 64 72 77 94]\n",
      "size of S~: 15\n",
      "3.448133349680065\n"
     ]
    }
   ],
   "source": [
    "data = G() \n",
    "lambda_ = 1\n",
    "n_iter = 50000\n",
    "betas = np.linspace(0, 10000, 10)\n",
    "testing_metropolis(data, betas, lambda_, n_iter)"
   ]
  },
  {
   "cell_type": "markdown",
   "metadata": {},
   "source": [
    "## Same questions for model G2"
   ]
  },
  {
   "cell_type": "code",
   "execution_count": null,
   "metadata": {},
   "outputs": [],
   "source": [
    "data = G2()\n",
    "n, coords, pop = data.N, data.x, data.v\n",
    "lambda_ = 100\n",
    "betas = np.linspace(0, 4, 10)"
   ]
  },
  {
   "cell_type": "code",
   "execution_count": null,
   "metadata": {},
   "outputs": [],
   "source": [
    "simulated_annealing(betas, n_iter, lambda_, data, verbose=True, plot_size=True)"
   ]
  },
  {
   "cell_type": "code",
   "execution_count": null,
   "metadata": {},
   "outputs": [],
   "source": [
    "lambdas = np.linspace(0, 2, 5)\n",
    "\n",
    "plot_avg_obj(G2, lambdas, betas, 2000, 5, verbose=True)"
   ]
  },
  {
   "cell_type": "code",
   "execution_count": null,
   "metadata": {},
   "outputs": [],
   "source": [
    "lambdas = np.linspace(0, 2, 5)\n",
    "plot_avg_obj(G2, lambdas, betas, 2000, 5, verbose=True)"
   ]
  }
 ],
 "metadata": {
  "kernelspec": {
   "display_name": "Python 3",
   "language": "python",
   "name": "python3"
  },
  "language_info": {
   "codemirror_mode": {
    "name": "ipython",
    "version": 3
   },
   "file_extension": ".py",
   "mimetype": "text/x-python",
   "name": "python",
   "nbconvert_exporter": "python",
   "pygments_lexer": "ipython3",
   "version": "3.8.3"
  }
 },
 "nbformat": 4,
 "nbformat_minor": 4
}
