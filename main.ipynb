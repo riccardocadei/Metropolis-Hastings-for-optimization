{
 "cells": [
  {
   "cell_type": "markdown",
   "metadata": {
    "colab_type": "text",
    "id": "view-in-github"
   },
   "source": [
    "<a href=\"https://colab.research.google.com/github/antoinexp/markov-chains-COM-516/blob/main/model.ipynb\" target=\"_parent\"><img src=\"https://colab.research.google.com/assets/colab-badge.svg\" alt=\"Open In Colab\"/></a>"
   ]
  },
  {
   "cell_type": "markdown",
   "metadata": {
    "id": "mCc-m9oEkOGy"
   },
   "source": [
    "This notebook is provided as a starting point to help you generate random instances G1 and G2 as mentioned in the handout.\n",
    "\n",
    "You are free to use and modify it at your own convenience.\n",
    "\n",
    "---\n",
    "\n"
   ]
  },
  {
   "cell_type": "code",
   "execution_count": 1,
   "metadata": {
    "id": "BMV_GyHTe-A5"
   },
   "outputs": [],
   "source": [
    "import scipy.stats as st\n",
    "import numpy as np\n",
    "import scipy as sp\n",
    "import matplotlib.pyplot as plt"
   ]
  },
  {
   "cell_type": "code",
   "execution_count": 2,
   "metadata": {
    "id": "9_4LNOEAfb6H"
   },
   "outputs": [],
   "source": [
    "class DatasetGenerator(object):\n",
    "  def __init__(self, N=100):\n",
    "    self.N = N\n",
    "    self.x = None\n",
    "    self.v = None\n",
    "    self.refresh()\n",
    "  \n",
    "  def refresh(self):\n",
    "    raise Exception(\"undefined\")"
   ]
  },
  {
   "cell_type": "code",
   "execution_count": 3,
   "metadata": {
    "id": "69EQnzkcgxtb"
   },
   "outputs": [],
   "source": [
    "class G1(DatasetGenerator):\n",
    "  def refresh(self):\n",
    "    self.x = st.uniform().rvs((self.N,2))\n",
    "    self.v = st.uniform().rvs((self.N,))"
   ]
  },
  {
   "cell_type": "code",
   "execution_count": 4,
   "metadata": {
    "id": "NEPDqCflgzWe"
   },
   "outputs": [],
   "source": [
    "class G2(DatasetGenerator):\n",
    "  def refresh(self):\n",
    "    self.x = st.uniform().rvs((self.N,2))\n",
    "    self.v = np.exp(st.norm(-0.85, 1.3).rvs((self.N,)))"
   ]
  },
  {
   "cell_type": "markdown",
   "metadata": {
    "id": "q_Kco86_fDPA"
   },
   "source": [
    "### Uniform distribution ($\\mathcal U([0,1])$)"
   ]
  },
  {
   "cell_type": "code",
   "execution_count": 5,
   "metadata": {
    "id": "gZmvCOWse-93"
   },
   "outputs": [],
   "source": [
    "g1 = G1()"
   ]
  },
  {
   "cell_type": "markdown",
   "metadata": {
    "id": "mQbhQdsEif96"
   },
   "source": [
    "Examples:"
   ]
  },
  {
   "cell_type": "code",
   "execution_count": 6,
   "metadata": {
    "colab": {
     "base_uri": "https://localhost:8080/",
     "height": 265
    },
    "id": "zXOZp0KUiO5P",
    "outputId": "6447f237-cd07-4c8f-84c8-a5af51e03698"
   },
   "outputs": [
    {
     "data": {
      "image/png": "[encoded data removed]",
      "text/plain": [
       "<Figure size 432x288 with 1 Axes>"
      ]
     },
     "metadata": {
      "needs_background": "light"
     },
     "output_type": "display_data"
    }
   ],
   "source": [
    "# Plot a histogram of the v array\n",
    "plt.hist(g1.v, bins=30)\n",
    "plt.show()"
   ]
  },
  {
   "cell_type": "code",
   "execution_count": 7,
   "metadata": {
    "colab": {
     "base_uri": "https://localhost:8080/",
     "height": 320
    },
    "id": "GMHuTtiIii5H",
    "outputId": "f5ff204f-7e45-4f3b-ed0c-5e18cb4a5e52"
   },
   "outputs": [
    {
     "data": {
      "image/png": "[encoded data removed]",
      "text/plain": [
       "<Figure size 360x360 with 1 Axes>"
      ]
     },
     "metadata": {
      "needs_background": "light"
     },
     "output_type": "display_data"
    }
   ],
   "source": [
    "# plot the position of the points\n",
    "plt.figure(figsize=(5,5))\n",
    "plt.scatter(g1.x[:,0], g1.x[:,1])\n",
    "plt.show()"
   ]
  },
  {
   "cell_type": "markdown",
   "metadata": {
    "id": "CCmeQMcZiuGX"
   },
   "source": [
    "You can refresh the dataset"
   ]
  },
  {
   "cell_type": "code",
   "execution_count": 8,
   "metadata": {
    "id": "X5zibI5Rix7r"
   },
   "outputs": [],
   "source": [
    "g1.refresh() # generate a new dataset"
   ]
  },
  {
   "cell_type": "code",
   "execution_count": 9,
   "metadata": {
    "colab": {
     "base_uri": "https://localhost:8080/",
     "height": 265
    },
    "id": "jwCwLEgEixrE",
    "outputId": "8b0be7af-9771-417c-d22f-9ae719404ee6"
   },
   "outputs": [
    {
     "data": {
      "image/png": "[encoded data removed]",
      "text/plain": [
       "<Figure size 432x288 with 1 Axes>"
      ]
     },
     "metadata": {
      "needs_background": "light"
     },
     "output_type": "display_data"
    }
   ],
   "source": [
    "plt.hist(g1.v, bins=30)\n",
    "plt.show()"
   ]
  },
  {
   "cell_type": "markdown",
   "metadata": {
    "id": "Ka6haqFplqaU"
   },
   "source": [
    "Or for instance, you can generate 10 instances and compute the average position of all the points:"
   ]
  },
  {
   "cell_type": "code",
   "execution_count": 10,
   "metadata": {
    "colab": {
     "base_uri": "https://localhost:8080/"
    },
    "id": "ZB9knwmOlvVP",
    "outputId": "28aecbc3-d2d8-4126-b104-6b12238d8974"
   },
   "outputs": [
    {
     "name": "stdout",
     "output_type": "stream",
     "text": [
      "[0.50649525 0.50649525]\n"
     ]
    }
   ],
   "source": [
    "m = np.array([0., 0.])\n",
    "\n",
    "for _ in range(10):\n",
    "  g1.refresh() # refresh the dataset\n",
    "  m  += 0.1*g1.x.mean()\n",
    "\n",
    "print(m)"
   ]
  },
  {
   "cell_type": "markdown",
   "metadata": {
    "id": "JgzoeYOafZSM"
   },
   "source": [
    "### Test on log-normal distribution"
   ]
  },
  {
   "cell_type": "code",
   "execution_count": 11,
   "metadata": {
    "id": "nszpfgZkfROG"
   },
   "outputs": [],
   "source": [
    "g2 = G2()"
   ]
  },
  {
   "cell_type": "markdown",
   "metadata": {
    "id": "k-CfVPQpjRu9"
   },
   "source": [
    "Example:\n",
    "\n",
    "you can use g2 to generate an instance of the lognormal distribution"
   ]
  },
  {
   "cell_type": "code",
   "execution_count": 12,
   "metadata": {
    "colab": {
     "base_uri": "https://localhost:8080/",
     "height": 265
    },
    "id": "brEhSUl2i6LC",
    "outputId": "43a129cd-78db-4bef-9980-21758dd8b9b8"
   },
   "outputs": [
    {
     "data": {
      "image/png": "[encoded data removed]",
      "text/plain": [
       "<Figure size 432x288 with 1 Axes>"
      ]
     },
     "metadata": {
      "needs_background": "light"
     },
     "output_type": "display_data"
    }
   ],
   "source": [
    "plt.hist(g2.v, bins=30)\n",
    "plt.show()"
   ]
  },
  {
   "cell_type": "code",
   "execution_count": 13,
   "metadata": {
    "id": "QQ5rVZDxjXKA"
   },
   "outputs": [],
   "source": [
    "g2.refresh() # to generate a new x and v"
   ]
  },
  {
   "cell_type": "code",
   "execution_count": 14,
   "metadata": {
    "colab": {
     "base_uri": "https://localhost:8080/",
     "height": 265
    },
    "id": "F44feKJokJS2",
    "outputId": "499c5cd5-d2cf-4871-f608-54212dbcb122"
   },
   "outputs": [
    {
     "data": {
      "image/png": "[encoded data removed]",
      "text/plain": [
       "<Figure size 432x288 with 1 Axes>"
      ]
     },
     "metadata": {
      "needs_background": "light"
     },
     "output_type": "display_data"
    }
   ],
   "source": [
    "plt.hist(g2.v, bins=30)\n",
    "plt.show()"
   ]
  },
  {
   "cell_type": "markdown",
   "metadata": {
    "id": "UrAwB81ykRCM"
   },
   "source": [
    "---"
   ]
  },
  {
   "cell_type": "markdown",
   "metadata": {
    "id": "GeH_E-MGjHvd"
   },
   "source": [
    "### Metropolis Hastings"
   ]
  },
  {
   "cell_type": "markdown",
   "metadata": {},
   "source": [
    "### **1. Implementation**\n",
    "\n",
    "Implementation of Metropolis-Hastings algorithm to find an approximate solution of $S^*(\\lambda)$"
   ]
  },
  {
   "cell_type": "markdown",
   "metadata": {},
   "source": [
    "**Libraries**"
   ]
  },
  {
   "cell_type": "code",
   "execution_count": 15,
   "metadata": {},
   "outputs": [],
   "source": [
    "import numpy as np\n",
    "import copy\n",
    "import time\n",
    "from scipy.spatial import distance"
   ]
  },
  {
   "cell_type": "markdown",
   "metadata": {},
   "source": [
    "**Definition of the objective function**"
   ]
  },
  {
   "cell_type": "code",
   "execution_count": 16,
   "metadata": {},
   "outputs": [],
   "source": [
    "def f(S, params):\n",
    "    \"\"\"\n",
    "    Compute the objective function (that we want to maximize).\n",
    "    \n",
    "    Parameters\n",
    "    ----------\n",
    "    S: Subset of P({0,...,n-1}) as an array of shape (k,) with k an int in [1,n]\n",
    "    params: tuple containing the fixed value of the deployment cost lambda_, as well as the fixed value of cities n. \n",
    "    It also contains an (n,2) array coords containing for each cities its coordinates and another (n,) array  pop with respective population.\n",
    "    \n",
    "    Returns\n",
    "    -------\n",
    "    f: The evaluated objective function.\n",
    "    \"\"\"\n",
    "    \n",
    "    lambda_, n, coords, pop = params\n",
    "    \n",
    "    #only consider coordinates of cities in S\n",
    "    coords_S = coords[S]\n",
    "    pop_S = pop[S]\n",
    "\n",
    "    return np.sum(pop_S) - lambda_ * n * np.pi * (np.max(distance.cdist(coords_S, coords_S, 'euclidean')))**2 / 4"
   ]
  },
  {
   "cell_type": "markdown",
   "metadata": {},
   "source": [
    "**Metropolis-Hastings algorithm**\n",
    "\n",
    "The function we want to maximize is defined on $f : P[1,n] \\rightarrow \\mathbb{R}$.\n",
    "To achieve this, we will minimize g defined as -f."
   ]
  },
  {
   "cell_type": "code",
   "execution_count": 17,
   "metadata": {},
   "outputs": [],
   "source": [
    "def g(S, params):\n",
    "    return -f(S, params)"
   ]
  },
  {
   "cell_type": "markdown",
   "metadata": {},
   "source": [
    "**a) Definition of the base chain**"
   ]
  },
  {
   "cell_type": "markdown",
   "metadata": {},
   "source": [
    "We choose a Random Walk on the hypercube $C = \\{0,1\\}^n$. States are therefore notated as vectors x of dimension n filled with 0's and 1's.\n",
    "\n",
    "Vocabulary: we will say that x and y are neighbours if the two vectors differ by only one digit. Example: (1,0,1,0,0) and (1,0,1,1,0) are neighbours but (1,0,1,0,0) and (1,0,1,1,1) are not.\n",
    "\n",
    "The transition matrix is the following:\n",
    "$$\n",
    "\\psi_{xy} = \\left\\{\n",
    "    \\begin{array}{ll}\n",
    "        \\frac{1}{n+1} & \\mbox{if x and y are neighbours or } x = y  \\\\\n",
    "        0 & \\mbox{otherwise.}\n",
    "    \\end{array}\n",
    "\\right.\n",
    "$$\n",
    "\n",
    "Defined like this, it has all the necessary hypothesis to be a base chain: \n",
    "- irreducible\n",
    "- aperiodic\n",
    "- $\\psi_{xy} > 0$ iff $\\psi_{yx} > 0$\n",
    "\n",
    "The idea behind taking this base chain is that a vector x of dimension n describe perfectly (meaning: without ambiguity) one set of cities S taken in $P[1,n]$.\n",
    "\n",
    "For instance, for $n = 5$, $x = np.array([1,0,0,1,1])$ correspond to $S = \\{1,4,5\\}$. If the i-th digit in x is 1, it means that the i-th city is in S, if the i-th digit in x is 0, it means that the i-th city is not in S.\n",
    "\n",
    "As a result, in the computation of the acceptance probabilities, computing g(x) will be interpreted as computing g(S) with S being the corresponding set of cities (as explained just before)."
   ]
  },
  {
   "cell_type": "markdown",
   "metadata": {},
   "source": [
    "Our aim is to sample from the distribution $\\pi_{\\infty}(x) = \\frac{\\mathbb{1}_{x\\ is\\ a\\ global\\ minimum\\ of\\ g}}{Z_{\\infty}}$.\n",
    "\n",
    "But this is a difficult task, this is why me sample from the distribution $\\pi_{\\beta}$ instead $\\pi_{\\beta}(x) = \\frac{e^{-\\beta g(x)}}{Z_{\\beta}}$.\n",
    "\n",
    "But this is still difficult because of $Z_{\\beta}$. This is why we will construct a Markov chain having $\\pi_{\\beta}$ as its stationary distribution using the Metropolis-Hastings algorithm."
   ]
  },
  {
   "cell_type": "markdown",
   "metadata": {},
   "source": [
    "**b) Definition of the acceptance probabilities**"
   ]
  },
  {
   "cell_type": "markdown",
   "metadata": {},
   "source": [
    "Because if  $\\psi_{xy} = \\psi_{yx} = 0$ then $\\frac{0}{0} = 0$ and that in any other case, $\\frac{\\psi_{xy}}{\\psi_{yx}} = 1$, we can express the acceptance probabilities  as follows:\n",
    "\n",
    "$$\n",
    "a_{xy} = min(1, \\frac{\\pi_{\\beta}(y)}{\\pi_{\\beta}(x)}) =\\left\\{\n",
    "    \\begin{array}{ll}\n",
    "        min(1, e^{-\\beta (g(y) - g(x))}) & \\mbox{if x and y are neighbours}  \\\\\n",
    "        0 & \\mbox{otherwise.}\n",
    "    \\end{array}\n",
    "\\right.\n",
    "$$\n",
    "\n",
    "\n",
    "Note that here, the ${Z_{\\beta}}$ cancels out in the acceptance probabilities computation (this is why we used the Metropolis-Hastings algorithm to begin with).\n"
   ]
  },
  {
   "cell_type": "code",
   "execution_count": 18,
   "metadata": {},
   "outputs": [],
   "source": [
    "def vect_to_S(x):\n",
    "    \"\"\"\n",
    "    Compute the subset S of cities corresponding to the vector encoding\n",
    "    \n",
    "    Parameters\n",
    "    ----------\n",
    "    x: ndarray of shape (n,)\n",
    "    \n",
    "    Returns\n",
    "    -------\n",
    "    S: the subset of corresponding cities\n",
    "    \"\"\"\n",
    "    \n",
    "    return np.nonzero(x)[0]"
   ]
  },
  {
   "cell_type": "code",
   "execution_count": 19,
   "metadata": {},
   "outputs": [],
   "source": [
    "def a_xy_neighbours(beta, x, y, params):\n",
    "    \"\"\"\n",
    "    Compute the acceptance probabilities defined as min(1, pi_[j]*psi[j,i]/(pi_[i]*psi[i,j]))\n",
    "    IMPORTANT: when x and y are neighbours!\n",
    "    \n",
    "    Parameters\n",
    "    ----------\n",
    "    beta: float\n",
    "    x: ndarray of shape (n,)\n",
    "    y: ndarray of shape (n,)\n",
    "    params: tuple containing the fixed value of the deployment cost lambda_, as well as the fixed value of cities n. \n",
    "    It also contains an (n,2) array coords containing for each cities its coordinates and another (n,) array  pop with respective population.\n",
    "    \n",
    "    Returns\n",
    "    --------\n",
    "    a_xy: The acceptance probability corresponding to going from state x to y (with y a neighbour of x)\n",
    "    \"\"\"\n",
    "    \n",
    "    start = time.time()\n",
    "    S_x = vect_to_S(x)\n",
    "    S_y = vect_to_S(y)\n",
    "    #print(f\"S_x, S_y: {time.time() - start}\")\n",
    "\n",
    "    start = time.time()\n",
    "    g_x = g(S_x, params)\n",
    "    g_y = g(S_y, params)\n",
    "    #print(f\"g_x, g_y: {time.time() - start}\")\n",
    "    \n",
    "    return min(1, np.exp(-beta*(g_y - g_x)))"
   ]
  },
  {
   "cell_type": "markdown",
   "metadata": {},
   "source": [
    "**c) Constructing the new chain**\n",
    "\n",
    "The transition probabilities of the new chain is defined as follows:\n",
    "\n",
    "$$\n",
    "p_{xy} = \\left\\{\n",
    "    \\begin{array}{ll}\n",
    "        \\psi_{xy}a_{xy} & \\mbox{if } x \\ne y  \\\\\n",
    "        1 - \\sum_{v\\ne x}\\psi_{xv}a_{xv} & x = y\n",
    "    \\end{array}\n",
    "\\right.\n",
    "$$\n",
    "\n",
    "Because $a_{xv} = 0$ when v is not a neighbour of y, the sum can be simplified. Let us note $A_x = \\{y \\in C | is\\_neighbour(x,y) == True\\}$, then:\n",
    "\n",
    "$$\n",
    "p_{xy} = \\left\\{\n",
    "    \\begin{array}{ll}\n",
    "        \\psi_{xy}a_{xy} & \\mbox{if } x \\ne y  \\\\\n",
    "        1 - \\sum_{v \\in A_x}\\psi_{xv}a_{xv} & x = y\n",
    "    \\end{array}\n",
    "\\right.\n",
    "$$\n",
    "\n",
    "Which is way easier to compute because the sum has now only n terms in it!\n",
    "\n",
    "It can be even more simplified if we write like this:\n",
    "\n",
    "$$\n",
    "p_{xy} = \\left\\{\n",
    "    \\begin{array}{ll}\n",
    "        \\psi_{xy}a_{xy} & \\mbox{if x and y are neighbours} \\\\\n",
    "        1 - \\sum_{v \\in A_x}\\psi_{xv}a_{xv} & \\mbox{if } x = y \\\\\n",
    "        0 & \\mbox{otherwise.}\n",
    "    \\end{array}\n",
    "\\right.\n",
    "$$\n",
    "\n",
    "Such a constructed chain will have the following property: $p_{xy}(n) \\xrightarrow[n \\to \\infty]{} \\pi_{\\beta}(y)$ $\\forall y$ in $C$"
   ]
  },
  {
   "cell_type": "code",
   "execution_count": 20,
   "metadata": {},
   "outputs": [],
   "source": [
    "def A_set(x):\n",
    "    \"\"\"\n",
    "    Compute, for a vector x, all its neighbours\n",
    "    \n",
    "    Parameters\n",
    "    ----------\n",
    "    x: ndarray of shape (n,)\n",
    "    \n",
    "    Returns\n",
    "    A: list of all neighbours of x\n",
    "    \"\"\"\n",
    "    \n",
    "    A_x = []\n",
    "    \n",
    "    for i in range(len(x)):\n",
    "        x_neighbour = x.copy()\n",
    "        x_neighbour[i] = (x[i] + 1) % 2\n",
    "        A_x.append(x_neighbour)\n",
    "    return A_x\n",
    "\n",
    "#print(A_set(np.array([1,0,1,1])))"
   ]
  },
  {
   "cell_type": "code",
   "execution_count": 21,
   "metadata": {},
   "outputs": [],
   "source": [
    "def forward(beta,x,params):\n",
    "    \"\"\"\n",
    "    Apply one step of the Metropolis_Hastings algorithm\n",
    "    \n",
    "    Parameters\n",
    "    ----------\n",
    "    beta: float\n",
    "    x: ndarray of shape (n,)\n",
    "    params: tuple containing the fixed value of the deployment cost lambda_, as well as the fixed value of cities n. \n",
    "    It also contains an (n,2) array coords containing for each cities its coordinates and another (n,) array  pop with respective population.\n",
    "    \n",
    "    Returns\n",
    "    -------\n",
    "    y: A state picked in the list of neighbours A_x or itself (loop) according to propabilities p_xy.\n",
    "    \"\"\"\n",
    "    \n",
    "    n = len(x)\n",
    "    A_x = A_set(x)\n",
    "    p_xA = []\n",
    "    res = 0\n",
    "    \n",
    "    for y in A_x:\n",
    "        #psi_xy = 1/(n+1) as they're neighbours\n",
    "        a_xy = a_xy_neighbours(beta, x, y, params)\n",
    "        p_xA.append(1/(n+1) * a_xy)\n",
    "        \n",
    "        #take advantage that we already have computed to add the result to res, will be useful to calculate p_xx\n",
    "        res += a_xy\n",
    "    \n",
    "    \n",
    "    p_xA.append(1 - 1/(n+1) * res)\n",
    "    \n",
    "    A_x.append(x)\n",
    "        \n",
    "    return A_x[np.random.choice(n+1, p = p_xA)]\n",
    "\n",
    "#y = forward(1, x1, params)\n",
    "#print(is_neighbour(x1,y))\n",
    "#print((x1==y).all())"
   ]
  },
  {
   "cell_type": "markdown",
   "metadata": {},
   "source": [
    "**Tuning of $\\beta$**\n",
    "\n",
    "- Start with $\\beta$ small (i.e. high temperature regime):  the algorithm will then visit all the states of C quite uniformly at the beginning. After a sufficiently high number of iterations, the Metropolized chain is roughly distributed as $\\pi_{\\beta}$.\n",
    "- Increase then $\\beta$(i.e. lower the temperature) and rerun the algorithm from the state found in the previous step.\n",
    "- Repeat step 2 until $\\beta$ is sufficiently large, so that one can be quite sure (i.e. with prob.  1−$\\epsilon$) to have reached a global minimum."
   ]
  },
  {
   "cell_type": "code",
   "execution_count": 22,
   "metadata": {},
   "outputs": [],
   "source": [
    "def metropolis_hastings(betas, n_iter, params):\n",
    "    \"\"\"\n",
    "    Follow the Tuning beta procedure:\n",
    "    - Start with $\\beta$ small (i.e. high temperature regime):  the algorithm will then visit all the states of C quite uniformly at the beginning. After a sufficiently high number of iterations, the Metropolized chain is roughly distributed as $\\pi_{\\beta}$.\n",
    "    - Increase then $\\beta$(i.e. lower the temperature) and rerun the algorithm from the state found in the previous step.\n",
    "    - Repeat step 2 until $\\beta$ is sufficiently large, so that one can be quite sure (i.e. with prob.  1−$\\epsilon$) to have reached a global minimum.\n",
    "    \n",
    "    Parameters\n",
    "    ----------\n",
    "    betas: list of increasing beta (floats)\n",
    "    n_iter: int, number of iteration for each temperature\n",
    "    params: tuple containing the fixed value of the deployment cost lambda_, as well as the fixed value of cities n. \n",
    "    It also contains an (n,2) array coords containing for each cities its coordinates and another (n,) array  pop with respective population.\n",
    "    \n",
    "    Returns\n",
    "    -------\n",
    "    S^*(lambda)_approx: the approximation of the optimizing set.\n",
    "    \"\"\"\n",
    "    x = np.random.randint(0,2,100)\n",
    "\n",
    "    #We decrease the temperature little bit by little bit\n",
    "    for beta in betas:\n",
    "        start = time.time()\n",
    "        #At each temperature we do n_iter number of iterations so that the Metropolized chain is rougly distributed as pi_beta\n",
    "        for n in range(n_iter):\n",
    "            x = forward(beta,x,params)\n",
    "        print(\"Time spent on beta = {:.3f} : {:.3f} sec\".format(beta,time.time()-start))\n",
    "    return vect_to_S(x) + 1 #to put it back to cities 1 to n and not 0 to n-1"
   ]
  },
  {
   "cell_type": "markdown",
   "metadata": {},
   "source": [
    "For question 2.a."
   ]
  },
  {
   "cell_type": "code",
   "execution_count": 23,
   "metadata": {},
   "outputs": [],
   "source": [
    "def plot_a():\n",
    "    \"\"\"\n",
    "    Plots the evolution of the objective function \n",
    "    \"\"\"\n",
    "    return\n",
    "    "
   ]
  },
  {
   "cell_type": "markdown",
   "metadata": {},
   "source": [
    "For question 2.b."
   ]
  },
  {
   "cell_type": "code",
   "execution_count": 24,
   "metadata": {},
   "outputs": [],
   "source": [
    "def plot_b():\n",
    "    return"
   ]
  },
  {
   "cell_type": "markdown",
   "metadata": {},
   "source": [
    "### **2. Testing the implementation** \n",
    "\n",
    "Generate G_1 according to the generative model G1"
   ]
  },
  {
   "cell_type": "code",
   "execution_count": 25,
   "metadata": {},
   "outputs": [],
   "source": [
    "G_1 = G1()"
   ]
  },
  {
   "cell_type": "code",
   "execution_count": 26,
   "metadata": {},
   "outputs": [
    {
     "name": "stdout",
     "output_type": "stream",
     "text": [
      "Time spent on beta = 1.000 : 1.197 sec\n",
      "Time spent on beta = 3.162 : 1.419 sec\n",
      "Time spent on beta = 10.000 : 1.755 sec\n",
      "Time spent on beta = 31.623 : 1.928 sec\n",
      "Time spent on beta = 100.000 : 1.961 sec\n",
      "Time spent on beta = 316.228 : 2.003 sec\n",
      "Time spent on beta = 1000.000 : 2.022 sec\n",
      "[  1   2   3   4   5   6   7   8   9  10  11  12  13  14  15  16  17  18\n",
      "  19  20  21  22  23  24  25  26  27  28  29  30  31  32  33  34  35  36\n",
      "  37  38  39  40  41  42  43  44  45  46  47  48  49  50  51  52  53  54\n",
      "  55  57  58  59  60  61  62  63  64  65  66  67  68  69  70  71  72  73\n",
      "  74  75  76  77  78  79  80  81  82  83  84  85  86  87  88  89  90  91\n",
      "  92  93  94  95  96  97  98  99 100]\n",
      "99\n"
     ]
    }
   ],
   "source": [
    "\"\"\"Testing the metropolis-hasting function\"\"\"\n",
    "\n",
    "betas = np.logspace(0,3,7)\n",
    "\n",
    "G_1 = G1()\n",
    "lambda_ = 0\n",
    "n = 100\n",
    "coords = G_1.x\n",
    "pop = G_1.v\n",
    "n_iter = 100\n",
    "\n",
    "params = (lambda_, n, coords, pop)\n",
    "\n",
    "S_approx = metropolis_hastings(betas,n_iter,params)\n",
    "\n",
    "print(S_approx)\n",
    "print(len(S_approx))\n",
    "\n",
    "#find all 100 cities ---> which is what we want because lambda = 0! \n",
    "#Sometimes finds 99 cities which is almost what we want (not enough iterations?)"
   ]
  },
  {
   "cell_type": "code",
   "execution_count": 27,
   "metadata": {},
   "outputs": [
    {
     "name": "stdout",
     "output_type": "stream",
     "text": [
      "Time spent on beta = 1.000 : 12.780 sec\n",
      "Time spent on beta = 3.162 : 15.636 sec\n",
      "Time spent on beta = 10.000 : 19.540 sec\n",
      "Time spent on beta = 31.623 : 19.829 sec\n",
      "Time spent on beta = 100.000 : 20.345 sec\n",
      "Time spent on beta = 316.228 : 20.632 sec\n",
      "Time spent on beta = 1000.000 : 20.630 sec\n",
      "[  1   2   3   4   5   6   7   8   9  10  11  12  13  14  15  16  17  18\n",
      "  19  20  21  22  23  24  25  26  27  28  29  30  31  32  33  34  35  36\n",
      "  37  38  39  40  41  42  43  44  45  46  47  48  49  50  51  52  53  54\n",
      "  55  56  57  58  59  60  61  62  63  64  65  66  67  68  69  70  71  72\n",
      "  73  74  75  76  77  78  79  80  81  82  83  84  85  86  87  88  89  90\n",
      "  91  92  93  94  95  96  97  98  99 100]\n",
      "100\n"
     ]
    }
   ],
   "source": [
    "\"\"\"Testing the metropolis-hasting function with 10 times more iterations\"\"\"\n",
    "\n",
    "betas = np.logspace(0,3,7)\n",
    "\n",
    "G_1 = G1()\n",
    "lambda_ = 0\n",
    "n = 100\n",
    "coords = G_1.x\n",
    "pop = G_1.v\n",
    "n_iter = 1000\n",
    "\n",
    "params = (lambda_, n, coords, pop)\n",
    "\n",
    "S_approx = metropolis_hastings(betas,n_iter,params)\n",
    "\n",
    "print(S_approx)\n",
    "print(len(S_approx))"
   ]
  },
  {
   "cell_type": "code",
   "execution_count": 28,
   "metadata": {},
   "outputs": [
    {
     "name": "stdout",
     "output_type": "stream",
     "text": [
      "Time spent on beta = 1.000 : 12.055 sec\n",
      "Time spent on beta = 3.162 : 14.240 sec\n",
      "Time spent on beta = 10.000 : 15.461 sec\n",
      "Time spent on beta = 31.623 : 16.501 sec\n",
      "Time spent on beta = 100.000 : 16.692 sec\n",
      "Time spent on beta = 316.228 : 17.148 sec\n",
      "Time spent on beta = 1000.000 : 17.200 sec\n",
      "[  1   2   3   4   5   6   7   8   9  10  11  12  13  14  15  17  18  19\n",
      "  20  21  22  23  24  26  27  28  29  30  32  33  35  36  37  38  39  40\n",
      "  42  43  44  45  46  47  48  50  51  52  53  54  55  56  57  58  60  61\n",
      "  62  63  64  65  66  67  68  69  70  71  72  73  74  75  76  77  78  79\n",
      "  80  81  82  83  84  85  87  88  89  90  91  92  95  98  99 100]\n",
      "88\n"
     ]
    }
   ],
   "source": [
    "\"\"\"Testing the metropolis-hasting function 1000 iterations and lambda = 0.5\"\"\"\n",
    "\n",
    "betas = np.logspace(0,3,7)\n",
    "\n",
    "G_1 = G1()\n",
    "lambda_ = 0.5\n",
    "n = 100\n",
    "coords = G_1.x\n",
    "pop = G_1.v\n",
    "n_iter = 1000\n",
    "\n",
    "params = (lambda_, n, coords, pop)\n",
    "\n",
    "S_approx = metropolis_hastings(betas,n_iter,params)\n",
    "\n",
    "print(S_approx)\n",
    "print(len(S_approx))"
   ]
  },
  {
   "cell_type": "code",
   "execution_count": 29,
   "metadata": {},
   "outputs": [
    {
     "name": "stdout",
     "output_type": "stream",
     "text": [
      "Time spent on beta = 1.000 : 11.331 sec\n",
      "Time spent on beta = 3.162 : 11.082 sec\n",
      "Time spent on beta = 10.000 : 12.225 sec\n",
      "Time spent on beta = 31.623 : 12.550 sec\n",
      "Time spent on beta = 100.000 : 12.802 sec\n",
      "Time spent on beta = 316.228 : 12.969 sec\n",
      "Time spent on beta = 1000.000 : 12.821 sec\n",
      "[  1   3   4   5   7   8  10  11  13  15  18  19  20  22  24  25  26  27\n",
      "  28  30  31  32  33  34  35  36  37  40  41  42  43  44  45  46  47  49\n",
      "  54  55  56  57  60  61  62  63  64  67  69  70  74  75  76  77  81  82\n",
      "  83  84  85  89  90  94  95  97  98  99 100]\n",
      "65\n"
     ]
    }
   ],
   "source": [
    "\"\"\"Testing the metropolis-hasting function 1000 iterations and lambda = 1\"\"\"\n",
    "\n",
    "betas = np.logspace(0,3,7)\n",
    "\n",
    "G_1 = G1()\n",
    "lambda_ = 1\n",
    "n = 100\n",
    "coords = G_1.x\n",
    "pop = G_1.v\n",
    "n_iter = 1000\n",
    "\n",
    "params = (lambda_, n, coords, pop)\n",
    "\n",
    "S_approx = metropolis_hastings(betas,n_iter,params)\n",
    "\n",
    "print(S_approx)\n",
    "print(len(S_approx))"
   ]
  },
  {
   "cell_type": "code",
   "execution_count": 30,
   "metadata": {},
   "outputs": [
    {
     "name": "stdout",
     "output_type": "stream",
     "text": [
      "Time spent on beta = 1.000 : 12.577 sec\n",
      "Time spent on beta = 3.162 : 15.440 sec\n",
      "Time spent on beta = 10.000 : 17.765 sec\n",
      "Time spent on beta = 31.623 : 19.626 sec\n",
      "Time spent on beta = 100.000 : 19.793 sec\n",
      "Time spent on beta = 316.228 : 20.127 sec\n",
      "Time spent on beta = 1000.000 : 20.122 sec\n",
      "[  1   2   3   4   5   6   7   8   9  10  11  12  13  14  15  16  17  18\n",
      "  19  20  21  22  23  24  25  26  27  28  29  30  31  32  33  34  35  36\n",
      "  37  38  39  40  41  42  43  44  45  46  47  48  49  50  51  52  53  54\n",
      "  55  56  57  58  59  60  61  62  63  64  65  66  67  68  69  70  71  72\n",
      "  73  74  75  76  77  78  79  80  81  82  83  84  85  86  87  88  89  90\n",
      "  91  92  93  94  95  96  97  98  99 100]\n",
      "100\n"
     ]
    }
   ],
   "source": [
    "\"\"\"Testing the metropolis-hasting function 1000 iterations and lambda = 0 on the G2 model\"\"\"\n",
    "\n",
    "betas = np.logspace(0,3,7)\n",
    "\n",
    "G_2 = G2()\n",
    "lambda_ = 0\n",
    "n = 100\n",
    "coords = G_2.x\n",
    "pop = G_2.v\n",
    "n_iter = 1000\n",
    "\n",
    "params = (lambda_, n, coords, pop)\n",
    "\n",
    "S_approx = metropolis_hastings(betas,n_iter,params)\n",
    "\n",
    "print(S_approx)\n",
    "print(len(S_approx))"
   ]
  },
  {
   "cell_type": "code",
   "execution_count": 31,
   "metadata": {},
   "outputs": [
    {
     "name": "stdout",
     "output_type": "stream",
     "text": [
      "Time spent on beta = 1.000 : 12.782 sec\n",
      "Time spent on beta = 3.162 : 14.550 sec\n",
      "Time spent on beta = 10.000 : 17.031 sec\n",
      "Time spent on beta = 31.623 : 18.299 sec\n",
      "Time spent on beta = 100.000 : 19.028 sec\n",
      "Time spent on beta = 316.228 : 19.070 sec\n",
      "Time spent on beta = 1000.000 : 19.104 sec\n",
      "[  1   2   3   4   5   6   7   8   9  10  11  12  13  14  15  16  17  18\n",
      "  19  20  21  22  23  24  25  26  27  28  29  30  31  32  33  34  35  36\n",
      "  37  38  39  40  42  43  44  45  46  47  48  49  51  52  53  54  55  56\n",
      "  57  58  59  60  61  62  63  64  65  66  67  68  69  70  71  72  73  74\n",
      "  75  76  77  78  79  80  81  82  83  84  86  87  89  90  91  92  93  94\n",
      "  95  96  97  98  99 100]\n",
      "96\n"
     ]
    }
   ],
   "source": [
    "\"\"\"Testing the metropolis-hasting function 1000 iterations and lambda = 0.5 on the G2 model\"\"\"\n",
    "\n",
    "betas = np.logspace(0,3,7)\n",
    "\n",
    "G_2 = G2()\n",
    "lambda_ = 0.5\n",
    "n = 100\n",
    "coords = G_2.x\n",
    "pop = G_2.v\n",
    "n_iter = 1000\n",
    "\n",
    "params = (lambda_, n, coords, pop)\n",
    "\n",
    "S_approx = metropolis_hastings(betas,n_iter,params)\n",
    "\n",
    "print(S_approx)\n",
    "print(len(S_approx))"
   ]
  },
  {
   "cell_type": "code",
   "execution_count": 32,
   "metadata": {},
   "outputs": [
    {
     "name": "stdout",
     "output_type": "stream",
     "text": [
      "Time spent on beta = 1.000 : 11.266 sec\n",
      "Time spent on beta = 3.162 : 13.387 sec\n",
      "Time spent on beta = 10.000 : 15.472 sec\n",
      "Time spent on beta = 31.623 : 17.036 sec\n",
      "Time spent on beta = 100.000 : 17.146 sec\n",
      "Time spent on beta = 316.228 : 16.829 sec\n",
      "Time spent on beta = 1000.000 : 16.873 sec\n",
      "[  1   2   3   4   5   6   7   8  10  11  12  13  14  15  16  17  19  20\n",
      "  21  22  23  24  25  26  27  29  31  34  35  36  37  38  40  42  43  44\n",
      "  45  46  47  48  49  51  52  53  54  55  57  58  59  60  62  63  64  65\n",
      "  67  68  69  70  71  72  73  74  75  76  77  78  79  80  81  82  83  84\n",
      "  85  86  87  88  89  90  91  93  94  95  97  98  99 100]\n",
      "86\n"
     ]
    }
   ],
   "source": [
    "\"\"\"Testing the metropolis-hasting function 1000 iterations and lambda = 1 on the G2 model\"\"\"\n",
    "\n",
    "betas = np.logspace(0,3,7)\n",
    "\n",
    "G_2 = G2()\n",
    "lambda_ = 1\n",
    "n = 100\n",
    "coords = G_2.x\n",
    "pop = G_2.v\n",
    "n_iter = 1000\n",
    "\n",
    "params = (lambda_, n, coords, pop)\n",
    "\n",
    "S_approx = metropolis_hastings(betas,n_iter,params)\n",
    "\n",
    "print(S_approx)\n",
    "print(len(S_approx))"
   ]
  },
  {
   "cell_type": "code",
   "execution_count": null,
   "metadata": {},
   "outputs": [],
   "source": []
  }
 ],
 "metadata": {
  "colab": {
   "authorship_tag": "ABX9TyMHjD1LWevMEBRvKxj7qq4T",
   "collapsed_sections": [],
   "include_colab_link": true,
   "name": "model.ipynb",
   "provenance": []
  },
  "kernelspec": {
   "display_name": "Python 3",
   "language": "python",
   "name": "python3"
  },
  "language_info": {
   "codemirror_mode": {
    "name": "ipython",
    "version": 3
   },
   "file_extension": ".py",
   "mimetype": "text/x-python",
   "name": "python",
   "nbconvert_exporter": "python",
   "pygments_lexer": "ipython3",
   "version": "3.8.3"
  }
 },
 "nbformat": 4,
 "nbformat_minor": 4
}
