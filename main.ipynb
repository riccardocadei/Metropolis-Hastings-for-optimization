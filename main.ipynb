{
 "cells": [
  {
   "cell_type": "markdown",
   "metadata": {
    "colab_type": "text",
    "id": "view-in-github"
   },
   "source": [
    "<a href=\"https://colab.research.google.com/github/antoinexp/markov-chains-COM-516/blob/main/model.ipynb\" target=\"_parent\"><img src=\"https://colab.research.google.com/assets/colab-badge.svg\" alt=\"Open In Colab\"/></a>"
   ]
  },
  {
   "cell_type": "markdown",
   "metadata": {
    "id": "mCc-m9oEkOGy"
   },
   "source": [
    "This notebook is provided as a starting point to help you generate random instances G1 and G2 as mentioned in the handout.\n",
    "\n",
    "You are free to use and modify it at your own convenience.\n",
    "\n",
    "---\n",
    "\n"
   ]
  },
  {
   "cell_type": "code",
   "execution_count": 1,
   "metadata": {
    "id": "BMV_GyHTe-A5"
   },
   "outputs": [],
   "source": [
    "import scipy.stats as st\n",
    "import numpy as np\n",
    "import scipy as sp\n",
    "import matplotlib.pyplot as plt\n",
    "import copy\n",
    "import time"
   ]
  },
  {
   "cell_type": "code",
   "execution_count": 2,
   "metadata": {
    "id": "9_4LNOEAfb6H"
   },
   "outputs": [],
   "source": [
    "class DatasetGenerator(object):\n",
    "  def __init__(self, N=100):\n",
    "    self.N = N\n",
    "    self.x = None\n",
    "    self.v = None\n",
    "    self.refresh()\n",
    "  \n",
    "  def refresh(self):\n",
    "    raise Exception(\"undefined\")"
   ]
  },
  {
   "cell_type": "code",
   "execution_count": 3,
   "metadata": {
    "id": "69EQnzkcgxtb"
   },
   "outputs": [],
   "source": [
    "class G1(DatasetGenerator):\n",
    "  def refresh(self):\n",
    "    self.x = st.uniform().rvs((self.N,2))\n",
    "    self.v = st.uniform().rvs((self.N,))"
   ]
  },
  {
   "cell_type": "code",
   "execution_count": 4,
   "metadata": {
    "id": "NEPDqCflgzWe"
   },
   "outputs": [],
   "source": [
    "class G2(DatasetGenerator):\n",
    "  def refresh(self):\n",
    "    self.x = st.uniform().rvs((self.N,2))\n",
    "    self.v = np.exp(st.norm(-0.85, 1.3).rvs((self.N,)))"
   ]
  },
  {
   "cell_type": "markdown",
   "metadata": {
    "id": "q_Kco86_fDPA"
   },
   "source": [
    "### Uniform distribution ($\\mathcal U([0,1])$)"
   ]
  },
  {
   "cell_type": "code",
   "execution_count": 5,
   "metadata": {
    "id": "gZmvCOWse-93"
   },
   "outputs": [],
   "source": [
    "g1 = G1()"
   ]
  },
  {
   "cell_type": "markdown",
   "metadata": {
    "id": "mQbhQdsEif96"
   },
   "source": [
    "Examples:"
   ]
  },
  {
   "cell_type": "code",
   "execution_count": 6,
   "metadata": {
    "colab": {
     "base_uri": "https://localhost:8080/",
     "height": 265
    },
    "id": "zXOZp0KUiO5P",
    "outputId": "6447f237-cd07-4c8f-84c8-a5af51e03698"
   },
   "outputs": [
    {
     "data": {
      "image/png": "[encoded data removed]",
      "text/plain": [
       "<Figure size 432x288 with 1 Axes>"
      ]
     },
     "metadata": {
      "needs_background": "light"
     },
     "output_type": "display_data"
    }
   ],
   "source": [
    "# Plot a histogram of the v array\n",
    "plt.hist(g1.v, bins=30)\n",
    "plt.show()"
   ]
  },
  {
   "cell_type": "code",
   "execution_count": 7,
   "metadata": {
    "colab": {
     "base_uri": "https://localhost:8080/",
     "height": 320
    },
    "id": "GMHuTtiIii5H",
    "outputId": "f5ff204f-7e45-4f3b-ed0c-5e18cb4a5e52"
   },
   "outputs": [
    {
     "data": {
      "image/png": "[encoded data removed]",
      "text/plain": [
       "<Figure size 360x360 with 1 Axes>"
      ]
     },
     "metadata": {
      "needs_background": "light"
     },
     "output_type": "display_data"
    }
   ],
   "source": [
    "# plot the position of the points\n",
    "plt.figure(figsize=(5,5))\n",
    "plt.scatter(g1.x[:,0], g1.x[:,1])\n",
    "plt.show()"
   ]
  },
  {
   "cell_type": "markdown",
   "metadata": {
    "id": "CCmeQMcZiuGX"
   },
   "source": [
    "You can refresh the dataset"
   ]
  },
  {
   "cell_type": "code",
   "execution_count": 8,
   "metadata": {
    "id": "X5zibI5Rix7r"
   },
   "outputs": [],
   "source": [
    "g1.refresh() # generate a new dataset"
   ]
  },
  {
   "cell_type": "code",
   "execution_count": 9,
   "metadata": {
    "colab": {
     "base_uri": "https://localhost:8080/",
     "height": 265
    },
    "id": "jwCwLEgEixrE",
    "outputId": "8b0be7af-9771-417c-d22f-9ae719404ee6"
   },
   "outputs": [
    {
     "data": {
      "image/png": "[encoded data removed]",
      "text/plain": [
       "<Figure size 432x288 with 1 Axes>"
      ]
     },
     "metadata": {
      "needs_background": "light"
     },
     "output_type": "display_data"
    }
   ],
   "source": [
    "plt.hist(g1.v, bins=30)\n",
    "plt.show()"
   ]
  },
  {
   "cell_type": "markdown",
   "metadata": {
    "id": "Ka6haqFplqaU"
   },
   "source": [
    "Or for instance, you can generate 10 instances and compute the average position of all the points:"
   ]
  },
  {
   "cell_type": "code",
   "execution_count": 10,
   "metadata": {
    "colab": {
     "base_uri": "https://localhost:8080/"
    },
    "id": "ZB9knwmOlvVP",
    "outputId": "28aecbc3-d2d8-4126-b104-6b12238d8974"
   },
   "outputs": [
    {
     "name": "stdout",
     "output_type": "stream",
     "text": [
      "[0.49196469 0.49196469]\n"
     ]
    }
   ],
   "source": [
    "m = np.array([0., 0.])\n",
    "\n",
    "for _ in range(10):\n",
    "  g1.refresh() # refresh the dataset\n",
    "  m  += 0.1*g1.x.mean()\n",
    "\n",
    "print(m)"
   ]
  },
  {
   "cell_type": "markdown",
   "metadata": {
    "id": "JgzoeYOafZSM"
   },
   "source": [
    "### Test on log-normal distribution"
   ]
  },
  {
   "cell_type": "code",
   "execution_count": 11,
   "metadata": {
    "id": "nszpfgZkfROG"
   },
   "outputs": [],
   "source": [
    "g2 = G2()"
   ]
  },
  {
   "cell_type": "markdown",
   "metadata": {
    "id": "k-CfVPQpjRu9"
   },
   "source": [
    "Example:\n",
    "\n",
    "you can use g2 to generate an instance of the lognormal distribution"
   ]
  },
  {
   "cell_type": "code",
   "execution_count": 12,
   "metadata": {
    "colab": {
     "base_uri": "https://localhost:8080/",
     "height": 265
    },
    "id": "brEhSUl2i6LC",
    "outputId": "43a129cd-78db-4bef-9980-21758dd8b9b8"
   },
   "outputs": [
    {
     "data": {
      "image/png": "[encoded data removed]",
      "text/plain": [
       "<Figure size 432x288 with 1 Axes>"
      ]
     },
     "metadata": {
      "needs_background": "light"
     },
     "output_type": "display_data"
    }
   ],
   "source": [
    "plt.hist(g2.v, bins=30)\n",
    "plt.show()"
   ]
  },
  {
   "cell_type": "code",
   "execution_count": 13,
   "metadata": {
    "id": "QQ5rVZDxjXKA"
   },
   "outputs": [],
   "source": [
    "g2.refresh() # to generate a new x and v"
   ]
  },
  {
   "cell_type": "code",
   "execution_count": 14,
   "metadata": {
    "colab": {
     "base_uri": "https://localhost:8080/",
     "height": 265
    },
    "id": "F44feKJokJS2",
    "outputId": "499c5cd5-d2cf-4871-f608-54212dbcb122"
   },
   "outputs": [
    {
     "data": {
      "image/png": "[encoded data removed]",
      "text/plain": [
       "<Figure size 432x288 with 1 Axes>"
      ]
     },
     "metadata": {
      "needs_background": "light"
     },
     "output_type": "display_data"
    }
   ],
   "source": [
    "plt.hist(g2.v, bins=30)\n",
    "plt.show()"
   ]
  },
  {
   "cell_type": "markdown",
   "metadata": {
    "id": "UrAwB81ykRCM"
   },
   "source": [
    "---"
   ]
  },
  {
   "cell_type": "markdown",
   "metadata": {},
   "source": [
    "# **Markdowns TO CHECK to see if everything is still all up to date and no typos!**"
   ]
  },
  {
   "cell_type": "markdown",
   "metadata": {
    "id": "GeH_E-MGjHvd"
   },
   "source": [
    "### Metropolis Hastings"
   ]
  },
  {
   "cell_type": "markdown",
   "metadata": {},
   "source": [
    "### **1. Implementation**\n",
    "\n",
    "Implementation of Metropolis-Hastings algorithm to find an approximate solution of $S^*(\\lambda)$"
   ]
  },
  {
   "cell_type": "markdown",
   "metadata": {},
   "source": [
    "**Definition of the objective function**"
   ]
  },
  {
   "cell_type": "markdown",
   "metadata": {},
   "source": [
    "**Metropolis-Hastings algorithm**\n",
    "\n",
    "The function we want to maximize is defined on $f : P[1,n] \\rightarrow \\mathbb{R}$.\n",
    "To achieve this, we will minimize g defined as -f."
   ]
  },
  {
   "cell_type": "markdown",
   "metadata": {},
   "source": [
    "**a) Definition of the base chain**"
   ]
  },
  {
   "cell_type": "markdown",
   "metadata": {},
   "source": [
    "We choose a Symmetric Random Walk on the hypercube $C = \\{0,1\\}^n$. States are therefore notated as vectors x of dimension n filled with 0's and 1's.\n",
    "\n",
    "Vocabulary: we will say that x and y are neighbours if the two vectors differ by only one digit. Example: (1,0,1,0,0) and (1,0,1,1,0) are neighbours but (1,0,1,0,0) and (1,0,1,1,1) are not.\n",
    "\n",
    "The transition matrix is the following:\n",
    "$$\n",
    "\\psi_{xy} = \\left\\{\n",
    "    \\begin{array}{ll}\n",
    "        \\frac{1}{n} & \\mbox{if x and y are neighbours }  \\\\\n",
    "        0 & \\mbox{otherwise.}\n",
    "    \\end{array}\n",
    "\\right.\n",
    "$$\n",
    "\n",
    "Defined like this, it has all the necessary hypothesis to be a base chain: \n",
    "- irreducible\n",
    "- $\\psi_{xy} > 0$ iff $\\psi_{yx} > 0$\n",
    "\n",
    "## **TODO: prove here that we don't need aperiodicity (just like in the hw8 with the symmetric random walk on Z)!**\n",
    "\n",
    "The idea behind taking this base chain is that a vector x of dimension n describe perfectly (meaning: without ambiguity) one set of cities S taken in $P[1,n]$.\n",
    "\n",
    "For instance, for $n = 5$, $x = np.array([1,0,0,1,1])$ correspond to $S = \\{1,4,5\\}$. If the i-th digit in x is 1, it means that the i-th city is in S, if the i-th digit in x is 0, it means that the i-th city is not in S.\n",
    "\n",
    "As a result, in the computation of the acceptance probabilities, computing g(x) will be interpreted as computing g(S) with S being the corresponding set of cities (as explained just before)."
   ]
  },
  {
   "cell_type": "markdown",
   "metadata": {},
   "source": [
    "Our aim is to sample from the distribution $\\pi_{\\infty}(x) = \\frac{\\mathbb{1}_{x\\ is\\ a\\ global\\ minimum\\ of\\ g}}{Z_{\\infty}}$.\n",
    "\n",
    "But this is a difficult task, this is why me sample from the distribution $\\pi_{\\beta}$ instead $\\pi_{\\beta}(x) = \\frac{e^{-\\beta g(x)}}{Z_{\\beta}}$.\n",
    "\n",
    "But this is still difficult because of $Z_{\\beta}$. This is why we will construct a Markov chain having $\\pi_{\\beta}$ as its stationary distribution using the Metropolis-Hastings algorithm."
   ]
  },
  {
   "cell_type": "markdown",
   "metadata": {},
   "source": [
    "**b) Definition of the acceptance probabilities**"
   ]
  },
  {
   "cell_type": "markdown",
   "metadata": {},
   "source": [
    "Because if  $\\psi_{xy} = \\psi_{yx} = 0$ then $\\frac{0}{0} = 0$ and that in any other case, $\\frac{\\psi_{xy}}{\\psi_{yx}} = 1$, we can express the acceptance probabilities  as follows:\n",
    "\n",
    "$$\n",
    "a_{xy} = min(1, \\frac{\\pi_{\\beta}(y)}{\\pi_{\\beta}(x)}) =\\left\\{\n",
    "    \\begin{array}{ll}\n",
    "        min(1, e^{-\\beta (g(y) - g(x))}) & \\mbox{if x and y are neighbours}  \\\\\n",
    "        0 & \\mbox{otherwise.}\n",
    "    \\end{array}\n",
    "\\right.\n",
    "$$\n",
    "\n",
    "\n",
    "Note that here, the ${Z_{\\beta}}$ cancels out in the acceptance probabilities computation (this is why we used the Metropolis-Hastings algorithm to begin with).\n"
   ]
  },
  {
   "cell_type": "markdown",
   "metadata": {},
   "source": [
    "**c) Constructing the new chain**\n",
    "\n",
    "The transition probabilities of the new chain is defined as follows:\n",
    "\n",
    "$$\n",
    "p_{xy} = \\left\\{\n",
    "    \\begin{array}{ll}\n",
    "        \\psi_{xy}a_{xy} & \\mbox{if } x \\ne y  \\\\\n",
    "        1 - \\sum_{v\\ne x}\\psi_{xv}a_{xv} & x = y\n",
    "    \\end{array}\n",
    "\\right.\n",
    "$$\n",
    "\n",
    "Because $a_{xv} = 0$ when v is not a neighbour of y, the sum can be simplified. Let us note $A_x = \\{y \\in C | is\\_neighbour(x,y) == True\\}$, then:\n",
    "\n",
    "$$\n",
    "p_{xy} = \\left\\{\n",
    "    \\begin{array}{ll}\n",
    "        \\psi_{xy}a_{xy} & \\mbox{if } x \\ne y  \\\\\n",
    "        1 - \\sum_{v \\in A_x}\\psi_{xv}a_{xv} & x = y\n",
    "    \\end{array}\n",
    "\\right.\n",
    "$$\n",
    "\n",
    "Which is way easier to compute because the sum has now only n terms in it!\n",
    "\n",
    "It can be even more simplified if we write like this:\n",
    "\n",
    "$$\n",
    "p_{xy} = \\left\\{\n",
    "    \\begin{array}{ll}\n",
    "        \\psi_{xy}a_{xy} & \\mbox{if x and y are neighbours} \\\\\n",
    "        1 - \\sum_{v \\in A_x}\\psi_{xv}a_{xv} & \\mbox{if } x = y \\\\\n",
    "        0 & \\mbox{otherwise.}\n",
    "    \\end{array}\n",
    "\\right.\n",
    "$$\n",
    "\n",
    "Such a constructed chain will have the following property: $p_{xy}(n) \\xrightarrow[n \\to \\infty]{} \\pi_{\\beta}(y)$ $\\forall y$ in $C$"
   ]
  },
  {
   "cell_type": "markdown",
   "metadata": {},
   "source": [
    "The idea behind the `forward()` is to find way to pick where to go on the next step without having to compute all the p_xy of y in A_x (which is expensive).\n",
    "\n",
    "According to the lecture 11.2, one method would be to propose a move (propose to switch one of the digits), and then accept it with probability a_xy after having computed $\\Delta$ = g(y) - g(x). Reject it otherwise (meaning that the y will be x itself).\n",
    "\n",
    "Note: Instead of computing g(y) and then g(x) and then the difference of the two, one can remark that:\n",
    "\n",
    "- if x = y, $\\Delta$ = 0\n",
    "- if x $\\ne$ y, let's not k the index of the digit that has been changed.\n",
    "\n",
    "## **Relation to CHECK!**\n",
    "\n",
    "$\\Delta = f(\\lambda, x) - f(\\lambda, y) \\\\\n",
    "= [\\sum_{i \\in S_x}v_i - \\lambda \\cdot n \\cdot \\max\\limits_{(i,j) \\in S_x^2}\\pi(d(x_i,x_j)/2)^2] -  [\\sum_{i \\in S_y}v_i - \\lambda \\cdot n \\cdot \\max\\limits_{(i,j) \\in S_y^2}\\pi(d(x_i,x_j)/2)^2] \\\\\n",
    "= v_k \\cdot (x[k] - y[k]) - \\lambda \\cdot n \\cdot [\\max\\limits_{(i,j) \\in S_x^2}\\pi(d(x_i,x_j)/2)^2 - \\max\\limits_{(i,j) \\in S_y^2}\\pi(d(x_i,x_j)/2)^2] $\n",
    "\n",
    "## **Check the following fact because the function implenting this simplification of the max didn't work:**\n",
    "Instead of computing twice the max (with and without the one city changed), what we could do is to compute the max for when the city is added, and see if the k-th city intervenes in the max. If it does, then we have to calculate the second one. If it doesn't, having the k-th digit equal to 0 on the other vector will not change the maximum. Therefore the difference will be 0."
   ]
  },
  {
   "cell_type": "code",
   "execution_count": 15,
   "metadata": {},
   "outputs": [],
   "source": [
    "def vect_to_S(x):\n",
    "    \"\"\"\n",
    "    Compute the subset S of cities corresponding to the vector encoding\n",
    "    \n",
    "    Parameters\n",
    "    ----------\n",
    "    x: ndarray of shape (n,)\n",
    "    \n",
    "    Returns\n",
    "    -------\n",
    "    S: the subset of corresponding cities\n",
    "    \"\"\"\n",
    "    \n",
    "    return np.nonzero(x)[0]"
   ]
  },
  {
   "cell_type": "code",
   "execution_count": 16,
   "metadata": {},
   "outputs": [],
   "source": [
    "def max_distance(x,coords):\n",
    "    \"\"\"\n",
    "    Compute the pairwise distance between cities represented by x and return the maximum distance among all of them.\n",
    "    \n",
    "    Parameters\n",
    "    ----------\n",
    "    x: ndarray of shape (n,)\n",
    "    coords: (n,2) array coords containing for each cities its coordinates\n",
    "    \n",
    "    Return\n",
    "    ------\n",
    "    max_dist: float --> maximum distance among all pairwise distances between cities represented by x.\n",
    "    \"\"\"\n",
    "    \n",
    "    S_x = vect_to_S(x)\n",
    "    coords_S = coords[S_x]\n",
    "    return np.max(sp.spatial.distance.cdist(coords_S, coords_S, 'euclidean'))"
   ]
  },
  {
   "cell_type": "code",
   "execution_count": 17,
   "metadata": {},
   "outputs": [],
   "source": [
    "def Delta_computation(beta,x,y,k,params):\n",
    "    #TO OPTIMIZE, BECAUSE A LOT OF TIMES THE MAX DISTANCES ARE ALIKE! (ESPECIALLY WHEN K DOES NOT INTERVENE IN THE MAX)\n",
    "    \"\"\"\n",
    "    Compute g(y)-g(x) in a more effective manner than just computing both terms seperately.\n",
    "    \n",
    "    Parameters\n",
    "    ----------\n",
    "    beta: float\n",
    "    x: ndarray of shape (n,)\n",
    "    y: nadarray of shape (n,) --> the proposed move\n",
    "    k: int --> index of the digit that has been changed.\n",
    "    params: tuple containing the fixed value of the deployment cost lambda_, as well as the fixed value of cities n. \n",
    "    It also contains an (n,2) array coords containing for each cities its coordinates and another (n,) array  pop with respective population.\n",
    "    \n",
    "    Returns\n",
    "    -------\n",
    "    Delta: the difference between g(y) and g(x)\n",
    "    \"\"\"\n",
    "    \n",
    "    lambda_, n, coords, pop = params\n",
    "    \n",
    "    #Compute first part of the delta\n",
    "    Delta = pop[k] * (x[k] - y[k])\n",
    "    \n",
    "    if np.all((x==0)):\n",
    "        max_distance_matrix_x = 0\n",
    "        max_distance_matrix_y = max_distance(y, coords)\n",
    "        \n",
    "    elif np.all((y==0)):\n",
    "        max_distance_matrix_x = max_distance(x, coords)\n",
    "        max_distance_matrix_y = 0\n",
    "    \n",
    "    else:\n",
    "        max_distance_matrix_x = max_distance(x, coords)\n",
    "        max_distance_matrix_y = max_distance(y, coords)\n",
    "    \n",
    "    return Delta - (1/4) * lambda_ * n * np.pi * ((max_distance_matrix_x)**2 - (max_distance_matrix_y)**2)\n",
    "        "
   ]
  },
  {
   "cell_type": "code",
   "execution_count": 18,
   "metadata": {},
   "outputs": [],
   "source": [
    "def forward(beta,x,params):\n",
    "    \"\"\"\n",
    "    Apply one step of the Metropolis_Hastings algorithm\n",
    "    \n",
    "    Parameters\n",
    "    ----------\n",
    "    beta: float\n",
    "    x: ndarray of shape (n,)\n",
    "    params: tuple containing the fixed value of the deployment cost lambda_, as well as the fixed value of cities n. \n",
    "    It also contains an (n,2) array coords containing for each cities its coordinates and another (n,) array  pop with respective population.\n",
    "    \n",
    "    Returns\n",
    "    -------\n",
    "    y: one of the neighbours of x if the move is accepted, x otherwise.\n",
    "    \"\"\"\n",
    "    \n",
    "    lambda_, n, coords, pop = params\n",
    "    \n",
    "    #propose a move on this Symmetric Random Walk on hypercube of dimension n: switch one digit at random\n",
    "    \n",
    "    k = np.random.randint(0,n)\n",
    "    y = x.copy()\n",
    "    y[k] = (y[k] + 1)%2\n",
    "    \n",
    "    #Compute Delta\n",
    "    Delta = Delta_computation(beta,x,y,k,params)\n",
    "\n",
    "\n",
    "    #Compute acceptance probability\n",
    "    a_xy = min(1, np.exp(-beta * Delta))\n",
    "    \n",
    "    #We accept the move to y with probability y and reject it with probability 1-a_xy\n",
    "    move = np.random.choice([True,False],p=[a_xy, 1-a_xy])\n",
    "    \n",
    "    if move:\n",
    "        return y\n",
    "    else:\n",
    "        return x"
   ]
  },
  {
   "cell_type": "markdown",
   "metadata": {},
   "source": [
    "**Tuning of $\\beta$**\n",
    "\n",
    "- Start with $\\beta$ small (i.e. high temperature regime):  the algorithm will then visit all the states of C quite uniformly at the beginning. After a sufficiently high number of iterations, the Metropolized chain is roughly distributed as $\\pi_{\\beta}$.\n",
    "- Increase then $\\beta$(i.e. lower the temperature) and rerun the algorithm from the state found in the previous step.\n",
    "- Repeat step 2 until $\\beta$ is sufficiently large, so that one can be quite sure (i.e. with prob.  1−$\\epsilon$) to have reached a global minimum."
   ]
  },
  {
   "cell_type": "code",
   "execution_count": 19,
   "metadata": {},
   "outputs": [],
   "source": [
    "def metropolis_hastings(betas, n_iter, params):\n",
    "    \"\"\"\n",
    "    Follow the Tuning beta procedure:\n",
    "    - Start with $\\beta$ small (i.e. high temperature regime):  the algorithm will then visit all the states of C quite uniformly at the beginning. After a sufficiently high number of iterations, the Metropolized chain is roughly distributed as $\\pi_{\\beta}$.\n",
    "    - Increase then $\\beta$(i.e. lower the temperature) and rerun the algorithm from the state found in the previous step.\n",
    "    - Repeat step 2 until $\\beta$ is sufficiently large, so that one can be quite sure (i.e. with prob.  1−$\\epsilon$) to have reached a global minimum.\n",
    "    \n",
    "    Parameters\n",
    "    ----------\n",
    "    betas: list of increasing beta (floats)\n",
    "    n_iter: int, number of iteration for each temperature\n",
    "    params: tuple containing the fixed value of the deployment cost lambda_, as well as the fixed value of cities n. \n",
    "    It also contains an (n,2) array coords containing for each cities its coordinates and another (n,) array  pop with respective population.\n",
    "    \n",
    "    Returns\n",
    "    -------\n",
    "    S^*(lambda)_approx: the approximation of the optimizing set.\n",
    "    \"\"\"\n",
    "    #We start by picking a random state on the hypercube of dimension n\n",
    "    x = np.random.randint(0,2,100)\n",
    "\n",
    "    #We decrease the temperature little bit by little bit\n",
    "    for beta in betas:\n",
    "        start = time.time()\n",
    "        #At each temperature we do n_iter number of iterations so that the Metropolized chain is rougly distributed as pi_beta\n",
    "        for n in range(n_iter):\n",
    "            x = forward(beta,x,params)\n",
    "        print(\"Time spent on beta = {:.3f} : {:.3f} sec\".format(beta,time.time()-start))\n",
    "    return vect_to_S(x) + 1 #to put it back to cities 1 to n and not 0 to n-1"
   ]
  },
  {
   "cell_type": "markdown",
   "metadata": {},
   "source": [
    "For question 2.a."
   ]
  },
  {
   "cell_type": "code",
   "execution_count": 20,
   "metadata": {},
   "outputs": [],
   "source": [
    "def plot_a():\n",
    "    \"\"\"\n",
    "    Plots the evolution of the objective function \n",
    "    \"\"\"\n",
    "    return\n",
    "    "
   ]
  },
  {
   "cell_type": "markdown",
   "metadata": {},
   "source": [
    "For question 2.b."
   ]
  },
  {
   "cell_type": "code",
   "execution_count": 21,
   "metadata": {},
   "outputs": [],
   "source": [
    "def plot_b():\n",
    "    return"
   ]
  },
  {
   "cell_type": "markdown",
   "metadata": {},
   "source": [
    "### **2. Testing the implementation** \n",
    "\n",
    "Generate G_1 according to the generative model G1"
   ]
  },
  {
   "cell_type": "code",
   "execution_count": 22,
   "metadata": {},
   "outputs": [],
   "source": [
    "G_1 = G1()"
   ]
  },
  {
   "cell_type": "code",
   "execution_count": 23,
   "metadata": {},
   "outputs": [
    {
     "name": "stdout",
     "output_type": "stream",
     "text": [
      "78\n"
     ]
    },
    {
     "name": "stderr",
     "output_type": "stream",
     "text": [
      "<ipython-input-18-b12804919efb>:29: RuntimeWarning: overflow encountered in exp\n",
      "  a_xy = min(1, np.exp(-beta * Delta))\n"
     ]
    },
    {
     "name": "stdout",
     "output_type": "stream",
     "text": [
      "Time spent on beta = 1.000 : 2.668 sec\n",
      "Time spent on beta = 3.162 : 2.615 sec\n",
      "Time spent on beta = 10.000 : 2.663 sec\n",
      "Time spent on beta = 31.623 : 2.629 sec\n",
      "Time spent on beta = 100.000 : 2.716 sec\n",
      "Time spent on beta = 316.228 : 2.755 sec\n",
      "Time spent on beta = 1000.000 : 2.851 sec\n",
      "[72]\n",
      "1\n"
     ]
    }
   ],
   "source": [
    "def testing_metropolis(G, betas, lambda_, n_iter):\n",
    "    n = 100\n",
    "    coords = G_1.x\n",
    "    pop = G_1.v\n",
    "    print(np.argmax(pop) + 1)\n",
    "    params = (lambda_, n, coords, pop)\n",
    "    S_approx = metropolis_hastings(betas,n_iter,params)\n",
    "    print(S_approx)\n",
    "    print(len(S_approx))\n",
    "    \n",
    "testing_metropolis(G1(), np.logspace(0,3,7), 100 , 20000)"
   ]
  },
  {
   "cell_type": "markdown",
   "metadata": {},
   "source": [
    "Sometimes I get the error: <ipython-input-18-b12804919efb>:29: RuntimeWarning: overflow encountered in exp\n",
    "  a_xy = min(1, np.exp(-beta * Delta))... It doesn't harm the result but it's not pretty --> **TO INVESTIGATE**"
   ]
  },
  {
   "cell_type": "code",
   "execution_count": 24,
   "metadata": {},
   "outputs": [
    {
     "name": "stdout",
     "output_type": "stream",
     "text": [
      "78\n",
      "Time spent on beta = 1.000 : 1.754 sec\n",
      "Time spent on beta = 3.162 : 2.066 sec\n",
      "Time spent on beta = 10.000 : 2.451 sec\n",
      "Time spent on beta = 31.623 : 2.578 sec\n",
      "Time spent on beta = 100.000 : 2.598 sec\n",
      "Time spent on beta = 316.228 : 2.549 sec\n",
      "Time spent on beta = 1000.000 : 2.537 sec\n",
      "[  1   2   3   4   5   6   7   8   9  10  11  12  13  14  15  16  17  18\n",
      "  19  20  21  22  23  24  25  26  27  28  29  30  31  32  33  34  35  36\n",
      "  37  38  39  40  41  42  43  44  45  46  47  48  49  50  51  52  53  54\n",
      "  55  56  57  58  59  60  61  62  63  64  65  66  67  68  69  70  71  72\n",
      "  73  74  75  76  77  78  79  80  81  82  83  84  85  86  87  88  89  90\n",
      "  91  92  93  94  95  96  97  98  99 100]\n",
      "100\n"
     ]
    }
   ],
   "source": [
    "testing_metropolis(G1(), np.logspace(0,3,7), 0, 10000)"
   ]
  },
  {
   "cell_type": "code",
   "execution_count": null,
   "metadata": {},
   "outputs": [],
   "source": []
  }
 ],
 "metadata": {
  "colab": {
   "authorship_tag": "ABX9TyMHjD1LWevMEBRvKxj7qq4T",
   "collapsed_sections": [],
   "include_colab_link": true,
   "name": "model.ipynb",
   "provenance": []
  },
  "kernelspec": {
   "display_name": "Python 3",
   "language": "python",
   "name": "python3"
  },
  "language_info": {
   "codemirror_mode": {
    "name": "ipython",
    "version": 3
   },
   "file_extension": ".py",
   "mimetype": "text/x-python",
   "name": "python",
   "nbconvert_exporter": "python",
   "pygments_lexer": "ipython3",
   "version": "3.8.3"
  }
 },
 "nbformat": 4,
 "nbformat_minor": 4
}
